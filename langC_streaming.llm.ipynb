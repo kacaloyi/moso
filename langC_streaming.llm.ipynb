{
 "cells": [
  {
   "cell_type": "markdown",
   "id": "6eaf7e66-f49c-42da-8d11-22ea13bef718",
   "metadata": {},
   "source": [
    "# How to stream LLM responses\n",
    "\n",
    "LangChain provides streaming support for LLMs. Currently, we only support streaming for the `OpenAI` and `ChatOpenAI` LLM implementation, but streaming support for other LLM implementations is on the roadmap. To utilize streaming, use a [`CallbackHandler`](https://github.com/hwchase17/langchain/blob/master/langchain/callbacks/base.py) that implements `on_llm_new_token`. In this example, we are using [`StreamingStdOutCallbackHandler`]()."
   ]
  },
  {
   "cell_type": "code",
   "execution_count": null,
   "id": "4ac0ff54-540a-4f2b-8d9a-b590fec7fe07",
   "metadata": {
    "tags": []
   },
   "outputs": [],
   "source": [
    "from langchain.llms import OpenAI\n",
    "from langchain.chat_models import ChatOpenAI\n",
    "from langchain.callbacks.base import CallbackManager\n",
    "from langchain.callbacks.streaming_stdout import StreamingStdOutCallbackHandler\n",
    "from langchain.schema import HumanMessage\n",
    "\n",
    "import os\n",
    "#os.environ[\"OPENAI_API_KEY\"]=\"sk-\"\n",
    "llm = OpenAI(streaming=True, callback_manager=CallbackManager([StreamingStdOutCallbackHandler()]), verbose=True, temperature=0)\n",
    "resp = llm(\"写一首关于勤劳的公鸡的歌.\")"
   ]
  },
  {
   "cell_type": "markdown",
   "id": "61fb6de7-c6c8-48d0-a48e-1204c027a23c",
   "metadata": {
    "tags": []
   },
   "source": [
    "We still have access to the end `LLMResult` if using `generate`. However, `token_usage` is not currently supported for streaming."
   ]
  },
  {
   "cell_type": "code",
   "execution_count": null,
   "id": "a35373f1-9ee6-4753-a343-5aee749b8527",
   "metadata": {
    "tags": []
   },
   "outputs": [],
   "source": [
    "llm.generate([\"讲个中国小笑话.\"])"
   ]
  },
  {
   "cell_type": "markdown",
   "id": "a93a4d61-0476-49db-8321-7de92bd74059",
   "metadata": {},
   "source": [
    "Here's an example with `ChatOpenAI`:"
   ]
  },
  {
   "cell_type": "code",
   "execution_count": null,
   "id": "22665f16-e05b-473c-a4bd-ad75744ea024",
   "metadata": {
    "tags": []
   },
   "outputs": [],
   "source": [
    "chat = ChatOpenAI(streaming=True, callback_manager=CallbackManager([StreamingStdOutCallbackHandler()]), verbose=True, temperature=0)\n",
    "resp = chat([HumanMessage(content=\"写一首儿歌，爱干净的小猫咪.\")])"
   ]
  },
  {
   "cell_type": "code",
   "execution_count": null,
   "id": "eadae4ba-9f21-4ec8-845d-dd43b0edc2dc",
   "metadata": {},
   "outputs": [],
   "source": []
  }
 ],
 "metadata": {
  "kernelspec": {
   "display_name": "Python 3 (ipykernel)",
   "language": "python",
   "name": "python3"
  },
  "language_info": {
   "codemirror_mode": {
    "name": "ipython",
    "version": 3
   },
   "file_extension": ".py",
   "mimetype": "text/x-python",
   "name": "python",
   "nbconvert_exporter": "python",
   "pygments_lexer": "ipython3",
   "version": "3.10.10"
  }
 },
 "nbformat": 4,
 "nbformat_minor": 5
}
