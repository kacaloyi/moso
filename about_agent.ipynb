{
 "cells": [
  {
   "attachments": {},
   "cell_type": "markdown",
   "metadata": {},
   "source": [
    "#关于Agent\n",
    "需求：\n",
    "1、可以切换不同的用户，各自的聊天记录和对话环境（room）互不干扰\n",
    "2、可以加载不同的prompt扮演不同的角色。\n",
    "3、保持上下文，最好能记住关键词，能提炼关键词记住关键词。或者，有无穷大的memery\n",
    "4、给tools留下空间。要有两个tools\n",
    "   4.1 能看网页，在上下文自动提取网页地址并浏览获取信息。\n",
    "   4.2 能搜索信息，比如搜索百度。\n",
    "   4.3 能上传文件，并基于文件对话。比如上传佛经扮演上师，上传客户指导扮演客服、扮演老师讲题。等等\n",
    "   4.4 能画图，自己生成咒语，出图。api\n",
    "   \n",
    "解决方案：\n",
    "1、必须是Agent，要有tools和memery的预留空间。\n",
    "2、prompte template可变。\n",
    "3、memery基于key可以替换，可以存储，可以提取。\n",
    "4、支持语义搜索数据库，存储上传的文件和对话记录。\n",
    "5、tools。\n",
    "6、需要自主功能吗？比如总结整个文件的内容，等等。一个文件片段包含不下的内容，就需要自主功能来解决。\n",
    "\n",
    "#矢量数据库 https://www.activeloop.ai/ DeepLake\n"
   ]
  },
  {
   "cell_type": "code",
   "execution_count": null,
   "metadata": {},
   "outputs": [],
   "source": [
    "from langchain.memory import ChatMessageHistory\n",
    "from langchain.schema import messages_from_dict, messages_to_dict\n",
    "\n",
    "history = ChatMessageHistory()\n",
    "\n",
    "history.add_user_message(\"嗨!\")\n",
    "history.add_ai_message(\"咋了?\")\n",
    "\n",
    "history.add_user_message(\"你瞅啥!\")\n",
    "history.add_ai_message(\"瞅你咋地?\")\n",
    "\n",
    "\n",
    "\n",
    "dicts = messages_to_dict(history.messages)\n",
    "\n",
    "dicts \n"
   ]
  },
  {
   "cell_type": "code",
   "execution_count": null,
   "metadata": {},
   "outputs": [],
   "source": [
    "\n",
    "history.messages = messages_from_dict(dicts)\n",
    "history.messages"
   ]
  },
  {
   "cell_type": "code",
   "execution_count": null,
   "metadata": {},
   "outputs": [],
   "source": [
    "fakeDB = [\n",
    "    {'userid':1,'history':[{'type': 'human', 'data': {'content': '嗨!', 'additional_kwargs': {}}},\n",
    "                            {'type': 'ai', 'data': {'content': '咋了?', 'additional_kwargs': {}}},\n",
    "                            {'type': 'human', 'data': {'content': '你瞅啥!', 'additional_kwargs': {}}},\n",
    "                            {'type': 'ai', 'data': {'content': '瞅你咋地?', 'additional_kwargs': {}}}]\n",
    "                            },\n",
    "    {'userid':2,'history':[{'type': 'ai', 'data': {'content': '来了老弟!', 'additional_kwargs': {}}},\n",
    "                            {'type': 'human', 'data': {'content': '来了嫂子', 'additional_kwargs': {}}},\n",
    "                            {'type': 'ai', 'data': {'content': '今天吃点儿啥呀!', 'additional_kwargs': {}}},\n",
    "                            {'type': 'human', 'data': {'content': '能有啥呀，整个煎饼果子吧', 'additional_kwargs': {}}}]\n",
    "                            },\n",
    "\n",
    "\n",
    "]\n",
    "\n",
    "def get_history_by_uid(usrid):\n",
    "    for db in fakeDB:\n",
    "        if db['userid']  == usrid:\n",
    "            return db['history']\n",
    "        \n",
    "\n",
    "db = get_history_by_uid(2)\n",
    "db"
   ]
  },
  {
   "cell_type": "code",
   "execution_count": null,
   "metadata": {},
   "outputs": [],
   "source": [
    "history.clear()\n",
    "history.messages = messages_from_dict(get_history_by_uid(2))\n",
    "\n",
    "history.messages"
   ]
  },
  {
   "cell_type": "code",
   "execution_count": 11,
   "metadata": {},
   "outputs": [
    {
     "data": {
      "text/plain": [
       "{'messages': [{'content': '嘿!', 'additional_kwargs': {}},\n",
       "  {'content': '咋了?', 'additional_kwargs': {}}]}"
      ]
     },
     "execution_count": 11,
     "metadata": {},
     "output_type": "execute_result"
    }
   ],
   "source": [
    "from langchain.embeddings.openai import OpenAIEmbeddings\n",
    "from langchain.chat_models import ChatOpenAI\n",
    "from langchain.memory import ConversationBufferMemory\n",
    "from langchain.memory import ConversationBufferWindowMemory\n",
    "\n",
    "\n",
    "import json\n",
    "from langchain.schema import messages_from_dict, messages_to_dict\n",
    "\n",
    "memory=ConversationBufferWindowMemory(k=6)\n",
    "\n",
    "memory.chat_memory.add_user_message(\"嘿!\")\n",
    "memory.chat_memory.add_ai_message(\"咋了?\")\n",
    "memory.chat_memory.dict()\n",
    "#memory.save_context()"
   ]
  },
  {
   "cell_type": "code",
   "execution_count": 33,
   "metadata": {},
   "outputs": [
    {
     "data": {
      "text/plain": [
       "{'history': 'Human: 嘿!\\nAI: 咋了?'}"
      ]
     },
     "execution_count": 33,
     "metadata": {},
     "output_type": "execute_result"
    }
   ],
   "source": [
    "memory.load_memory_variables({})\n"
   ]
  },
  {
   "cell_type": "code",
   "execution_count": 51,
   "metadata": {},
   "outputs": [
    {
     "data": {
      "text/plain": [
       "{'chat_memory': {'messages': [{'content': '来了老弟!', 'additional_kwargs': {}},\n",
       "   {'content': '来了嫂子?', 'additional_kwargs': {}},\n",
       "   {'content': '今天吃点儿啥呀!', 'additional_kwargs': {}},\n",
       "   {'content': '能有啥呀，整个煎饼果子吧', 'additional_kwargs': {}}]},\n",
       " 'output_key': None,\n",
       " 'input_key': None,\n",
       " 'return_messages': False,\n",
       " 'human_prefix': 'Human',\n",
       " 'ai_prefix': 'AI',\n",
       " 'memory_key': 'user_2',\n",
       " 'k': 6}"
      ]
     },
     "execution_count": 51,
     "metadata": {},
     "output_type": "execute_result"
    }
   ],
   "source": [
    "memory.clear()\n",
    "#模拟切换用户，换memory_key作为用户索引，chat_memory作为用户的对话上下文。\n",
    "memory.memory_key = \"user_2\" \n",
    "memory.chat_memory.messages =  messages_from_dict(get_history_by_uid(2))\n",
    "memory.dict()"
   ]
  },
  {
   "cell_type": "code",
   "execution_count": null,
   "metadata": {},
   "outputs": [],
   "source": [
    "memory.load_memory_variables({})"
   ]
  },
  {
   "cell_type": "code",
   "execution_count": 5,
   "metadata": {},
   "outputs": [],
   "source": [
    "from langchain.utilities import TextRequestsWrapper\n",
    "from langchain.agents import Tool\n",
    "\n",
    "requests = TextRequestsWrapper()\n",
    "\n",
    "request_tool = Tool(\n",
    "    name = \"requests\",\n",
    "    func =  requests.get,\n",
    "    description=\"用于获取网页内容，送入参数是网页的url地址，返回网页内容\",\n",
    "\n",
    ")"
   ]
  },
  {
   "cell_type": "code",
   "execution_count": 4,
   "metadata": {},
   "outputs": [
    {
     "data": {
      "text/plain": [
       "'<!DOCTYPE html PUBLIC \"-//W3C//DTD XHTML 1.0 Transitional//EN\" \"http://www.w3.org/TR/xhtml1/DTD/xhtml1-transitional.dtd\">\\r\\n<html xmlns=\"http://www.w3.org/1999/xhtml\">\\r\\n<head>\\r\\n<meta http-equiv=\"Content-Type\" content=\"text/html; charset=gb2312\" />\\r\\n<meta http-equiv=\"Cache-Control\" content=\"no-transform\" />\\r\\n<meta http-equiv=\"Cache-Control\" content=\"no-siteapp\" />\\r\\n<meta name=\"applicable-device\" content=\"pc\">\\r\\n<meta name=\"mobile-agent\"content=\"format=xhtml;url=https://m.hrfjw.com/fojing/liuzutanjing/198840.html\" />\\r\\n<meta name-equiv=\"mobile-agent\" content=\"format=html5;url=https://m.hrfjw.com/fojing/liuzutanjing/198840.html\" />\\r\\n<title>¡¶Áù×æÌ³¾\\xad¡·¶þÊ®ËÄ¾«ÂÛ - »ªÈË·ð½ÌÍø</title>\\r\\n<meta name=\"keywords\" content=\"Áù×æÌ³¾\\xad\" />\\r\\n<meta name=\"description\" content=\"¡¡¡¡·ð½Ììø×Ú´Ó¶þÊ®°Ë×æÆÐÌá´ïÄ¦µ½ìø×ÚÈýÊ®ËÄ×æ£¬¾\\xad¶«ÍÁÖÐ»ªÁù×æ»ÛÄÜ´óÊ¦µÄ·¨Âö´«³ÐÓë×¿Ô½ºëÑï£¬¿ª´´ÁËìø×Ú¡°Ò»»¨ÎåÒ¶¡±µÄÐËÊ¢¾ÖÃæ¡£ÔÚ´óÌÆÊ¢ÊÀÊ±ÆÚ£¬·ð½Ì³É¹¦µØÊµÏÖÁË×ÔÎÒ¸ïÐÂ£¬¾\\xadÀú´úìø×Ú×æÊ¦´óµÂµÄ²»Ð¸Å¬Á¦£¬½ø¶øÐÎ³ÉÈåÊÍµÀÈý×ã¶¦Á¢µÄÖÐ¹úÎÄ»¯¸ñ¾Ö¡£\" />\\r\\n<base target=\"_blank\">\\r\\n<script type=\"text/javascript\" src=\"https://www.hrfjw.com/statics/liaotuo/js/jquery.min.js\"></script>\\r\\n<!--Ñ¡Ïî¿¨-->\\r\\n<script>\\r\\nfunction setTab(m,n){\\r\\n var tli=document.getElementById(\"menu\"+m).getElementsByTagName(\"li\");\\r\\n var mli=document.getElementById(\"main\"+m).getElementsByTagName(\"ul\");\\r\\n for(i=0;i<tli.length;i++){\\r\\n  tli[i].className=i==n?\"hover\":\"\";\\r\\n  mli[i].style.display=i==n?\"block\":\"none\";\\r\\n }\\r\\n}\\r\\n</script>\\r\\n</head>\\r\\n<body>\\r\\n<!--ÊÖ»ú¶ËÅÐ¶Ïstart-->\\r\\n<script src=\"https://www.hrfjw.com/statics/liaotuo/js/mcheck.js\"></script>\\r\\n<script type=\"text/javascript\">\\r\\nif(jQuery.browser.mobile){\\r\\n    var url=window.location.href;\\r\\n    window.location.href=url.replace(/www./, \"m.\");\\r\\n}\\r\\n</script>\\r\\n<!--ÊÖ»ú¶ËÅÐ¶Ïend-->\\r\\n<div class=\"header\">\\r\\n<div class=\"box_top\">\\r\\n\\t<div class=\"box_top1\">\\r\\n    \\t<div class=\"box_top2\" style=\"overflow:hidden;\">\\r\\n        \\t<li><a href=\"https://www.hrfjw.com/map/\">ÍøÕ¾µØÍ¼</a></li>\\r\\n           \\t<li><a href=\"https://www.hrfjw.com/tg.html\">»¶Ó\\xadÍ¶¸å</a></li>\\r\\n           \\t<li><a href=\"javascript:\" onclick=\"dr_set_homepage(\\'https://www.hrfjw.com/\\'); return false;\">ÉèÎªÊ×Ò³</a></li>\\r\\n            <li><a href=\"javascript:\" onclick=\"dr_add_favorite(\\'https://www.hrfjw.com/\\',\\'»ªÈË·ð½ÌÍø - ´«²¥ÕýÐÅÕýÖª·ð·¨µÄÖÐ¹ú·ð½ÌÍøÕ¾\\');return false;\">ÊÕ²Ø±¾Õ¾</a></li>\\r\\n            <li><a href=\"javascript:\" onclick=\"toDesktop(\\'https://www.hrfjw.com/\\',\\'»ªÈË·ð½ÌÍø - ´«²¥ÕýÐÅÕýÖª·ð·¨µÄÖÐ¹ú·ð½ÌÍøÕ¾\\');return false;\">·Åµ½×ÀÃæ</a></li>\\r\\n            <li><a href=\"https://m.hrfjw.com/\">ÊÖ»ú°æ</a></li>\\r\\n            <li class=\"box_bk\"><a id=\"translateLink\" href=\"\" class=\"top_typeface\">·±ów</a></li>\\r\\n        </div>\\r\\n    </div>\\r\\n</div>\\r\\n   \\r\\n\\r\\n <div class=\"height10\"></div>\\r\\n    \\r\\n    <div class=\"hd\">\\r\\n        <div class=\"logo\">\\r\\n            <a href=\"https://www.hrfjw.com/\" style=\"float:left;\"><img src=\"https://www.hrfjw.com/statics/liaotuo/images/tongyi/logo.jpg\" width=\"160\" height=\"66\" alt=\"»ªÈË·ð½ÌÍø\" title=\"»ªÈË·ð½ÌÍø\"></a>\\r\\n        </div>\\r\\n        <div class=\"serachV9\">\\r\\n            <form action=\"https://www.hrfjw.com/index.php\" method=\"get\" target=\"_blank\">\\r\\n                <input type=\"hidden\" name=\"m\" value=\"search\">\\r\\n                <input type=\"hidden\" name=\"c\" value=\"index\">\\r\\n                <input type=\"hidden\" name=\"a\" value=\"init\">\\r\\n                <input type=\"text\" class=\"textV9\" name=\"q\" id=\"q\" value=\"ÊäÈëÎÄ×Ö ËÑË÷ÄÚÈÝ\" onfocus=\"if(this.value==\\'ÊäÈëÎÄ×Ö ËÑË÷ÄÚÈÝ\\'){this.value=\\'\\';}\" onblur=\"if (this.value==\\'\\'){this.value=\\'ÊäÈëÎÄ×Ö ËÑË÷ÄÚÈÝ\\';}\">\\r\\n                <input type=\"submit\" value=\"\" class=\"buttonV9\">\\r\\n            </form>\\r\\n        </div>\\r\\n        <div class=\"hot_sou\">\\r\\n            <p>\\r\\n                <span>ÈÈËÑ£º</span>\\r\\n                <a href=\"https://www.hrfjw.com/fozhou/dabeizhou/quanwen.html\">´ó±¯ÖäÈ«ÎÄ</a><a href=\"https://www.hrfjw.com/remen/\">·ð½ÌÃû´Ê</a><a href=\"https://www.hrfjw.com/fjrw/hcrw/jqfs1/\">¼ÃÈº·¨Ê¦</a></p><p style=\"margin-left:42px;\"><a href=\"https://www.hrfjw.com/fozhou/liuzidamingzhou/\">Áù×Ö´óÃ÷Öä</a><a href=\"https://www.hrfjw.com/fojing/jingangjing/yuanwen.html\">½ð¸Õ¾\\xadÔ\\xadÎÄ</a><a href=\"https://www.hrfjw.com/fojing/dizangjing/\">µØ²Ø¾\\xad</a>\\r\\n            </p>\\r\\n        </div>\\r\\n    </div>\\r\\n    \\r\\n    <div class=\"height10\"></div>\\r\\n    \\r\\n    <div class=\"F1\">\\r\\n        <ul>\\r\\n          <li><a href=\"https://www.hrfjw.com/\" title=\"»ªÈË·ð½ÌÍø\" target=\"_self\">Ê×Ò³</a></li>\\r\\n          <li><a href=\"https://www.hrfjw.com/foxue/\" title=\"·ðÑ§ÈëÃÅ\" target=\"_self\">ÈëÃÅ</a></li>\\r\\n          <li><a href=\"https://www.hrfjw.com/fojing/\" title=\"·ð¾\\xad´óÈ«\" target=\"_self\">·ð¾\\xad</a></li>\\r\\n          <li><a href=\"https://www.hrfjw.com/fozhou/\" title=\"·ðÖä´óÈ«\" target=\"_self\">·ðÖä</a></li>\\r\\n          <li><a href=\"https://www.hrfjw.com/fojiaogushi/\" title=\"·ð½Ì¹ÊÊÂ\" target=\"_self\">·ð½Ì¹ÊÊÂ</a></li>\\r\\n          <li><a href=\"https://www.hrfjw.com/fjrw/\" title=\"·ð½ÌÈËÎï\" target=\"_self\">·ð½ÌÈËÎï</a></li>\\r\\n          <li><a href=\"https://www.hrfjw.com/wenda/\" title=\"·ð½ÌÎÊ´ð\" target=\"_self\">ÎÊ´ð</a></li>\\r\\n          <li><a href=\"https://www.hrfjw.com/fangsheng/\" title=\"·ð½Ì·ÅÉú\" target=\"_self\">·ÅÉú</a></li>\\r\\n          <li><a href=\"https://www.hrfjw.com/jingtuzong/\" title=\"¾»ÍÁ×Ú\" target=\"_self\">¾»×Ú</a></li>\\r\\n          <li><a href=\"https://www.hrfjw.com/chanzong/\" title=\"·ð½Ììø×Ú\" target=\"_self\">ìø×Ú</a></li>\\r\\n          <li><a href=\"https://www.hrfjw.com/sheli/\" title=\"·ð¹ÇÉáÀû\" target=\"_self\">ÉáÀû</a></li>\\r\\n                    <li><a href=\"https://www.hrfjw.com/ctwh/\" title=\"´«Í³ÎÄ»¯\" target=\"_self\">´«Í³ÎÄ»¯</a></li>\\r\\n          \\t\\t  <li><a href=\"https://www.hrfjw.com/remen/\" title=\"·ð½ÌÃû´Ê\" target=\"_blank\">·ð½ÌÃû´Ê</a></li>\\r\\n\\t\\t  <li><a href=\"https://www.hrfjw.com/focha/\" title=\"ìø²èÒ»Î¶\" target=\"_blank\">ìø²èÒ»Î¶</a></li>\\r\\n        </ul>\\r\\n    </div>\\r\\n    \\r\\n    <div class=\"height10\"></div>\\r\\n\\t\\r\\n    <div class=\"kuan960\">\\r\\n\\t\\t<div style=\"float:left;width:680px;margin-right:20px;\">\\r\\n\\r\\n<script language=\"javascript\" src=\"https://www.hrfjw.com/caches/hengfu/19083.js\"></script>\\r\\n\\r\\n\\r\\n</div>\\r\\n\\t\\t<div style=\"float:left;width:260px;\">\\r\\n\\r\\n<script language=\"javascript\" src=\"https://www.hrfjw.com/caches/hengfu/19084.js\"></script>\\r\\n\\r\\n\\r\\n</div>\\r\\n\\t</div>\\r\\n    \\r\\n    <div class=\"height10\"></div>\\r\\n<style>\\r\\n.F2 ul li{width:104px;text-align:center}\\r\\n</style>\\r\\n<link type=\"text/css\" rel=\"stylesheet\" href=\"https://www.hrfjw.com/statics/liaotuo/css/fojing/style.css\" />\\r\\n    <div class=\"F2\">\\r\\n        <ul>\\r\\n\\t\\t\\t<li class=\" F2_sy\"><b><a href=\"https://www.hrfjw.com/fojing/\" target=\"_self\">·ð¾\\xad´óÈ«</a></b></li>\\r\\n\\t\\t\\t<li class=\"\"><a href=\"https://www.hrfjw.com/fojing/yuanwen/\" target=\"_self\">·ð¾\\xadÔ\\xadÎÄ</a></li>\\r\\n\\t\\t\\t<li class=\"\"><a href=\"https://www.hrfjw.com/fojing/yiwen/\" target=\"_self\">·ð¾\\xadÒëÎÄ</a></li>\\r\\n\\t\\t\\t<li class=\"\"><a href=\"https://www.hrfjw.com/fojing/zhuyin/\" target=\"_self\">·ð¾\\xad×¢Òô</a></li>\\r\\n\\t\\t\\t<li class=\"\"><a href=\"https://www.hrfjw.com/fojing/jiangjie/\" target=\"_self\">·ð¾\\xad½²½â</a></li>\\r\\n\\t\\t\\t\\t\\t\\t<li class=\"\"><a href=\"https://www.hrfjw.com/fojing/wenzhang/\" target=\"_self\">·ð¾\\xadÎÄÕÂ</a></li>\\r\\n\\t\\t\\t<li class=\"\"><a href=\"https://www.hrfjw.com/fojing/rumen/\" target=\"_self\">·ð¾\\xadÈëÃÅ</a></li>\\r\\n\\t\\t\\t<li class=\"\"><a href=\"https://www.hrfjw.com/dazangjing/\" target=\"_blank\">´ó²Ø¾\\xad</a></li>\\r\\n\\t\\t\\t<li class=\"\"><a href=\"https://www.hrfjw.com/qldzj/\" target=\"_blank\">Ç¬Â¡´ó²Ø¾\\xad</a></li>\\r\\n        </ul>\\r\\n    </div>\\r\\n</div>\\r\\n\\r\\n\\r\\n\\t\\r\\n\\r\\n\\t \\r\\n\\r\\n \\r\\n\\r\\n<div class=\"content\">\\r\\n\\t\\r\\n    <div class=\"height10\"></div>\\r\\n\\r\\n\\t<div class=\"kuan960\">\\r\\n\\t\\t<div class=\"B2\">\\r\\n        <i></i>\\r\\n        <span>\\r\\n            <h1>Áù×æÌ³¾\\xad</h1>\\r\\n            <p>¡¶Áù×æÌ³¾\\xad¡·£¬·ð½Ììø×Úµä¼®¡£Òà³Æ¡¶Ì³¾\\xad¡·¡¢¡¶Áù×æ´óÊ¦·¨±¦Ì³¾\\xad¡·£¬È«³Æ¡¶ÄÏ×Ú¶Ù½Ì×îÉÏ´ó³ËÄ¦Ú\\xad°ãÈô²¨ÂÞÃÛ¾\\xadÁù×æ»ÝÄÜ´óÊ¦ÓÚÉØÖÝ´óèóËÂÊ©·¨Ì³¾\\xad¡·¡£ìø×ÚÁù×æ»ÝÄÜËµ£¬µÜ×Ó·¨º£¼¯Â¼¡£¡¶ÊÍÃÅÕýÍ³¡·¾í°Ë¡¶ÒåÌì´«¡·ÓÐ¡°´óÁÉ»ÊµÛÚ¯ÓÐË¾ÁîÒåÑ§É³ÃÅÚ¹ÏþµÈÔÙ¶¨¾\\xadÂ¼£¬ÊÀËùÎ½¡¶Áù×æÌ³¾\\xad¡·¡¢¡¶±¦ÁÖ´«¡·µÈ..<a href=\"https://www.hrfjw.com/foxue/zhishi/74099.html\">[ÏêÇé]</a>\\r\\n</p>\\r\\n        </span>\\r\\n        <em></em>   \\r\\n    </div>\\r\\n    <div class=\"kuan960\">\\r\\n        <div class=\"F3\">\\r\\n            <b>\\r\\n\\t\\t  <a class=\"F3_hover\" href=\"https://www.hrfjw.com/fojing/liuzutanjing/\" title=\"·ðËµÁù×æÌ³¾\\xad\" target=\"_self\">Áù×æÌ³¾\\xad</a>\\r\\n                <a href=\"https://www.hrfjw.com/fojing/liuzutanjing/yuanwen.html\" title=\"Áù×æÌ³¾\\xadÔ\\xadÎÄ\" target=\"_self\">Ô\\xadÎÄ</a>\\r\\n<a href=\"https://www.hrfjw.com/fojing/liuzutanjing/yiwen.html\" title=\"Áù×æÌ³¾\\xadÒëÎÄ\" target=\"_self\">ÒëÎÄ</a>\\r\\n<a href=\"https://www.hrfjw.com/foxue/zhishi/lztjrm.html\" title=\"Áù×æÌ³¾\\xadÈëÃÅ\" target=\"_self\">ÈëÃÅ</a>\\r\\n<a href=\"https://www.hrfjw.com/fojing/liuzutanjing/77617.html\" title=\"Áù×æÌ³¾\\xad½²½â\" target=\"_self\">½²½â</a>\\r\\n<a href=\"https://www.hrfjw.com/wenda/fenlei/77711.html\" title=\"Áù×æÌ³¾\\xadÎÊ´ð\" target=\"_self\">ÎÊ´ð</a>\\r\\n<a href=\"https://www.hrfjw.com/fojing/liuzutanjing/77618.html\" title=\"Áù×æÌ³¾\\xadÎÄÕÂ\" target=\"_self\">ÎÄÕÂ</a>\\r\\n\\t\\r\\n            </b>\\r\\n        </div>\\r\\n    </div>\\r\\n<!--F3¶¨Î»-->\\r\\n<script>\\r\\n$.fn.smartFloat = function() { \\r\\n    var position = function(element) { \\r\\n        var top = element.position().top; //µ±Ç°ÔªËØ¶ÔÏóelement¾àÀëä¯ÀÀÆ÷ÉÏ±ßÔµµÄ¾àÀë \\r\\n        var pos = element.css(\"position\"); //µ±Ç°ÔªËØ¾àÀëÒ³Ãædocument¶¥²¿µÄ¾àÀë \\r\\n        $(window).scroll(function() { //ÕìÌý¹ö¶¯Ê± \\r\\n            var scrolls = $(this).scrollTop(); \\r\\n            if (scrolls > top) { //Èç¹û¹ö¶¯µ½Ò³Ãæ³¬³öÁËµ±Ç°ÔªËØelementµÄÏà¶ÔÒ³Ãæ¶¥²¿µÄ¸ß¶È \\r\\n                if (window.XMLHttpRequest) { //Èç¹û²»ÊÇie6 \\r\\n                    element.css({ //ÉèÖÃcss \\r\\n                        position: \"fixed\", //¹Ì¶¨¶¨Î»,¼´²»ÔÙ¸úËæ¹ö¶¯ \\r\\n                        top: 0 //¾àÀëÒ³Ãæ¶¥²¿Îª0 \\r\\n                    }).addClass(\"shadow\"); //¼ÓÉÏÒõÓ°ÑùÊ½.shadow \\r\\n                } else { //Èç¹ûÊÇie6 \\r\\n                    element.css({ \\r\\n                        top: scrolls  //ÓëÒ³Ãæ¶¥²¿¾àÀë \\r\\n                    });     \\r\\n                } \\r\\n            }else { \\r\\n                element.css({ //Èç¹ûµ±Ç°ÔªËØelementÎ´¹ö¶¯µ½ä¯ÀÀÆ÷ÉÏ±ßÔµ£¬ÔòÊ¹ÓÃÄ¬ÈÏÑùÊ½ \\r\\n                    position: pos, \\r\\n                    top: top \\r\\n                }).removeClass(\"shadow\");//ÒÆ³ýÒõÓ°ÑùÊ½.shadow \\r\\n            } \\r\\n        }); \\r\\n    }; \\r\\n    return $(this).each(function() { \\r\\n        position($(this));                          \\r\\n    }); \\r\\n}; \\r\\n$(function(){ \\r\\n    $(\".F3\").smartFloat(); \\r\\n}); \\r\\n</script>\\t</div>\\r\\n\\r\\n\\t<div class=\"kuan960\" style=\"border-bottom:1px dashed #c6b9a8;overflow:hidden;\">\\r\\n        <div class=\"C1\">µ±Ç°Î»ÖÃ£º<a href=\\'https://www.hrfjw.com\\'>»ªÈË·ð½Ì</a> > <a href=\"https://www.hrfjw.com/fojing/\">·ð¾\\xad´óÈ«</a> > <a href=\"https://www.hrfjw.com/fojing/liuzutanjing/\">Áù×æÌ³¾\\xad</a> > </div>\\r\\n        <script>\\r\\nwindow._bd_share_config={\"common\":{\"bdSnsKey\":{},\"bdText\":\"\",\"bdMini\":\"2\",\"bdMiniList\":false,\"bdPic\":\"\",\"bdStyle\":\"0\",\"bdSize\":\"16\"},\"share\":{},\"selectShare\":{\"bdContainerClass\":null,\"bdSelectMiniList\":[\"tsina\",\"tqq\",\"qzone\",\"weixin\"]}};with(document)0[(getElementsByTagName(\\'head\\')[0]||body).appendChild(createElement(\\'script\\')).src=\\'/static/api/js/share.js?v=89860593.js?cdnversion=\\'+~(-new Date()/36e5)];\\r\\n</script>\\r\\n        <div style=\"clear:both\"></div>\\r\\n    </div>\\r\\n\\r\\n\\t<div class=\"height10\"></div>\\r\\n    \\r\\n\\t<div class=\"kuan960\">\\r\\n\\t\\t<div class=\"content_l\">\\r\\n\\t\\t\\t\\r\\n            \\r\\n            <div class=\"B1\">\\r\\n\\t\\t\\t\\t<h1 class=\"B1_tit\">¡¶Áù×æÌ³¾\\xad¡·¶þÊ®ËÄ¾«ÂÛ</h1>\\r\\n\\t\\t\\t\\t<div class=\"B1_dh\">\\r\\n\\t\\t\\t\\t\\t<a href=\"https://www.hrfjw.com/fojing/liuzutanjing/\">[Áù×æÌ³¾\\xad]</a>\\r\\n\\t\\t\\t\\t\\t<span>×÷Õß£ºÍøÂç</span>\\r\\n\\t\\t\\t\\t\\t<a href=\"https://www.hrfjw.com/tg.html\" rel=\"nofollow\">[Í¶¸å]</a>\\r\\n\\t\\t\\t\\t\\t<a href=\"javascript:doZoom(24,40)\" target=\"_self\">·Å´ó×ÖÌå</a>\\r\\n\\t\\t\\t\\t\\t<a href=\"javascript:doZoom(16,30)\" target=\"_self\">Õý³£</a>\\r\\n\\t\\t\\t\\t\\t<a href=\"javascript:doZoom(14,27)\" target=\"_self\">ËõÐ¡</a>\\r\\n\\t\\t\\t\\t\\t<a href=\"javascript:window.close();\" target=\"_self\">¹Ø±Õ</a>\\r\\n\\t\\t\\t\\t</div>\\r\\n\\r\\n<div>\\r\\n\\r\\n<style>\\r\\n#PCMSAD_19712{width:655px;margin:0 15px;background:#f6f0e8;border:1px solid #e0d9cf;overflow:hidden;zoom:1}#PCMSAD_19712 p{width:100%;height:30px;background:#ece6d9;}#PCMSAD_19712 ul{line-height:30px;margin:-30px 15px 0 15px;overflow:hidden;zoom:1;}#PCMSAD_19712 ul b ,#PCMSAD_19712 ul li{float:left;white-space:nowrap;}#PCMSAD_19712 ul li a{margin-right:15px;color:#1c959a;}\\r\\n</style>\\r\\n<script language=\"javascript\" src=\"https://www.hrfjw.com/caches/hengfu/19712.js\"></script>\\r\\n\\r\\n\\r\\n</div>\\r\\n<div class=\"height10\"></div>\\r\\n\\r\\n\\t\\t\\t\\t<div class=\"B1_text\">\\r\\n                \\t</p>\\r\\n<h2>Ê®¶þ£ºÈýÉí×ÔÐÔ·ð</h2>\\r\\n<p>¡¡¡¡ÓÚ×ÔÉ«Éí¹éÒÀÇå¾»·¨Éí·ð¡£ÓÚ×ÔÉ«Éí¹éÒÀ<a href=\"/remen/yuanman.html\" class=\"keylink\" target=\"_blank\">Ô²Âú</a>±¨Éí·ð¡£ÓÚ×ÔÉ«Éí¹éÒÀÇ§°ÙÒÚ<a href=\"/remen/huashen.html\" class=\"keylink\" target=\"_blank\">»¯Éí</a>·ð¡£´ËÈýÉí·ð¡£´Ó×ÔÐÔÉú¡£²»´ÓÍâµÃ¡£</p>\\r\\n<p>¡¡¡¡ºÎÃûÇå¾»·¨Éí¡£ÊÀÈËÐÔ±¾Çå¾»¡£Íò·¨´Ó×ÔÐÔÉú¡£Ë¼Á¿Ò»ÇÐ¶ñÊÂ¡£¼´Éú¶ñÐÐ¡£Ë¼Á¿Ò»ÇÐÉÆÊÂ¡£¼´ÉúÉÆÐÐ¡£ÈôÎÅÕæ<a href=\"/remen/zhengfa.html\" class=\"keylink\" target=\"_blank\">Õý·¨</a>¡£×Ô³ýÃÔÍý¡£ÄÚÍâÃ÷³¹¡£ÓÚ×ÔÐÔÖÐÍò·¨½ÔÏÖ¡£´ËÃûÇå¾»·¨Éí·ð¡£×ÔÐÄ¹éÒÀ×ÔÐÔ¡£ÊÇ¹éÒÀÕæ·ð¡£×Ô¹éÒÀÕß¡£¼°Ò»ÇÐÊ±ÖÐ²»ÉÆÖ®ÐÐ¡£³£×Ô¼û¼º¹ý¡£²»ËµËûÈËºÃ¶ñ¡£ÊÇ×Ô¹éÒÀ¡£³£ÐëÏÂÐÄ¡£ÆÕÐÐ¹§¾´¡£¼´¼ûÐÔÍ¨´ï¡£</p>\\r\\n<p>¡¡¡¡ºÎÃûÇ§°ÙÒÚ»¯Éí¡£Èô²»Ë¼Íò·¨¡£ÐÔ±¾Èç¿Õ¡£Ò»ÄîË¼Á¿¡£ÃûÎª±ä»¯¡£×ÔÐÔ±ä»¯Éõ¶à¡£ÃÔÈË²»ÄÜÊ¡¾õ¡£ÄîÄîÆð¶ñ¡£³£ÐÐ¶ñµÀ¡£»ØÒ»ÄîÉÆ¡£ÖÇ»Û¼´Éú¡£´ËÃû×ÔÐÔ»¯Éí·ð¡£</p>\\r\\n<p>¡¡¡¡ºÎÃûÔ²Âú±¨Éí¡£×Ô¼û±¾ÐÔ¡£ÉÆ¶ñËäÊâ¡£±¾ÐÔÎÞ¶þ¡£ÎÞ¶þÖ®ÐÔ¡£ÃûÎªÊµÐÔ¡£ÓÚÊµÐÔÖÐ¡£²»È¾ÉÆ¶ñ¡£´ËÃûÔ²Âú±¨Éí·ð¡£×ÔÐÔÆðÒ»Äî¶ñ¡£ÃðÍò½ÙÉÆÒò¡£×ÔÐÔÆðÒ»ÄîÉÆ¡£µÃºãÉ³¶ñ¾¡¡£Ö±ÖÁÎÞÉÏÆÐÌá¡£ÄîÄî×Ô¼û¡£²»Ê§±¾Äî¡£ÃûÎª±¨Éí¡£</p>\\r\\n<p>¡¡¡¡´Ó·¨ÉíË¼Á¿¡£¼´ÊÇ»¯Éí·ð¡£ÄîÄî×ÔÐÔ×Ô¼û¡£¼´ÊÇ±¨Éí·ð¡£×ÔÎò×ÔÐÞ×ÔÐÔ¹¦µÂ¡£ÊÇÕæ¹éÒÀ¡£Æ¤ÈâÊÇÉ«Éí¡£É«ÉíÊÇÉáÕ¬¡£²»ÑÔ¹éÒÀÒ²¡£µ«Îò×ÔÐÔÈýÉí¡£¼´Ê¶×ÔÐÔ·ð¡£ÎáÓÐÒ»ÎÞÏàËÌ¡£ÈôÄÜËÐ³Ö¡£ÑÔÏÂÁîÈê»ý½ÙÃÔ×ïÒ»Ê±ÏûÃð¡£</p>\\r\\n<p style=\"text-align: center;\">ÃÔÈËÐÞ¸£²»ÐÞµÀ¡£Ö»ÑÔÐÞ¸£±ãÊÇµÀ¡£²¼Ê©¹©Ñø¸£ÎÞ±ß¡£ÐÄÖÐÈý¶ñÔªÀ´Ôì¡£</p>\\r\\n<p style=\"text-align: center;\">Äâ½«ÐÞ¸£ÓûÃð×ï¡£ºóÊÀµÃ¸£×ï»¹ÔÚ¡£µ«ÏòÐÄÖÐ³ý×ïÔµ¡£¸÷×ÔÐÔÖÐÕæâã»Ú¡£</p>\\r\\n<p style=\"text-align: center;\">ºöÎò´ó³ËÕæâã»Ú¡£³ýÐ°ÐÐÕý¼´ÎÞ×ï¡£Ñ§µÀ³£ÓÚ×ÔÐÔ¹Û¡£¼´ÓëÖî·ðÍ¬Ò»Àà¡£</p>\\r\\n<p style=\"text-align: center;\">Îá×æÎ©´«´Ë¶Ù·¨¡£ÆÕÔ¸¼ûÐÔÍ¬Ò»Ìå¡£ÈôÓûµ±À´ÃÙ·¨Éí¡£ÀëÖî·¨ÏàÐÄÖÐÏ´¡£</p>\\r\\n<p style=\"text-align: center;\">Å¬Á¦×Ô¼ûÄªÓÆÓÆ¡£ºóÄîºö¾øÒ»ÊÀÐÝ¡£ÈôÎò´ó³ËµÃ¼ûÐÔ¡£ò¯¹§ºÏÕÆÖÁÐÄÇó¡£</p>\\r\\n<p>¡¡¡¡Ê¦ÑÔ¡£ÒÀ´ËÐÞÐÐ¡£ÑÔÏÂ¼ûÐÔ¡£ËäÈ¥ÎáÇ§Àï¡£Èç³£ÔÚÎá±ß¡£ÓÚ´ËÑÔÏÂ²»Îò¡£¼´¶ÔÃæÇ§Àï¡£ºÎÇÚÔ¶À´¡£</p>\\r\\n<h2>Ê®Èý£ºÕæ¶È¡¢ÕæÑ§</h2>\\r\\n<p>¡¡¡¡ÓÚÒ»ÇÐÊ±¡£ÄîÄî×Ô¾»ÆäÐÄ¡£×ÔÐÞ×ÔÐÐ¡£¼û×Ô¼º·¨Éí¡£¼û×ÔÐÄ·ð¡£×Ô¶È×Ô½ä¡£</p>\\r\\n<p>¡¡¡¡ºÎÃû×ÔÐÔ×Ô¶È¡£¼´×ÔÐÄÖÐÐ°¼û¡£·³ÄÕ¡£¸÷¸÷×Ô¶È¡£Ð°À´Õý¶È¡£ÃÔÀ´Îò¶È¡£ÓÞÀ´ÖÇ¶È¡£¶ñÀ´ÉÆ¶È¡£ÈçÊÇ¶ÈÕß¡£ÃûÎªÕæ¶È¡£</p>\\r\\n<p>¡¡¡¡Ðë×Ô¼ûÐÔ¡£³£ÐÐÕý·¨¡£ÊÇÃûÕæÑ§¡£ÐÐÓÚÕæÕý¡£ÀëÃÔÀë¾õ¡£³£Éú°ãÈô¡£³ýÕæ³ýÍý¡£¼´¼û·ðÐÔ¡£¼´ÑÔÏÂ·ðµÀ³É¡£³£ÄîÐÞÐÐ¡£ÊÇÔ¸Á¦·¨¡£</p>\\r\\n<p>¡¡¡¡×ÔÐÄ¹éÒÀ¾õ¡£Ð°ÃÔ²»Éú¡£ÉÙÓûÖª×ã¡£ÄÜÀë²ÆÉ«¡£Ãû¶þ×ã×ð¡£×ÔÐÄ¹éÒÀÕý¡£ÄîÄîÎÞÐ°¼û¡£Ò»ÇÐ³¾ÀÍ°®Óû¾³½ç¡£×ÔÐÔ½Ô²»È¾×Å¡£¾\\xadÎÄ·ÖÃ÷ÑÔ×Ô¹éÒÀ·ð¡£²»ÑÔ¹éÒÀËû·ð¡£×Ô·ð²»¹é¡£ÎÞËùÒÀ´¦¡£ÄÚµ÷ÐÄÐÔ¡£Íâ¾´ËûÈË¡£ÏòÕßÈýÉí·ð¡£ÔÚ×ÔÐÔÖÐ¡£ÊÀÈË×ÜÓÐ¡£</p>\\r\\n<h2>Ê®ËÄ£º¼´ÐÄ¼´·ð</h2>\\r\\n<p>¡¡¡¡Ç°Äî²»Éú¼´ÐÄ¡£ºóÄî²»Ãð¼´·ð¡£³ÉÒ»ÇÐÏà¼´ÐÄ¡£ÀëÒ»ÇÐÏà¼´·ð¡£¼´ÐÄÃû»Û¡£¼´·ðÄË¶¨¡£¶¨»ÛµÈµÈ¡£ÒâÖÐÇå¾»¡£ÓÃ±¾ÎÞÉú¡£Ë«ÐÞÊÇÕý¡£</p>\\r\\n<p>¡¡¡¡¼´ÐÄÔªÊÇ·ð¡£²»Îò¶ø×ÔÇü¡£ÎÒÖª¶¨»ÛÒò¡£Ë«ÐÞÀëÖîÎï¡£</p>\\r\\n<h2>Ê®Îå£º·ðÖ®Öª¼û</h2>\\r\\n<p>¡¡¡¡ÊÀÈËÍâÃÔ×ÅÏà¡£ÄÚÃÔ×Å¿Õ£»ÈôÄÜÓÚÏàÀëÏà¡£ÓÚ¿ÕÀë¿Õ¡£¼´ÊÇÄÚÍâ²»ÃÔ¡£ÈôÎò´Ë·¨¡£Ò»ÄîÐÄ¿ª¡£ÊÇÎª¿ª·ðÖª¼û¡£·ðÓÌ¾õÒ²¡£·ÖÎªËÄÃÅ¡£¿ª¾õÖª¼û¡£Ê¾¾õÖª¼û¡£Îò¾õÖª¼û¡£Èë¾õÖª¼û¡£ÈôÎÅ¿ªÊ¾¡£±ãÄÜÎòÈë¡£¼´¾õÖª¼û¡£±¾À´ÕæÐÔ¶øµÃ³öÏÖ¡£Èê½ñµ±ÐÅ¡£·ðÖª¼ûÕß¡£Ö»Èê×ÔÐÄ¡£¸üÎÞ±ð·ð¡£ÄªÏòÍâÇó¡£Óë·ðÎÞ¶þ¡£</p>\\r\\n<p>¡¡¡¡ÈôÄÜÕýÐÄ¡£³£ÉúÖÇ»Û¡£¹ÛÕÕ×ÔÐÄ¡£Ö¹¶ñ<a href=\"/remen/xingshan.html\" class=\"keylink\" target=\"_blank\">ÐÐÉÆ</a>¡£ÊÇ×Ô¿ª·ðÖ®Öª¼û¡£ÈêÐëÄîÄî¿ª·ðÖª¼û¡£Îð¿ªÖÚÉúÖª¼û¡£¿ª·ðÖª¼û¡£¼´ÊÇ³öÊÀ¡£¿ªÖÚÉúÖª¼û¡£¼´ÊÇÊÀ¼û¡£Ö»ÎªÃÔÎòÔÚÈË¡£ËðÒæÓÉ¼º¡£¿ÚËÐÐÄÐÐ¡£¼´ÊÇ×ª¾\\xad¡£¿ÚËÐÐÄ²»ÐÐ¡£¼´ÊÇ±»¾\\xad×ª¡£</p>\\r\\n<h2>Ê®Áù£ºÈýÉíËÄÖÇ</h2>\\r\\n<p>¡¡¡¡ÈýÉíÕß¡£Çå¾»·¨Éí¡£ÈêÖ®ÐÔÒ²¡£Ô²Âú±¨Éí¡£ÈêÖ®ÖÇÒ²¡£Ç§°ÙÒÚ»¯Éí¡£ÈêÖ®ÐÐÒ²¡£ÈôÀë±¾ÐÔ¡£±ðËµÈýÉí¡£¼´ÃûÓÐÉíÎÞÖÇ¡£ÈôÎòÈýÉíÎÞÓÐ×ÔÐÔ¡£¼´ÃûËÄÖÇÆÐÌá¡£</p>\\r\\n<p style=\"text-align: center;\">´óÔ²¾µÖÇÐÔÇå¾»¡£Æ½µÈÐÔÖÇÐÄÎÞ²¡¡£Ãî¹Û²ìÖÇ¼û·Ç¹¦¡£</p>\\r\\n<p style=\"text-align: center;\">³ÉËù×÷ÖÇÍ¬Ô²¾µ¡£Îå°ËÁùÆß¹ûÒò×ª¡£µ«ÓÃÃûÑÔÎÞÊµÐÔ¡£</p>\\r\\n<p>¡¡¡¡ÈôÓÚ×ª´¦²»ÁôÇé¡£·±ÐËÓÀ´¦ÄÇÙ¤¶¨¡£</p>\\r\\n<p style=\"text-align: center;\">ÈýÉíÔªÎÒÌå¡£ËÄÖÇ±¾ÐÄÃ÷¡£ÉíÖÇÈÚÎÞ°\\xad¡£Ó¦ÎïÈÎËæÐÎ¡£</p>\\r\\n<p style=\"text-align: center;\">ÆðÐÞ½ÔÍý¶¯¡£ÊØ×¡·ËÕæ¾«¡£ÃîÖ¼ÒòÊ¦Ïþ¡£ÖÕÍöÈ¾ÎÛÃû¡£</p>\\r\\n<h2>Ê®Æß£º·¨ÎÞËÄ³Ë</h2>\\r\\n<p style=\"text-align: center;\">²»¼ûÒ»·¨´æÎÞ¼û¡£´óËÆ¸¡ÔÆÕÚÈÕÃæ¡£²»ÖªÒ»·¨ÊØ¿ÕÖª¡£»¹ÈçÌ«ÐéÉúÉÁµç¡£</p>\\r\\n<p style=\"text-align: center;\">´ËÖ®Öª¼ûÆ³È»ÐË¡£´íÈÏºÎÔø½â·½±ã¡£Èêµ±Ò»Äî×ÔÖª·Ç¡£×Ô¼ºÁé¹â³£ÏÔÏÖ¡£</p>\\r\\n<p style=\"text-align: center;\">ÎÞ¶ËÆðÖª¼û¡£×ÅÏàÇóÆÐÌá¡£Çé´æÒ»ÄîÎò¡£ÄþÔ½ÎôÊ±ÃÔ¡£</p>\\r\\n<p style=\"text-align: center;\">×ÔÐÔ¾õÔ´Ìå¡£ËæÕÕÍ÷Ç¨Á÷¡£²»Èë×æÊ¦ÊÒ¡£Ã£È»È¤Á½Í·¡£</p>\\r\\n<p style=\"text-align: center;\">Èê¹Û×Ô±¾ÐÄ¡£Äª×ÅÍâ·¨Ïà¡£·¨ÎÞËÄ³Ë¡£ÈËÐÄ×ÔÓÐµÈ²î¡£</p>\\r\\n<p style=\"text-align: center;\">¼ûÎÅ×ªËÐÊÇÐ¡³Ë¡£Îò·¨½âÒåÊÇÖÐ³Ë¡£ÒÀ·¨ÐÞÐÐÊÇ´ó³Ë¡£</p>\\r\\n<p style=\"text-align: center;\">Íò·¨¾¡Í¨¡£Íò·¨¾ã±¸¡£Ò»ÇÐ²»È¾¡£ÀëÖî·¨Ïà¡£Ò»ÎÞËùµÃ¡£</p>\\r\\n<p style=\"text-align: center;\">Ãû×îÉÏ³Ë¡£³ËÊÇÐÐÒå¡£²»ÔÚ¿ÚÕù¡£Ò»ÇÐÊ±ÖÐ¡£×ÔÐÔ×ÔÈç¡£</p>\\r\\n<p style=\"text-align: center;\">ÎÞÉÏ´ó<a href=\"/remen/niepan.html\" class=\"keylink\" target=\"_blank\">ÄùÅÌ</a>¡£Ô²Ã÷³£¼ÅÕÕ¡£·²ÓÞÎ½Ö®ËÀ¡£ÍâµÀÖ´Îª¶Ï¡£ÖîÇó¶þ³ËÈË¡£</p>\\r\\n<p style=\"text-align: center;\">Ä¿ÒÔÎªÎÞ×÷¡£¾¡ÊôÇéËù¼Æ¡£ÁùÊ®¶þ¼û±¾¡£ÍýÁ¢Ðé¼ÙÃû¡£ºÎÎªÕæÊµÒå¡£</p>\\r\\n<p style=\"text-align: center;\">Î©ÓÐ¹ýÁ¿ÈË¡£Í¨´ïÎÞÈ¡Éá¡£ÒÔÖªÎåÔÌ·¨¡£¼°ÒÔÔÌÖÐÎÒ¡£ÍâÏÖÖÚÉ«Ïñ¡£</p>\\r\\n<p style=\"text-align: center;\">Ò»Ò»ÒôÉùÏà¡£Æ½µÈÈçÃÎ»Ã¡£²»Æð·²Ê¥¼û¡£²»×÷ÄùÅÌ½â¡£¶þ±ßÈý¼Ê¶Ï¡£</p>\\r\\n<p style=\"text-align: center;\">³£Ó¦Öî¸ùÓÃ¡£¶ø²»ÆðÓÃÏë¡£·Ö±ðÒ»ÇÐ·¨¡£²»Æð·Ö±ðÏë¡£½Ù»ðÉÕº£µ×¡£</p>\\r\\n<p style=\"text-align: center;\">·ç¹ÄÉ½Ïà»÷¡£Õæ³£¼ÅÃðÀÖ¡£ÄùÅÌÏàÈçÊÇ¡£</p>\\r\\n<h2>Ê®°Ë£ºÈçÀ´Çå¾»ìø</h2>\\r\\n<p>¡¡¡¡ÃîÕ¿Ô²¼Å¡£ÌåÓÃÈçÈç¡£<a href=\"/remen/wuyin.html\" class=\"keylink\" target=\"_blank\">ÎåÒõ</a>±¾¿Õ¡£Áù³¾·ÇÓÐ¡£²»³ö²»Èë¡£²»¶¨²»ÂÒ¡£ìøÐÔÎÞ×¡¡£</p>\\r\\n<p>¡¡¡¡Àë×¡ìø¼Å¡£ìøÐÔÎÞÉú¡£ÀëÉúìøÏë¡£ÐÄÈçÐé¿Õ¡£ÒàÎÞÐé¿ÕÖ®Á¿¡£ÐÄÈçÐé¿Õ¡£²»×Å<a href=\"/remen/kongjian.html\" class=\"keylink\" target=\"_blank\">¿Õ¼û</a>¡£</p>\\r\\n<p>¡¡¡¡Ó¦ÓÃÎÞ°\\xad¡£¶¯¾²<a href=\"/remen/wuxin.html\" class=\"keylink\" target=\"_blank\">ÎÞÐÄ</a>¡£·²Ê¥ÇéÍü¡£ÄÜËù¾ããý¡£ÐÔÏàÈçÈç¡£ÎÞ²»¶¨Ê±Ò²¡£</p>\\r\\n<p>¡¡¡¡µÀÓÉÐÄÎò¡£ÆñÔÚ×øÒ²¡£ÈôÑÔÈçÀ´Èô×øÈôÎÔ¡£ÊÇÐÐÐ°µÀ¡£ºÎ¹Ê¡£ÎÞËù´ÓÀ´¡£ÒàÎÞËùÈ¥¡£</p>\\r\\n<p>¡¡¡¡ÎÞÉúÎÞÃð¡£ÊÇÈçÀ´Çå¾»ìø¡£Öî·¨¿Õ¼Å¡£ÊÇÈçÀ´Çå¾»×ø¡£¾¿¾¹ÎÞÖ¤¡£Æñ¿ö×øÒ®¡£</p>\\r\\n<h2>Ê®¾Å£º½ä¶¨»Û·¨</h2>\\r\\n<p>¡¡¡¡ÎáËù<a href=\"/remen/shuofa.html\" class=\"keylink\" target=\"_blank\">Ëµ·¨</a>¡£²»Àë×ÔÐÔ¡£ÀëÌåËµ·¨¡£ÃûÎªÏàËµ¡£×ÔÐÔ³£ÃÔ¡£</p>\\r\\n<p>¡¡¡¡ÐëÖªÒ»ÇÐÍò·¨½Ô´Ó×ÔÐÔÆðÓÃ¡£ÊÇÕæ½ä¶¨»Û·¨¡£</p>\\r\\n<p>¡¡¡¡ÐÄµØÎÞ·Ç×ÔÐÔ½ä¡£ÐÄµØÎÞ³Õ×ÔÐÔ»Û¡£ÐÄµØÎÞÂÒ×ÔÐÔ¶¨¡£</p>\\r\\n<p>¡¡¡¡²»Ôö²»¼õ×Ô½ð¸Õ¡£ÉíÈ¥ÉíÀ´±¾ÈýÃÁ¡£×ÔÔÚ½âÍÑ±¾×ÔÐÔ¡£</p>\\r\\n<p>¡¡¡¡Îá½ä¶¨»Û¡£È°´ó¸ùÖÇÈË¡£ÈôÎò×ÔÐÔ¡£Òà²»Á¢ÆÐÌáÄùÅÌ¡£Òà²»Á¢½âÍÑÖª¼û¡£</p>\\r\\n<p>¡¡¡¡ÎÞÒ»·¨¿ÉµÃ¡£·½ÄÜ½¨Á¢Íò·¨¡£Èô½â´ËÒâ¡£ÒàÃû<a href=\"/remen/foshen.html\" class=\"keylink\" target=\"_blank\">·ðÉí</a>¡£ÒàÃûÆÐÌáÄùÅÌ¡£ÒàÃû½âÍÑÖª¼û¡£</p>\\r\\n<p>¡¡¡¡¼ûÐÔÖ®ÈË¡£Á¢ÒàµÃ¡£²»Á¢ÒàµÃ¡£È¥À´×ÔÓÉ¡£ÎÞÖÍÎÞ°\\xad¡£Ó¦ÓÃËæ×÷¡£</p>\\r\\n<p>¡¡¡¡Ó¦ÓïËæ´ð¡£ÆÕ¼û»¯Éí¡£²»Àë×ÔÐÔ¡£¼´µÃ×ÔÔÚ<a href=\"/remen/shentong.html\" class=\"keylink\" target=\"_blank\">ÉñÍ¨</a>ÓÎÏ·ÈýÃÁ¡£ÊÇÃû¼ûÐÔ¡£</p>\\r\\n<p>¡¡¡¡ÈçºÎÊÇ²»Á¢Òå¡£Ê¦Ô»¡£×ÔÐÔÎÞ·ÇÎÞ³ÕÎÞÂÒ¡£ÄîÄî°ãÈô¹ÛÕÕ¡£</p>\\r\\n<p>¡¡¡¡³£Àë·¨Ïà¡£×ÔÓÉ×ÔÔÚ¡£×Ýºá¾¡µÃ¡£ÓÐºÎ¿ÉÁ¢¡£×ÔÐÔ×ÔÎò¡£</p>\\r\\n<p>¡¡¡¡¶ÙÎò¶ÙÐÞ¡£ÒàÎÞ½¥´Î¡£ËùÒÔ²»Á¢Ò»ÇÐ·¨¡£Öî·¨¼ÅÃð¡£ÓÐºÎ´ÎµÚ¡£</p>\\r\\n<h2>¶þÊ®£º´ó³Ë¼û½â</h2>\\r\\n<p>¡¡¡¡µÀÎÞÃ÷°µ¡£Ã÷°µÊÇ´úÐ»Ö®Òå¡£Ã÷Ã÷ÎÞ¾¡¡£ÒàÊÇÓÐ¾¡¡£Ïà´ýÁ¢Ãû¹Ê¡£¾»Ãû¾\\xadÔÆ¡£·¨ÎÞÓÐ±È¡£ÎÞÏà´ý¹Ê¡£·³ÄÕ¼´ÊÇÆÐÌá¡£ÎÞ¶þÎÞ±ð¡£ÈôÒÔÖÇ»ÛÕÕÆÆ·³ÄÕÕß¡£´ËÊÇ¶þ³Ë¼û½â¡£ÑòÂ¹µÈ»ú¡£ÉÏÖÇ´ó¸ùÏ¤²»ÈçÊÇ¡£</p>\\r\\n<p>¡¡¡¡Ã÷ÓëÎÞÃ÷¡£·²·ò¼û¶þ¡£ÖÇÕßÁË´ïÆäÐÔÎÞ¶þ¡£ÎÞ¶þÖ®ÐÔ¡£¼´ÊÇÊµÐÔ¡£ÊµÐÔÕß¡£´¦·²ÓÞ¶ø²»¼õ¡£ÔÚÏÍÊ¥¶ø²»Ôö¡£×¡·³ÄÕ¶ø²»ÂÒ¡£¾Óìø¶¨¶ø²»¼Å¡£²»¶Ï²»³£¡£²»À´²»È¥¡£²»ÔÚÖÐ¼ä¼°ÆäÄÚÍâ¡£²»Éú²»Ãð¡£ÐÔÏàÈçÈç¡£<a href=\"/remen/changzhu.html\" class=\"keylink\" target=\"_blank\">³£×¡</a>²»Ç¨¡£ÃûÖ®Ô»µÀ¡£ÍâÓÚÏàÀëÏà¡£ÄÚÓÚ¿ÕÀë¿Õ¡£ÈôÈ«×ÅÏà¡£¼´ÊÇÐ°¼û¡£ÈôÈ«Ö´¿Õ¡£¼´³¤ÎÞÃ÷¡£</p>\\r\\n<h2>¶þÊ®Ò»£ºÕæ¼Ù¶¯¾²ÙÊ</h2>\\r\\n<p>¡¡¡¡Ò»ÇÐÎÞÓÐÕæ¡£²»ÒÔ¼ûÓÚÕæ¡£Èô¼ûÓÚÕæÕß¡£ÊÇ¼û¾¡·ÇÕæ¡£ÈôÄÜ×ÔÓÐÕæ¡£Àë¼Ù¼´ÐÄÕæ¡£×ÔÐÄ²»Àë¼Ù¡£ÎÞÕæºÎ´¦Õæ£¿ÓÐÇé¼´½â¶¯¡£ÎÞÇé¼´²»¶¯¡£ÈôÐÞ²»¶¯ÐÐ¡£Í¬ÎÞÇé²»¶¯¡£ÈôÃÙÕæ²»¶¯¡£¶¯ÉÏÓÐ²»¶¯¡£²»¶¯ÊÇ²»¶¯¡£ÎÞÇéÎÞ·ðÖÖ¡£ÄÜÉÆ·Ö±ðÏà¡£µÚÒ»Òå²»¶¯¡£</p>\\r\\n<p>¡¡¡¡Îá±¾À´×ÈÍÁ¡£´«·¨¾ÈÃÔÇé¡£Ò»»¨¿ªÎåÒ¶¡£½á¹û×ÔÈ»³É¡£</p>\\r\\n<h2>¶þÊ®¶þ£ºÒ»ÏàÒ»ÐÐ</h2>\\r\\n<p>¡¡¡¡ÖîÈË×ÔÐÄÊÇ·ð¡£ÍâÎÞÒ»Îï¶øÄÜ½¨Á¢¡£½ÔÊÇ±¾ÐÄÉúÍòÖÖ·¨¡£ÐÄÉúÖÖÖÖ·¨Éú¡£ÐÄÃðÖÖÖÖ·¨Ãð¡£ÈôÓû³É¾ÍÖÖÖÇ¡£Ðë´ïÒ»ÏàÈýÃÁ¡£</p>\\r\\n<p>¡¡¡¡Ò»ÐÐÈýÃÁ¡£ÈôÓÚÒ»ÇÐ´¦¶ø²»×¡Ïà¡£ÓÚ±ËÏàÖÐ²»ÉúÔ÷°®¡£ÒàÎÞÈ¡Éá¡£²»ÄîÀûÒæ³É»µµÈÊÂ¡£°²ÏÐÌñ¾²¡£ÐéÈÚå£²´¡£´ËÃûÒ»ÏàÈýÃÁ¡£</p>\\r\\n<p>¡¡¡¡ÈôÓÚÒ»ÇÐ´¦ÐÐ×¡×øÎÔ¡£´¿Ò»Ö±ÐÄ¡£²»¶¯µÀ³¡¡£Õæ³É¾»ÍÁ¡£´ËÃûÒ»ÐÐÈýÃÁ¡£ÈôÈË¾ß¶þÈýÃÁ¡£ÈçµØÓÐÖÖ¡£º¬²Ø³¤Ñø¡£³ÉÊìÆäÊµ¡£ÎÒ½ñËµ·¨¡£ÓÌÈçÊ±Óê¡£ÆÕÈó´óµØ¡£ÈêµÈ·ðÐÔ¡£Æ©ÖîÖÖ×Ó¡£Óö×ÈÕ´Ç¢¡£Ï¤µÃ·¢Éú¡£³ÐÎáÖ¼Õß¡£¾ö»ñÆÐÌá¡£ÒÀÎáÐÐÕß¡£¶¨Ö¤Ãî¹û¡£</p>\\r\\n<p>¡¡¡¡ÐÄµØº¬ÖîÖÖ¡£ÆÕÓêÏ¤½ÔÃÈ¡£¶ÙÎò»¨ÇéÒÑ¡£ÆÐÌá¹û×Ô³É¡£</p>\\r\\n<p>¡¡¡¡Æä·¨ÎÞ¶þ¡£ÆäÐÄÒàÈ»¡£ÆäµÀÇå¾»¡£ÒàÎÞÖîÏà¡£ÈêµÈÉ÷Îð¹Û¾²¼°¿ÕÆäÐÄ¡£´ËÐÄ±¾¾»¡£ÎÞ¿ÉÈ¡Éá¡£¸÷×ÔÅ¬Á¦¡£</p>\\r\\n<h2>¶þÊ®Èý£ºÕý<a href=\"/remen/fayan.html\" class=\"keylink\" target=\"_blank\">·¨ÑÛ</a>²Ø</h2>\\r\\n<p>¡¡¡¡Õý·¨ÑÛ²Ø´«¸¶ºÎÈË¡£Ê¦Ô»¡£ÓÐµÀÕßµÃ¡£ÎÞÐÄÕßÍ¨¡£</p>\\r\\n<p>¡¡¡¡ÈôÊ¶ÖÚÉú¡£¼´ÊÇ·ðÐÔ¡£Èô²»Ê¶ÖÚÉú¡£Íò½ÙÃÙ·ðÄÑ·ê¡£Ê¶×ÔÐÄÖÚÉú¡£¼û×ÔÐÄ·ðÐÔ¡£×ÔÐÔÈôÎò¡£ÖÚÉúÊÇ·ð¡£×ÔÐÔÈôÃÔ¡£·ðÊÇÖÚÉú¡£×ÔÐÔÆ½µÈ¡£ÖÚÉúÊÇ·ð¡£×ÔÐÔÐ°ÏÕ¡£·ðÊÇÖÚÉú¡£×Ô·ðÊÇÕæ·ð¡£×ÔÈôÎÞ<a href=\"/remen/foxin.html\" class=\"keylink\" target=\"_blank\">·ðÐÄ</a>¡£ºÎ´¦ÇóÕæ·ð¡£×ÔÐÄÊÇ·ð¡£ÍâÎÞÒ»Îï¶øÄÜ½¨Á¢¡£½ÔÊÇ±¾ÐÄÉúÍòÖÖ·¨¡£</p>\\r\\n<h2>¶þÊ®ËÄ£º×ÔÐÔÕæ·ðÙÊ</h2>\\r\\n<p style=\"text-align: center;\">ÕæÈç×ÔÐÔÊÇÕæ·ð¡£Ð°¼ûÈý¶¾ÊÇÄ§Íõ¡£Ð°ÃÔÖ®Ê±Ä§ÔÚÉá¡£Õý¼ûÖ®Ê±·ðÔÚÌÃ¡£</p>\\r\\n<p style=\"text-align: center;\">ÐÔÖÐÐ°¼ûÈý¶¾Éú¡£¼´ÊÇÄ§ÍõÀ´×¡Éá¡£Õý¼û×Ô³ýÈý¶¾ÐÄ¡£Ä§±ä³É·ðÕæÎÞ¼Ù¡£</p>\\r\\n<p style=\"text-align: center;\">·¨Éí±¨Éí¼°»¯Éí¡£ÈýÉí±¾À´ÊÇÒ»Éí¡£ÈôÏòÐÔÖÐÄÜ×Ô¼û¡£¼´ÊÇ³É·ðÆÐÌáÒò¡£</p>\\r\\n<p style=\"text-align: center;\">±¾´Ó»¯ÉíÉú¾»ÐÔ¡£¾»ÐÔ³£ÔÚ»¯ÉíÖÐ¡£ÐÔÊ¹»¯ÉíÐÐÕýµÀ¡£µ±À´Ô²ÂúÕæÎÞÇî¡£</p>\\r\\n<p style=\"text-align: center;\">ÒùÐÔ±¾ÊÇ¾»ÐÔÒò¡£³ýÒù¼´ÊÇ¾»ÐÔÉí¡£ÐÔÖÐ¸÷×ÔÀëÎåÓû¡£¼ûÐÔÉ²ÄÇ¼´ÊÇÕæ¡£</p>\\r\\n<p style=\"text-align: center;\">½ñÉúÈôÓö¶Ù½ÌÃÅ¡£ºöÎò×ÔÐÔ¼û<a href=\"/remen/shizun.html\" class=\"keylink\" target=\"_blank\">ÊÀ×ð</a>¡£ÈôÓûÐÞÐÐÃÙ×÷·ð¡£²»ÖªºÎ´¦ÄâÇóÕæ¡£</p>\\r\\n<p style=\"text-align: center;\">ÈôÄÜÐÄÖÐ×Ô¼ûÕæ¡£ÓÐÕæ¼´ÊÇ³É·ðÒò¡£²»¼û×ÔÐÔÍâÃÙ·ð¡£ÆðÐÄ×ÜÊÇ´ó³ÕÈË¡£</p>\\r\\n<p style=\"text-align: center;\">¶Ù½Ì·¨ÃÅ½ñÒÑÁô¡£¾È¶ÈÊÀÈËÐë×ÔÐÞ¡£±¨Èêµ±À´Ñ§µÀÕß¡£²»×÷´Ë¼û´óÓÆÓÆ¡£</p>\\r\\n<p>¡¡¡¡Ê¶×Ô±¾ÐÄ¡£¼û×Ô±¾ÐÔ¡£ÎÞ¶¯ÎÞ¾²¡£ÎÞÉúÎÞÃð¡£ÎÞÈ¥ÎÞÀ´¡£ÎÞÊÇÎÞ·Ç¡£ÎÞ×¡ÎÞÍù¡£ÒÀ´ËÐÞÐÐ¡£ÈçÎáÔÚÈÕ¡£ÈôÎ¥Îá½Ì¡£×ÝÎáÔÚÊÀ¡£ÒàÎÞÓÐÒæ¡£</p>\\r\\n<p>¡¡¡¡Ø£Ø£²»ÐÞÉÆ¡£ÌÚÌÚ²»Ôì¶ñ¡£¼Å¼Å¶Ï¼ûÎÅ¡£µ´µ´ÐÄÎÞ×Å¡£</p>\\r\\n\\t\\t\\t\\t</div>\\r\\n<div class=\"pages\">\\r\\n<p><a class=\"a1\" href=\"https://www.hrfjw.com/fojing/liuzutanjing/198840.html\" target=\"_self\">ÉÏÒ»Ò³</a> <a href=\"https://www.hrfjw.com/fojing/liuzutanjing/198840.html\" target=\"_self\">1</a> <span>2</span> <a class=\"a1\" href=\"https://www.hrfjw.com/fojing/liuzutanjing/198840_2.html\" target=\"_self\">ÏÂÒ»Ò³</a></p>\\r\\n</div>\\r\\n\\r\\n<div>\\r\\n\\r\\n\\r\\n\\r\\n</div>\\r\\n\\r\\n<script>\\r\\n$(function(){\\r\\n    var $player = $(\\'#zPlayer\\');\\r\\n    var type = $player.data(\\'type\\');\\r\\n    var src= $player.data(\\'src\\').replace(/^https?:/g,\\'\\'); \\r\\n    var vw = $player.data(\\'vw\\');\\r\\n    var vh = $player.data(\\'vh\\');\\r\\n    var width = $player.width();\\r\\n    var height = width/vw*vh;\\r\\n    $player.html(\\'<iframe src=\"\\'+src+\\'&width=\\'+width+\\'&height=\\'+height+\\'\" style=\"width:\\'+width+\\'px;height:\\'+height+\\'px\"><iframe>\\');\\r\\n});\\r\\n</script>\\r\\n\\r\\n                <div class=\"B1_fx\">\\r\\n                \\t\\r\\n<script>\\r\\nwindow._bd_share_config={\"common\":{\"bdSnsKey\":{},\"bdText\":\"\",\"bdMini\":\"2\",\"bdMiniList\":false,\"bdPic\":\"\",\"bdStyle\":\"0\",\"bdSize\":\"16\"},\"share\":{},\"selectShare\":{\"bdContainerClass\":null,\"bdSelectMiniList\":[\"tsina\",\"tqq\",\"qzone\",\"weixin\"]}};with(document)0[(getElementsByTagName(\\'head\\')[0]||body).appendChild(createElement(\\'script\\')).src=\\'/static/api/js/share.js?v=89860593.js?cdnversion=\\'+~(-new Date()/36e5)];\\r\\n</script>\\r\\n                \\t<div class=\"B1_fx_r\">\\r\\n\\t\\t\\t\\t\\t\\t<a href=\"javascript:void(0);\" target=\"_self\" class=\"B1_fx_zm\" title=\"±£´æÔÚ×ÀÃæ\" onclick=\"toDesktop(window.location.href,document.title)\">±£´æÔÚ×ÀÃæ</a>\\r\\n\\t\\t\\t\\t\\t\\t<a href=\"javascript:void(0);\" target=\"_self\" class=\"B1_fx_scj\" title=\"·ÅÈëÊÕ²Ø¼Ð\" onclick=\"addfavorite()\">·ÅÈëÊÕ²Ø¼Ð</a>\\r\\n\\t\\t\\t\\t\\t</div>\\r\\n<!--±£´æÔÚ×ÀÃæ¡¢·ÅÈëÊÕ²Ø¼Ð-->                    \\r\\n<script language=\"JavaScript\" type=\"text/javascript\"> \\r\\nfunction toDesktop(sUrl,sName){ \\r\\n\\ttry{ \\r\\n\\t\\tvar WshShell = new ActiveXObject(\"WScript.Shell\"); \\r\\n\\t\\tvar oUrlLink = WshShell.CreateShortcut(WshShell.SpecialFolders(\"Desktop\") + \"\\\\\\\\\" + sName + \".url\"); \\r\\n\\t\\toUrlLink.TargetPath = sUrl; \\r\\n\\t\\toUrlLink.Save(); \\r\\n\\t\\talert(\"ÒÑ³É¹¦½«Ò³Ãæ±£´æÔÚ×ÀÃæ£¡\");\\r\\n\\t}catch(e){ \\r\\n\\t\\talert(\"µ±Ç°IE°²È«¼¶±ð²»ÔÊÐí²Ù×÷£¡Çë°´Ctrl+S±£´æ\"); \\r\\n\\t} \\r\\n}\\r\\n\\r\\n//¼ÓÈëÊÕ²Ø\\r\\nvar isIE=(document.all&&document.getElementById&&!window.opera)?true:false; \\r\\nvar isMozilla=(!document.all&&document.getElementById&&!window.opera)?true:false; \\r\\nvar isOpera=(window.opera)?true:false;\\r\\nvar seturl=\\'url(#default#homepage)\\';\\r\\nvar weburl=window.location.href;\\r\\nvar webname=document.title;\\r\\n\\r\\nfunction addfavorite()\\r\\n{\\r\\n\\ttry{\\r\\n\\t\\twindow.external.addFavorite(weburl,webname);\\r\\n\\t}catch(e){\\r\\n\\t\\ttry{\\r\\n\\t\\t\\twindow.sidebar.addPanel(webname,weburl,\"\");\\r\\n\\t\\t}catch(e){\\r\\n\\t\\t\\talert(\"¼ÓÈëÊÕ²ØÊ§°Ü£¬ÇëÊ¹ÓÃCtrl+D½øÐÐÌí¼Ó\");\\r\\n\\t\\t};\\r\\n\\t};\\r\\n}\\r\\n</script>\\r\\n\\t\\t\\t\\t</div>\\r\\n\\t\\t\\t\\t<div class=\"B1_pn\">\\r\\n                    <ul>\\r\\n\\t\\t\\t\\t\\t\\t<li class=\"B1_p\">ÉÏÒ»Æª£º<a href=\"https://www.hrfjw.com/fojing/liuzutanjing/198213.html\">¡¶Áù×æÌ³¾\\xad¡·ÖÐ¡°²»Á¢ÎÄ×Ö¡±µÄº¬ÒåÊÇÊ²Ã´£¿</a></li>\\r\\n\\t\\t\\t\\t\\t\\t<li class=\"B1_n\">ÏÂÒ»Æª£º<a href=\"https://www.hrfjw.com/fojing/liuzutanjing/198900.html\">´Ó¡¶Áù×æÌ³¾\\xad¡·ÖÐ×Ü½á³öµÄÈËÉúÈý¾³½ç</a></li>\\r\\n                    </ul>\\r\\n                </div>\\r\\n\\t\\t\\t</div>\\r\\n\\t\\t\\t\\r\\n\\t\\t\\t<div class=\"height10\"></div>\\t\\t\\r\\n\\t\\t\\t<div>\\r\\n\\r\\n\\r\\n\\r\\n</div>\\r\\n\\r\\n\\t\\t\\t<div class=\"B5\">\\r\\n                <b>Ïà¹ØÔÄ¶Á</b>\\r\\n                <ul>\\r\\n                    <li><a href=\"https://www.hrfjw.com/fojing/liuzutanjing/200817.html\">¡¶Áù×æÌ³¾\\xad¡·µÄËÄÖÖ°æ±¾</a></li>\\r\\n                    <li><a href=\"https://www.hrfjw.com/fojing/liuzutanjing/200732.html\">ÕæÕýµÄ·ðÔÚÄÄÀï£¿ÕæÈç×ÔÐÔÊÇÕæ·ð£¬Ð°ÃÔÈý¶¾ÊÇÄ§Íõ</a></li>\\r\\n                    <li><a href=\"https://www.hrfjw.com/fojing/liuzutanjing/200731.html\">¡¶Ì³¾\\xad¡·´¦·²ÓÞ¶ø²»¼õ£¬ÔÚÏÍÊ¥¶ø²»ÔöµÄÒâË¼</a></li>\\r\\n                    <li><a href=\"https://www.hrfjw.com/fojing/liuzutanjing/200402.html\">¡¶Áù×æÌ³¾\\xad¡·ÖÐµÄÁ½´¦¡°Äî¡±ÊÇÖ¸Ê²Ã´£¿ÓÐÊ²Ã´²»Í¬£¿</a></li>\\r\\n                    <li><a href=\"https://www.hrfjw.com/fojing/liuzutanjing/200267.html\">´Ó¡¶Ì³¾\\xad¡·Æ¬¶Î£¬Õ°ÑöÑ§Ï°Áù×æ´óÊ¦µÄ¼ÎÑÔÜ²ÐÐ</a></li>\\r\\n                    <li><a href=\"https://www.hrfjw.com/fojing/liuzutanjing/200262.html\">Áù×æÌ³¾\\xadÊÇË\\xadÐ´µÄ£¿½²µÄÊÇÊ²Ã´ÄÚÈÝ£¿</a></li>\\r\\n                    <li><a href=\"https://www.hrfjw.com/fojing/liuzutanjing/199857.html\">Í¸¹ý¡¶Áù×æÌ³¾\\xad¡·À´¿´¶ÙÎòÓë½¥ÎòµÄÇø±ð</a></li>\\r\\n                    <li><a href=\"https://www.hrfjw.com/fojing/liuzutanjing/199487.html\">ÆÐÌá×ÔÐÔ£¬±¾À´Çå¾»£¬µ«ÓÃ´ËÐÄ£¬Ö±ÁË³É·ðµÄÒâË¼</a></li>\\r\\n                    <li><a href=\"https://www.hrfjw.com/fojing/liuzutanjing/198900.html\">´Ó¡¶Áù×æÌ³¾\\xad¡·ÖÐ×Ü½á³öµÄÈËÉúÈý¾³½ç</a></li>\\r\\n                    <li><a href=\"https://www.hrfjw.com/fojing/liuzutanjing/198213.html\">¡¶Áù×æÌ³¾\\xad¡·ÖÐ¡°²»Á¢ÎÄ×Ö¡±µÄº¬ÒåÊÇÊ²Ã´£¿</a></li>\\r\\n                </ul>\\r\\n            </div>\\r\\n            \\r\\n            <div class=\"B5\">\\r\\n                <b>ÍÆ¼öÔÄ¶Á</b>\\r\\n                <ul>\\r\\n                    <li><a href=\"https://www.hrfjw.com/fojing/huayanjing/200819.html\">»ªÑÏ¾\\xadÊÇ´ó³Ë¾\\xadµäÂð£¬ÓÐÄÄÐ©ººÒë±¾£¿</a></li>\\r\\n                    <li><a href=\"https://www.hrfjw.com/fojing/liuzutanjing/200732.html\">ÕæÕýµÄ·ðÔÚÄÄÀï£¿ÕæÈç×ÔÐÔÊÇÕæ·ð£¬Ð°ÃÔÈý¶¾ÊÇÄ§Íõ</a></li>\\r\\n                    <li><a href=\"https://www.hrfjw.com/fojing/liuzutanjing/200731.html\">¡¶Ì³¾\\xad¡·´¦·²ÓÞ¶ø²»¼õ£¬ÔÚÏÍÊ¥¶ø²»ÔöµÄÒâË¼</a></li>\\r\\n                    <li><a href=\"https://www.hrfjw.com/fojing/wenzhang/200725.html\">¡¶·¨¾ä¾\\xad¡·ÙÊËÌ£ºÈËÉúÔÚÊÀ¼ä£¬Ó¦ÊµÐÐÉÆµÂµÄ½²½â</a></li>\\r\\n                    <li><a href=\"https://www.hrfjw.com/fojing/zhuyin/200677.html\">°Ù·ðÃû¾\\xad×¢Òô°æ</a></li>\\r\\n                    <li><a href=\"https://www.hrfjw.com/fojing/wenzhang/200710.html\">ÔöÒ»°¢º¬¾\\xadÊÇË\\xad·\\xadÒëµÄ£¬¶àÉÙ¾í£¬½²Ê²Ã´£¿</a></li>\\r\\n                    <li><a href=\"https://www.hrfjw.com/fojing/huayanjing/200693.html\">¡¶»ªÑÏ¾\\xad¡·ÙÊÓï¡°ÈêµÈÖÚÉú£¬²»ÄÜ×Ô¾È¡±ÊÇÊ²Ã´ÒâË¼£¿</a></li>\\r\\n                    <li><a href=\"https://www.hrfjw.com/fojing/miaofalianhuajing/200501.html\">Ãî·¨Á«»ª¾\\xadÊÇË\\xadËµµÄ£¿</a></li>\\r\\n                    <li><a href=\"https://www.hrfjw.com/fojing/xinjing/200590.html\">¡°¿Õ¡±Óë¡°É«¡±ÏàÒÀÏà´æ£¬ÎÞÓÐ²îÒì</a></li>\\r\\n                    <li><a href=\"https://www.hrfjw.com/fojing/miaofalianhuajing/200532.html\">¡¶·¨»ª¾\\xad¡·µÄËÄ°²ÀÖÐÐÊÇÖ¸Ê²Ã´ÒâË¼£¿</a></li>\\r\\n                </ul>\\r\\n            </div>\\r\\n            \\r\\n            <div class=\"clear\"></div>\\r\\n\\t\\t\\t\\r\\n\\t\\t\\t<div class=\"B15\">\\r\\n                <b>²ÂÄãÏ²»¶</b>\\r\\n\\t\\t\\t\\t<dl>\\r\\n\\t\\t\\t\\t\\t<dd><a href=\"https://www.hrfjw.com/fojing/wuliangshoujing/zhuyin.html\"><img src=\"https://www.hrfjw.com/uploadfile/2016/0123/thumb_120_90_20160123053914703.jpg\" width=\"150\" height=\"95\" alt=\"ÎÞÁ¿ÊÙ¾\\xad×¢Òô\" title=\"ÎÞÁ¿ÊÙ¾\\xad×¢Òô\"/></a><p><a href=\"https://www.hrfjw.com/fojing/wuliangshoujing/zhuyin.html\" title=\"ÎÞÁ¿ÊÙ¾\\xad×¢Òô\">ÎÞÁ¿ÊÙ¾\\xad×¢Òô</a></p></dd>\\r\\n\\t\\t\\t\\t\\t<dd><a href=\"https://www.hrfjw.com/fojing/miaofalianhuajing/yuanwen.html\"><img src=\"https://www.hrfjw.com/uploadfile/2016/0123/thumb_120_90_20160123053630191.jpg\" width=\"150\" height=\"95\" alt=\"Ãî·¨Á«»ª¾\\xadÈ«ÎÄ\" title=\"Ãî·¨Á«»ª¾\\xadÈ«ÎÄ\"/></a><p><a href=\"https://www.hrfjw.com/fojing/miaofalianhuajing/yuanwen.html\" title=\"Ãî·¨Á«»ª¾\\xadÈ«ÎÄ\">Ãî·¨Á«»ª¾\\xadÈ«ÎÄ</a></p></dd>\\r\\n\\t\\t\\t\\t\\t<dd><a href=\"https://www.hrfjw.com/fojing/xinjing/81809.html\"><img src=\"https://www.hrfjw.com/uploadfile/2016/0123/thumb_120_90_20160123053926679.jpg\" width=\"150\" height=\"95\" alt=\"¡¶ÐÄ¾\\xad¡·ËÐ¶Á¡¢¶ÁËÐµÄ²½Öè\" title=\"¡¶ÐÄ¾\\xad¡·ËÐ¶Á¡¢¶ÁËÐµÄ²½Öè\"/></a><p><a href=\"https://www.hrfjw.com/fojing/xinjing/81809.html\" title=\"¡¶ÐÄ¾\\xad¡·ËÐ¶Á¡¢¶ÁËÐµÄ²½Öè\">¡¶ÐÄ¾\\xad¡·ËÐ¶Á¡¢¶ÁËÐµÄ²½Öè</a></p></dd>\\r\\n\\t\\t\\t\\t\\t<dd><a href=\"https://www.hrfjw.com/fojing/jingangjing/39210.html\"><img src=\"https://www.hrfjw.com/uploadfile/2016/0628/thumb_120_90_20160628031615285.jpeg\" width=\"150\" height=\"95\" alt=\"¡¶½ð¸Õ¾\\xad¡·È«ÎÄ-½ð¸Õ¾\\xadÔ\\xadÎÄ¡¢ÒëÎÄ¼°ÊÍÒâ\" title=\"¡¶½ð¸Õ¾\\xad¡·È«ÎÄ-½ð¸Õ¾\\xadÔ\\xadÎÄ¡¢ÒëÎÄ¼°ÊÍÒâ\"/></a><p><a href=\"https://www.hrfjw.com/fojing/jingangjing/39210.html\" title=\"¡¶½ð¸Õ¾\\xad¡·È«ÎÄ-½ð¸Õ¾\\xadÔ\\xadÎÄ¡¢ÒëÎÄ¼°ÊÍÒâ\">¡¶½ð¸Õ¾\\xad¡·È«ÎÄ-½ð¸Õ¾\\xadÔ\\xadÎÄ¡¢ÒëÎÄ¼°ÊÍÒâ</a></p></dd>\\r\\n\\t\\t\\t\\t</dl>\\r\\n                <ul>\\r\\n                    <li><a href=\"https://www.hrfjw.com/fojing/lengyanjing/baihuawen.html\" title=\"ÀãÑÏ¾\\xad°×»°ÎÄ\">ÀãÑÏ¾\\xad°×»°ÎÄ</a></li>\\r\\n                    <li><a href=\"https://www.hrfjw.com/fojing/xinjing/yuanwen.html\" title=\"°ãÈô²¨ÂÞÃÛ¶àÐÄ¾\\xadÈ«ÎÄ\">°ãÈô²¨ÂÞÃÛ¶àÐÄ¾\\xadÈ«ÎÄ</a></li>\\r\\n                    <li><a href=\"https://www.hrfjw.com/fojing/pumenpin/82527.html\" title=\"¹ÛÊÀÒôÆÐÈøÆÕÃÅÆ·ÄîËÐ¼°»ØÏòÒÇ¹ì\">¹ÛÊÀÒôÆÐÈøÆÕÃÅÆ·ÄîËÐ¼°»ØÏòÒÇ¹ì</a></li>\\r\\n                    <li><a href=\"https://www.hrfjw.com/fojing/emituojing/zhuyin.html\" title=\"·ðËµ°¢ÃÖÍÓ¾\\xad×¢Òô°æ\">·ðËµ°¢ÃÖÍÓ¾\\xad×¢Òô°æ</a></li>\\r\\n                    <li><a href=\"https://www.hrfjw.com/fojing/puxianxingyuanpin/yuanwen.html\" title=\"ÆÕÏÍÐÐÔ¸Æ·Ô\\xadÎÄ\">ÆÕÏÍÐÐÔ¸Æ·Ô\\xadÎÄ</a></li>\\r\\n                    <li><a href=\"https://www.hrfjw.com/fojing/yaoshijing/yuanwen.html\" title=\"Ò©Ê¦¾\\xadÔ\\xadÎÄ\">Ò©Ê¦¾\\xadÔ\\xadÎÄ</a></li>\\r\\n                    <li><a href=\"https://www.hrfjw.com/fojing/jingangjing/zhuyin.html\" title=\"½ð¸Õ¾\\xad×¢Òô°æ\">½ð¸Õ¾\\xad×¢Òô°æ</a></li>\\r\\n                    <li><a href=\"https://www.hrfjw.com/fojing/miaofalianhuajing/zhuyin.html\" title=\"Ãî·¨Á«»ª¾\\xad×¢Òô\">Ãî·¨Á«»ª¾\\xad×¢Òô</a></li>\\r\\n                    <li><a href=\"https://www.hrfjw.com/fojing/pumenpin/zhuyin.html\" title=\"¹ÛÊÀÒôÆÐÈøÆÕÃÅÆ·×¢Òô°æ\">¹ÛÊÀÒôÆÐÈøÆÕÃÅÆ·×¢Òô°æ</a></li>\\r\\n                    <li><a href=\"https://www.hrfjw.com/fojing/wuliangshoujing/yuanwen.html\" title=\"ÎÞÁ¿ÊÙ¾\\xadÔ\\xadÎÄ\">ÎÞÁ¿ÊÙ¾\\xadÔ\\xadÎÄ</a></li>\\r\\n                    <li><a href=\"https://www.hrfjw.com/fojing/lengyanjing/zhuyin.html\" title=\"ÀãÑÏ¾\\xad×¢Òô\">ÀãÑÏ¾\\xad×¢Òô</a></li>\\r\\n                    <li><a href=\"https://www.hrfjw.com/fojing/yuanjuejing/yuanwen.html\" title=\"Ô²¾õ¾\\xadÔ\\xadÎÄ\">Ô²¾õ¾\\xadÔ\\xadÎÄ</a></li>\\r\\n                </ul>\\r\\n            </div>\\r\\n\\t\\t\\t\\r\\n\\t\\t\\t<div class=\"height10\"></div>\\r\\n\\t\\r\\n\\t\\t\\t<div>\\r\\n\\r\\n\\r\\n\\r\\n</div>\\r\\n\\t\\t\\t<div class=\"height10\"></div>\\r\\n\\t\\t\\t\\r\\n\\t\\t\\t<div class=\"B16\">\\r\\n\\t\\t\\t\\t<div class=\"B16_t\">\\r\\n\\t\\t\\t\\t\\t<b>¾«²ÊÍÆ¼ö</b>\\r\\n\\t\\t\\t\\t\\t<ul id=\"menu16\">\\r\\n\\t\\t\\t\\t\\t\\t<li onmouseover=\"setTab(16,0)\" class=\"hover\">ÈÈÃÅ</li>\\r\\n\\t\\t\\t\\t\\t\\t<li onmouseover=\"setTab(16,1)\">ÍÆ¼ö</li>\\r\\n\\t\\t\\t\\t\\t\\t<li onmouseover=\"setTab(16,2)\">ÎÄ¼¯</li>\\r\\n\\t\\t\\t\\t\\t</ul>\\r\\n\\t\\t\\t\\t</div>\\r\\n\\t\\t\\t\\t<div class=\"B16_c\" id=\"main16\">\\r\\n\\t\\t\\t\\t\\t<ul style=\"display:block;\">\\r\\n\\t\\t\\t\\t\\t\\t<li><a href=\"https://www.hrfjw.com/fojing/dizangjing/zhuyin.html\" title=\"µØ²Ø¾\\xad×¢Òô°æ\">µØ²Ø¾\\xad×¢Òô°æ</a></li>\\r\\n\\t\\t\\t\\t\\t\\t<li><a href=\"https://www.hrfjw.com/fojing/wuliangshoujing/zhuyin.html\" title=\"ÎÞÁ¿ÊÙ¾\\xad×¢Òô\">ÎÞÁ¿ÊÙ¾\\xad×¢Òô</a></li>\\r\\n\\t\\t\\t\\t\\t\\t<li><a href=\"https://www.hrfjw.com/fojing/miaofalianhuajing/yuanwen.html\" title=\"Ãî·¨Á«»ª¾\\xadÈ«ÎÄ\">Ãî·¨Á«»ª¾\\xadÈ«ÎÄ</a></li>\\r\\n\\t\\t\\t\\t\\t\\t<li><a href=\"https://www.hrfjw.com/fojing/xinjing/81809.html\" title=\"¡¶ÐÄ¾\\xad¡·ËÐ¶Á¡¢¶ÁËÐµÄ²½Öè\">¡¶ÐÄ¾\\xad¡·ËÐ¶Á¡¢¶ÁËÐµÄ²½Öè</a></li>\\r\\n\\t\\t\\t\\t\\t\\t<li><a href=\"https://www.hrfjw.com/fojing/jingangjing/39210.html\" title=\"¡¶½ð¸Õ¾\\xad¡·È«ÎÄ-½ð¸Õ¾\\xadÔ\\xadÎÄ¡¢ÒëÎÄ¼°ÊÍÒâ\">¡¶½ð¸Õ¾\\xad¡·È«ÎÄ-½ð¸Õ¾\\xadÔ\\xadÎÄ¡¢ÒëÎÄ¼°ÊÍÒâ</a></li>\\r\\n\\t\\t\\t\\t\\t\\t<li><a href=\"https://www.hrfjw.com/fojing/dizangjing/yuanwen.html\" title=\"µØ²Ø¾\\xadÔ\\xadÎÄ\">µØ²Ø¾\\xadÔ\\xadÎÄ</a></li>\\r\\n\\t\\t\\t\\t\\t\\t<li><a href=\"https://www.hrfjw.com/fojing/lengyanjing/baihuawen.html\" title=\"ÀãÑÏ¾\\xad°×»°ÎÄ\">ÀãÑÏ¾\\xad°×»°ÎÄ</a></li>\\r\\n\\t\\t\\t\\t\\t\\t<li><a href=\"https://www.hrfjw.com/fojing/xinjing/yuanwen.html\" title=\"°ãÈô²¨ÂÞÃÛ¶àÐÄ¾\\xadÈ«ÎÄ\">°ãÈô²¨ÂÞÃÛ¶àÐÄ¾\\xadÈ«ÎÄ</a></li>\\r\\n\\t\\t\\t\\t\\t\\t<li><a href=\"https://www.hrfjw.com/fojing/pumenpin/82527.html\" title=\"¹ÛÊÀÒôÆÐÈøÆÕÃÅÆ·ÄîËÐ¼°»ØÏòÒÇ¹ì\">¹ÛÊÀÒôÆÐÈøÆÕÃÅÆ·ÄîËÐ¼°»ØÏòÒÇ¹ì</a></li>\\r\\n\\t\\t\\t\\t\\t\\t<li><a href=\"https://www.hrfjw.com/fojing/pumenpin/yuanwen.html\" title=\"¡¶Ãî·¨Á«»ª¾\\xad¹ÛÊÀÒôÆÐÈøÆÕÃÅÆ·¡·È«ÎÄ\">¡¶Ãî·¨Á«»ª¾\\xad¹ÛÊÀÒôÆÐÈøÆÕÃÅÆ·¡·È«ÎÄ</a></li>\\r\\n\\t\\t\\t\\t\\t\\t<li><a href=\"https://www.hrfjw.com/fojing/emituojing/zhuyin.html\" title=\"·ðËµ°¢ÃÖÍÓ¾\\xad×¢Òô°æ\">·ðËµ°¢ÃÖÍÓ¾\\xad×¢Òô°æ</a></li>\\r\\n\\t\\t\\t\\t\\t\\t<li><a href=\"https://www.hrfjw.com/fojing/puxianxingyuanpin/yuanwen.html\" title=\"ÆÕÏÍÐÐÔ¸Æ·Ô\\xadÎÄ\">ÆÕÏÍÐÐÔ¸Æ·Ô\\xadÎÄ</a></li>\\r\\n\\t\\t\\t\\t\\t\\t<li><a href=\"https://www.hrfjw.com/fojing/yaoshijing/yuanwen.html\" title=\"Ò©Ê¦¾\\xadÔ\\xadÎÄ\">Ò©Ê¦¾\\xadÔ\\xadÎÄ</a></li>\\r\\n\\t\\t\\t\\t\\t\\t<li><a href=\"https://www.hrfjw.com/fojing/jingangjing/zhuyin.html\" title=\"½ð¸Õ¾\\xad×¢Òô°æ\">½ð¸Õ¾\\xad×¢Òô°æ</a></li>\\r\\n\\t\\t\\t\\t\\t\\t<li><a href=\"https://www.hrfjw.com/fojing/miaofalianhuajing/zhuyin.html\" title=\"Ãî·¨Á«»ª¾\\xad×¢Òô\">Ãî·¨Á«»ª¾\\xad×¢Òô</a></li>\\r\\n\\t\\t\\t\\t\\t\\t<li><a href=\"https://www.hrfjw.com/fojing/pumenpin/zhuyin.html\" title=\"¹ÛÊÀÒôÆÐÈøÆÕÃÅÆ·×¢Òô°æ\">¹ÛÊÀÒôÆÐÈøÆÕÃÅÆ·×¢Òô°æ</a></li>\\r\\n\\t\\t\\t\\t\\t\\t<li><a href=\"https://www.hrfjw.com/fojing/wuliangshoujing/yuanwen.html\" title=\"ÎÞÁ¿ÊÙ¾\\xadÔ\\xadÎÄ\">ÎÞÁ¿ÊÙ¾\\xadÔ\\xadÎÄ</a></li>\\r\\n\\t\\t\\t\\t\\t\\t<li><a href=\"https://www.hrfjw.com/fojing/lengyanjing/zhuyin.html\" title=\"ÀãÑÏ¾\\xad×¢Òô\">ÀãÑÏ¾\\xad×¢Òô</a></li>\\r\\n\\t\\t\\t\\t\\t\\t<li><a href=\"https://www.hrfjw.com/fojing/jingangjing/yuanwen.html\" title=\"½ð¸Õ¾\\xadÔ\\xadÎÄ\">½ð¸Õ¾\\xadÔ\\xadÎÄ</a></li>\\r\\n\\t\\t\\t\\t\\t\\t<li><a href=\"https://www.hrfjw.com/fojing/yuanjuejing/yuanwen.html\" title=\"Ô²¾õ¾\\xadÔ\\xadÎÄ\">Ô²¾õ¾\\xadÔ\\xadÎÄ</a></li>\\r\\n\\t\\t\\t\\t\\t\\t<li><a href=\"https://www.hrfjw.com/fojing/wuliangshoujing/40729.html\" title=\"ÎÞÁ¿ÊÙ¾\\xadÔ\\xadÎÄ\">ÎÞÁ¿ÊÙ¾\\xadÔ\\xadÎÄ</a></li>\\r\\n\\t\\t\\t\\t\\t\\t<li><a href=\"https://www.hrfjw.com/fojing/miaofalianhuajing/82648.html\" title=\"Ãî·¨Á«»ª¾\\xadÔ\\xadÎÄÓë°×»°ÎÄ¶ÔÕÕ°æ\">Ãî·¨Á«»ª¾\\xadÔ\\xadÎÄÓë°×»°ÎÄ¶ÔÕÕ°æ</a></li>\\r\\n\\t\\t\\t\\t\\t\\t<li><a href=\"https://www.hrfjw.com/fojing/lengyanjing/quanwen.html\" title=\"ÀãÑÏ¾\\xadÈ«ÎÄ\">ÀãÑÏ¾\\xadÈ«ÎÄ</a></li>\\r\\n\\t\\t\\t\\t\\t\\t<li><a href=\"https://www.hrfjw.com/fojing/puxianxingyuanpin/zhuyin.html\" title=\"ÆÕÏÍÐÐÔ¸Æ·×¢Òô°æ\">ÆÕÏÍÐÐÔ¸Æ·×¢Òô°æ</a></li>\\r\\n\\t\\t\\t\\t\\t\\t<li><a href=\"https://www.hrfjw.com/fojing/xinjing/quanwen.html\" title=\"¡¶ÐÄ¾\\xad¡·È«ÎÄ-ÐÄ¾\\xadÈ«ÎÄ×¢Òô¼°ÒëÎÄ\">¡¶ÐÄ¾\\xad¡·È«ÎÄ-ÐÄ¾\\xadÈ«ÎÄ×¢Òô¼°ÒëÎÄ</a></li>\\r\\n\\t\\t\\t\\t\\t\\t<li><a href=\"https://www.hrfjw.com/fojing/jingangjing/39236.html\" title=\"½ð¸Õ°ãÈô²¨ÂÞÃÛ¾\\xadÈ«ÎÄ\">½ð¸Õ°ãÈô²¨ÂÞÃÛ¾\\xadÈ«ÎÄ</a></li>\\r\\n\\t\\t\\t\\t\\t\\t<li><a href=\"https://www.hrfjw.com/fojing/pumenpin/82429.html\" title=\"ÆÕÃÅÆ·ÒÇ¹ì£¬¹ÛÊÀÒôÆÐÈøÆÕÃÅÆ·ÍêÕûÒÇ¹ì\">ÆÕÃÅÆ·ÒÇ¹ì£¬¹ÛÊÀÒôÆÐÈøÆÕÃÅÆ·ÍêÕûÒÇ¹ì</a></li>\\r\\n\\t\\t\\t\\t\\t\\t<li><a href=\"https://www.hrfjw.com/fojing/jingangjing/39235.html\" title=\"½ð¸Õ¾\\xadÈ«ÎÄ¼°ÒëÎÄ\">½ð¸Õ¾\\xadÈ«ÎÄ¼°ÒëÎÄ</a></li>\\r\\n\\t\\t\\t\\t\\t\\t<li><a href=\"https://www.hrfjw.com/fojing/huayanjing/yuanwen.html\" title=\"»ªÑÏ¾\\xadÔ\\xadÎÄ\">»ªÑÏ¾\\xadÔ\\xadÎÄ</a></li>\\r\\n\\t\\t\\t\\t\\t\\t<li><a href=\"https://www.hrfjw.com/fojing/wuliangshoujing/quanwen.html\" title=\"ÎÞÁ¿ÊÙ¾\\xadÈ«ÎÄ\">ÎÞÁ¿ÊÙ¾\\xadÈ«ÎÄ</a></li>\\r\\n\\t\\t\\t\\t\\t\\t<li><a href=\"https://www.hrfjw.com/fojing/dizangjing/82510.html\" title=\"µØ²Ø¾\\xad½âÊÍ-µØ²Ø¾\\xadÈ«ÎÄ°×»°½âÊÍ\">µØ²Ø¾\\xad½âÊÍ-µØ²Ø¾\\xadÈ«ÎÄ°×»°½âÊÍ</a></li>\\r\\n\\t\\t\\t\\t\\t\\t<li><a href=\"https://www.hrfjw.com/fojing/xinjing/zhuyin.html\" title=\"ÐÄ¾\\xad×¢Òô°æ\">ÐÄ¾\\xad×¢Òô°æ</a></li>\\r\\n\\t\\t\\t\\t\\t\\t<li><a href=\"https://www.hrfjw.com/fojing/weimojiejing/yuanwen.html\" title=\"Î¬Ä¦Úµ¾\\xadÔ\\xadÎÄ\">Î¬Ä¦Úµ¾\\xadÔ\\xadÎÄ</a></li>\\r\\n\\t\\t\\t\\t\\t\\t<li><a href=\"https://www.hrfjw.com/fojing/shishanyedaojing/yuanwen.html\" title=\"Ê®ÉÆÒµµÀ¾\\xadÔ\\xadÎÄ\">Ê®ÉÆÒµµÀ¾\\xadÔ\\xadÎÄ</a></li>\\r\\n\\t\\t\\t\\t\\t\\t<li><a href=\"https://www.hrfjw.com/fojing/xinjing/81814.html\" title=\"ÐÄ¾\\xadµÄ×÷ÓÃºÍºÃ´¦£¬ÐÄ¾\\xadÓÐÊ²Ã´×÷ÓÃ£¿\">ÐÄ¾\\xadµÄ×÷ÓÃºÍºÃ´¦£¬ÐÄ¾\\xadÓÐÊ²Ã´×÷ÓÃ£¿</a></li>\\r\\n\\t\\t\\t\\t\\t\\t<li><a href=\"https://www.hrfjw.com/fojing/pumenpin/137037.html\" title=\"¹ÛÊÀÒôÆÐÈøÆÕÃÅÆ·£¨È«ÎÄ£©\">¹ÛÊÀÒôÆÐÈøÆÕÃÅÆ·£¨È«ÎÄ£©</a></li>\\r\\n\\t\\t\\t\\t\\t\\t<li><a href=\"https://www.hrfjw.com/fojing/emituojing/41135.html\" title=\"·ðËµ°¢ÃÖÍÓ¾\\xadÔ\\xadÎÄ\">·ðËµ°¢ÃÖÍÓ¾\\xadÔ\\xadÎÄ</a></li>\\r\\n\\t\\t\\t\\t\\t\\t<li><a href=\"https://www.hrfjw.com/fojing/xinjing/131758.html\" title=\"¡¶ÐÄ¾\\xad¡·È«ÎÄ¡¢ÐÄ¾\\xadÒëÎÄ½âÊÍ\">¡¶ÐÄ¾\\xad¡·È«ÎÄ¡¢ÐÄ¾\\xadÒëÎÄ½âÊÍ</a></li>\\r\\n\\t\\t\\t\\t\\t\\t<li><a href=\"https://www.hrfjw.com/fojing/wuliangshoujing/baihuawen.html\" title=\"ÎÞÁ¿ÊÙ¾\\xad°×»°ÎÄ\">ÎÞÁ¿ÊÙ¾\\xad°×»°ÎÄ</a></li>\\r\\n\\t\\t\\t\\t\\t\\t<li><a href=\"https://www.hrfjw.com/fojing/jingangjing/yiwen.html\" title=\"½ð¸Õ¾\\xadÒëÎÄ\">½ð¸Õ¾\\xadÒëÎÄ</a></li>\\r\\n\\t\\t\\t\\t\\t</ul>\\r\\n\\t\\t\\t\\t\\t<ul>\\r\\n\\t\\t\\t\\t\\t\\t<li><a href=\"https://www.hrfjw.com/fojing/yuanjuejing/201047.html\" title=\"Ô²¾õ¾\\xad½²µÄÊÇÊ²Ã´ÄÚÈÝ£¿Ô²¾õ¾\\xad¸ÅËµ\">Ô²¾õ¾\\xad½²µÄÊÇÊ²Ã´ÄÚÈÝ£¿Ô²¾õ¾\\xad¸ÅËµ</a></li>\\r\\n\\t\\t\\t\\t\\t\\t<li><a href=\"https://www.hrfjw.com/fojing/wenzhang/201035.html\" title=\"¡¶´ó±¦»ý¾\\xad¡·¹²ÓÐ¶àÉÙ¾í£¬ÊÇË\\xad·\\xadÒëµÄ£¿\">¡¶´ó±¦»ý¾\\xad¡·¹²ÓÐ¶àÉÙ¾í£¬ÊÇË\\xad·\\xadÒëµÄ£¿</a></li>\\r\\n\\t\\t\\t\\t\\t\\t<li><a href=\"https://www.hrfjw.com/fojing/lengyanjing/201013.html\" title=\"ÀãÑÏ¾\\xadÊÇÔõÃ´À´µÄ£¿ÀãÑÏ¾\\xadµÄÓÉÀ´¹ÊÊÂ\">ÀãÑÏ¾\\xadÊÇÔõÃ´À´µÄ£¿ÀãÑÏ¾\\xadµÄÓÉÀ´¹ÊÊÂ</a></li>\\r\\n\\t\\t\\t\\t\\t\\t<li><a href=\"https://www.hrfjw.com/fojing/rumen/201000.html\" title=\"·ð¾\\xadµÄÐò·Ö¡¢Õý×Ú·Ö¡¢Á÷Í¨·ÖÊÇÊ²Ã´ÒâË¼£¿\">·ð¾\\xadµÄÐò·Ö¡¢Õý×Ú·Ö¡¢Á÷Í¨·ÖÊÇÊ²Ã´ÒâË¼£¿</a></li>\\r\\n\\t\\t\\t\\t\\t\\t<li><a href=\"https://www.hrfjw.com/fojing/xinjing/200942.html\" title=\"ÐþÞÊ´óÊ¦°æ¡¶ÐÄ¾\\xad¡·½²¼Ç\">ÐþÞÊ´óÊ¦°æ¡¶ÐÄ¾\\xad¡·½²¼Ç</a></li>\\r\\n\\t\\t\\t\\t\\t\\t<li><a href=\"https://www.hrfjw.com/fojing/dizangjing/200948.html\" title=\"ÄîµØ²Ø¾\\xadÆÚ¼ä×Ü×öØ¬ÃÎ£¬ÕâÊÇÎªÊ²Ã´£¿\">ÄîµØ²Ø¾\\xadÆÚ¼ä×Ü×öØ¬ÃÎ£¬ÕâÊÇÎªÊ²Ã´£¿</a></li>\\r\\n\\t\\t\\t\\t\\t\\t<li><a href=\"https://www.hrfjw.com/fojing/huayanjing/200925.html\" title=\"¡¶»ªÑÏ¾\\xad¡·ÊÇÔõÃ´À´µÄ£¬ÊÇË\\xad´ÓÁú¹¬´ø³öÀ´µÄ£¿\">¡¶»ªÑÏ¾\\xad¡·ÊÇÔõÃ´À´µÄ£¬ÊÇË\\xad´ÓÁú¹¬´ø³öÀ´µÄ£¿</a></li>\\r\\n\\t\\t\\t\\t\\t\\t<li><a href=\"https://www.hrfjw.com/fojing/rumen/200899.html\" title=\"Äî¾\\xadÊ±£¬¿ÉÒÔ¸ú×ÅÎÄ×ÖÈ¥Àí½âÄÚÈÝ£¬¸ÐÊÜ¾°ÏóÂð£¿\">Äî¾\\xadÊ±£¬¿ÉÒÔ¸ú×ÅÎÄ×ÖÈ¥Àí½âÄÚÈÝ£¬¸ÐÊÜ¾°ÏóÂð£¿</a></li>\\r\\n\\t\\t\\t\\t\\t\\t<li><a href=\"https://www.hrfjw.com/fojing/liuzutanjing/200817.html\" title=\"¡¶Áù×æÌ³¾\\xad¡·µÄËÄÖÖ°æ±¾\">¡¶Áù×æÌ³¾\\xad¡·µÄËÄÖÖ°æ±¾</a></li>\\r\\n\\t\\t\\t\\t\\t\\t<li><a href=\"https://www.hrfjw.com/fojing/weimojiejing/200796.html\" title=\"Î¬Ä¦Úµ¾\\xadÖ÷Òª½²ÁËÊ²Ã´£¿\">Î¬Ä¦Úµ¾\\xadÖ÷Òª½²ÁËÊ²Ã´£¿</a></li>\\r\\n\\t\\t\\t\\t\\t\\t<li><a href=\"https://www.hrfjw.com/fojing/huayanjing/200819.html\" title=\"»ªÑÏ¾\\xadÊÇ´ó³Ë¾\\xadµäÂð£¬ÓÐÄÄÐ©ººÒë±¾£¿\">»ªÑÏ¾\\xadÊÇ´ó³Ë¾\\xadµäÂð£¬ÓÐÄÄÐ©ººÒë±¾£¿</a></li>\\r\\n\\t\\t\\t\\t\\t\\t<li><a href=\"https://www.hrfjw.com/fojing/liuzutanjing/200732.html\" title=\"ÕæÕýµÄ·ðÔÚÄÄÀï£¿ÕæÈç×ÔÐÔÊÇÕæ·ð£¬Ð°ÃÔÈý¶¾ÊÇÄ§Íõ\">ÕæÕýµÄ·ðÔÚÄÄÀï£¿ÕæÈç×ÔÐÔÊÇÕæ·ð£¬Ð°ÃÔÈý¶¾ÊÇÄ§Íõ</a></li>\\r\\n\\t\\t\\t\\t\\t\\t<li><a href=\"https://www.hrfjw.com/fojing/liuzutanjing/200731.html\" title=\"¡¶Ì³¾\\xad¡·´¦·²ÓÞ¶ø²»¼õ£¬ÔÚÏÍÊ¥¶ø²»ÔöµÄÒâË¼\">¡¶Ì³¾\\xad¡·´¦·²ÓÞ¶ø²»¼õ£¬ÔÚÏÍÊ¥¶ø²»ÔöµÄÒâË¼</a></li>\\r\\n\\t\\t\\t\\t\\t\\t<li><a href=\"https://www.hrfjw.com/fojing/wenzhang/200725.html\" title=\"¡¶·¨¾ä¾\\xad¡·ÙÊËÌ£ºÈËÉúÔÚÊÀ¼ä£¬Ó¦ÊµÐÐÉÆµÂµÄ½²½â\">¡¶·¨¾ä¾\\xad¡·ÙÊËÌ£ºÈËÉúÔÚÊÀ¼ä£¬Ó¦ÊµÐÐÉÆµÂµÄ½²½â</a></li>\\r\\n\\t\\t\\t\\t\\t\\t<li><a href=\"https://www.hrfjw.com/fojing/zhuyin/200677.html\" title=\"°Ù·ðÃû¾\\xad×¢Òô°æ\">°Ù·ðÃû¾\\xad×¢Òô°æ</a></li>\\r\\n\\t\\t\\t\\t\\t\\t<li><a href=\"https://www.hrfjw.com/fojing/wenzhang/200710.html\" title=\"ÔöÒ»°¢º¬¾\\xadÊÇË\\xad·\\xadÒëµÄ£¬¶àÉÙ¾í£¬½²Ê²Ã´£¿\">ÔöÒ»°¢º¬¾\\xadÊÇË\\xad·\\xadÒëµÄ£¬¶àÉÙ¾í£¬½²Ê²Ã´£¿</a></li>\\r\\n\\t\\t\\t\\t\\t\\t<li><a href=\"https://www.hrfjw.com/fojing/huayanjing/200693.html\" title=\"¡¶»ªÑÏ¾\\xad¡·ÙÊÓï¡°ÈêµÈÖÚÉú£¬²»ÄÜ×Ô¾È¡±ÊÇÊ²Ã´ÒâË¼£¿\">¡¶»ªÑÏ¾\\xad¡·ÙÊÓï¡°ÈêµÈÖÚÉú£¬²»ÄÜ×Ô¾È¡±ÊÇÊ²Ã´ÒâË¼£¿</a></li>\\r\\n\\t\\t\\t\\t\\t\\t<li><a href=\"https://www.hrfjw.com/fojing/miaofalianhuajing/200501.html\" title=\"Ãî·¨Á«»ª¾\\xadÊÇË\\xadËµµÄ£¿\">Ãî·¨Á«»ª¾\\xadÊÇË\\xadËµµÄ£¿</a></li>\\r\\n\\t\\t\\t\\t\\t\\t<li><a href=\"https://www.hrfjw.com/fojing/xinjing/200590.html\" title=\"¡°¿Õ¡±Óë¡°É«¡±ÏàÒÀÏà´æ£¬ÎÞÓÐ²îÒì\">¡°¿Õ¡±Óë¡°É«¡±ÏàÒÀÏà´æ£¬ÎÞÓÐ²îÒì</a></li>\\r\\n\\t\\t\\t\\t\\t\\t<li><a href=\"https://www.hrfjw.com/fojing/miaofalianhuajing/200532.html\" title=\"¡¶·¨»ª¾\\xad¡·µÄËÄ°²ÀÖÐÐÊÇÖ¸Ê²Ã´ÒâË¼£¿\">¡¶·¨»ª¾\\xad¡·µÄËÄ°²ÀÖÐÐÊÇÖ¸Ê²Ã´ÒâË¼£¿</a></li>\\r\\n\\t\\t\\t\\t\\t\\t<li><a href=\"https://www.hrfjw.com/fojing/wenzhang/200569.html\" title=\"¡¶·¨¾ä¾\\xad¡¤ÖÇÕßÆ·¡·ÙÊËÌ£ºÖÇÕß²»ÎªµÃÊ§ÐÄ¶¯\">¡¶·¨¾ä¾\\xad¡¤ÖÇÕßÆ·¡·ÙÊËÌ£ºÖÇÕß²»ÎªµÃÊ§ÐÄ¶¯</a></li>\\r\\n\\t\\t\\t\\t\\t\\t<li><a href=\"https://www.hrfjw.com/fojing/weimojiejing/200512.html\" title=\"¡¶Î¬Ä¦Úµ¾\\xad¡·µÄººÒë±¾Óë×¢Êè\">¡¶Î¬Ä¦Úµ¾\\xad¡·µÄººÒë±¾Óë×¢Êè</a></li>\\r\\n\\t\\t\\t\\t\\t\\t<li><a href=\"https://www.hrfjw.com/fojing/xinjing/200523.html\" title=\"°ãÈô²¨ÂÞÃÛ¶àÐÄ¾\\xadÊÇË\\xad·\\xadÒëµÄ£¿ÐÄ¾\\xadÒëÕßÐþÞÊ´óÊ¦\">°ãÈô²¨ÂÞÃÛ¶àÐÄ¾\\xadÊÇË\\xad·\\xadÒëµÄ£¿ÐÄ¾\\xadÒëÕßÐþÞÊ´óÊ¦</a></li>\\r\\n\\t\\t\\t\\t\\t\\t<li><a href=\"https://www.hrfjw.com/fojing/zhuyin/200439.html\" title=\"·ðÓï·¨ÃÅ¾\\xad×¢Òô°æ\">·ðÓï·¨ÃÅ¾\\xad×¢Òô°æ</a></li>\\r\\n\\t\\t\\t\\t\\t\\t<li><a href=\"https://www.hrfjw.com/fojing/miaofalianhuajing/200500.html\" title=\"·¨»ª¾\\xadÊÇË\\xad·\\xadÒëµÄ£¿Ãî·¨Á«»ª¾\\xadÒëÕßð¯Ä¦ÂÞÊ²½éÉÜ\">·¨»ª¾\\xadÊÇË\\xad·\\xadÒëµÄ£¿Ãî·¨Á«»ª¾\\xadÒëÕßð¯Ä¦ÂÞÊ²½éÉÜ</a></li>\\r\\n\\t\\t\\t\\t\\t\\t<li><a href=\"https://www.hrfjw.com/fojing/wuliangshoujing/200422.html\" title=\"¡¶ÎÞÁ¿ÊÙ¾\\xad¡·Èý±²ÍùÉúÊÇÍ¨Í¾ÆÐÌáÐÄ»¹ÊÇ¾»ÍÁÆÐÌáÐÄ£¿\">¡¶ÎÞÁ¿ÊÙ¾\\xad¡·Èý±²ÍùÉúÊÇÍ¨Í¾ÆÐÌáÐÄ»¹ÊÇ¾»ÍÁÆÐÌáÐÄ£¿</a></li>\\r\\n\\t\\t\\t\\t\\t\\t<li><a href=\"https://www.hrfjw.com/fojing/wenzhang/200463.html\" title=\"¡¶·¨¾ä¾\\xad¡·ÙÊËÌ£º´ËÐÄÄÑ¾õ²ì£¬ËæÓûÍûÁ÷×ªµÄ½â¶Á\">¡¶·¨¾ä¾\\xad¡·ÙÊËÌ£º´ËÐÄÄÑ¾õ²ì£¬ËæÓûÍûÁ÷×ªµÄ½â¶Á</a></li>\\r\\n\\t\\t\\t\\t\\t\\t<li><a href=\"https://www.hrfjw.com/fojing/xinjing/200455.html\" title=\"¡¶ÐÄ¾\\xad¡·µÄ´óÖÇ»Û\">¡¶ÐÄ¾\\xad¡·µÄ´óÖÇ»Û</a></li>\\r\\n\\t\\t\\t\\t\\t\\t<li><a href=\"https://www.hrfjw.com/fojing/jingangjing/200447.html\" title=\"Ô²³ÎìøÊ¦·\\xad¸ú¶·×÷Àñ½²¡¶½ð¸Õ¾\\xad¡·\">Ô²³ÎìøÊ¦·\\xad¸ú¶·×÷Àñ½²¡¶½ð¸Õ¾\\xad¡·</a></li>\\r\\n\\t\\t\\t\\t\\t\\t<li><a href=\"https://www.hrfjw.com/fojing/wenzhang/200383.html\" title=\"¡¶¸¸Ä¸¶÷ÖØÄÑ±¨¾\\xad¡·Ìá³«Ð¢µÀµÄÙÊÓï\">¡¶¸¸Ä¸¶÷ÖØÄÑ±¨¾\\xad¡·Ìá³«Ð¢µÀµÄÙÊÓï</a></li>\\r\\n\\t\\t\\t\\t\\t\\t<li><a href=\"https://www.hrfjw.com/fojing/liuzutanjing/200402.html\" title=\"¡¶Áù×æÌ³¾\\xad¡·ÖÐµÄÁ½´¦¡°Äî¡±ÊÇÖ¸Ê²Ã´£¿ÓÐÊ²Ã´²»Í¬£¿\">¡¶Áù×æÌ³¾\\xad¡·ÖÐµÄÁ½´¦¡°Äî¡±ÊÇÖ¸Ê²Ã´£¿ÓÐÊ²Ã´²»Í¬£¿</a></li>\\r\\n\\t\\t\\t\\t\\t\\t<li><a href=\"https://www.hrfjw.com/fojing/zhuyin/200349.html\" title=\"·ðËµÆÐÈøÐÐÎåÊ®ÔµÉí¾\\xad×¢Òô°æ\">·ðËµÆÐÈøÐÐÎåÊ®ÔµÉí¾\\xad×¢Òô°æ</a></li>\\r\\n\\t\\t\\t\\t\\t\\t<li><a href=\"https://www.hrfjw.com/fojing/zhuyin/200236.html\" title=\"´ó·½µÈÈçÀ´²Ø¾\\xad×¢Òô°æ\">´ó·½µÈÈçÀ´²Ø¾\\xad×¢Òô°æ</a></li>\\r\\n\\t\\t\\t\\t\\t\\t<li><a href=\"https://www.hrfjw.com/fojing/niepanjing/200220.html\" title=\"ÈçºÎÓµÓÐÐÒ¸£µÄÉú»î£¿³£ÐÞ´È±¯ÐÄ£¬·³ÄÕ×ÔÈ»ÎÞ\">ÈçºÎÓµÓÐÐÒ¸£µÄÉú»î£¿³£ÐÞ´È±¯ÐÄ£¬·³ÄÕ×ÔÈ»ÎÞ</a></li>\\r\\n\\t\\t\\t\\t\\t\\t<li><a href=\"https://www.hrfjw.com/fojing/wenzhang/200350.html\" title=\"¡¶·¨¾ä¾\\xad¡¤ÐÄÆ·¡·ÙÊËÌ£ºÆ®¸¡²»¶¨ÐÄ£¬²»Ã÷ÁËÕý·¨µÄ½²½â\">¡¶·¨¾ä¾\\xad¡¤ÐÄÆ·¡·ÙÊËÌ£ºÆ®¸¡²»¶¨ÐÄ£¬²»Ã÷ÁËÕý·¨µÄ½²½â</a></li>\\r\\n\\t\\t\\t\\t\\t\\t<li><a href=\"https://www.hrfjw.com/fojing/guanwuliangshoujing/200174.html\" title=\"¾ÅÆ·ÍùÉú³ö×ÔÄÄ²¿¾\\xadµä£¿\">¾ÅÆ·ÍùÉú³ö×ÔÄÄ²¿¾\\xadµä£¿</a></li>\\r\\n\\t\\t\\t\\t\\t\\t<li><a href=\"https://www.hrfjw.com/fojing/wenzhang/200088.html\" title=\"Á«³ØÔÞµÄÈ«ÎÄ¼°Æ´Òô\">Á«³ØÔÞµÄÈ«ÎÄ¼°Æ´Òô</a></li>\\r\\n\\t\\t\\t\\t\\t\\t<li><a href=\"https://www.hrfjw.com/fojing/huayanjing/200299.html\" title=\"»ªÑÏ¾\\xadÓÐ¼¸¸ö°æ±¾£¿ËÄÊ®»ªÑÏ¡¢ÁùÊ®»ªÑÏ¡¢°ËÊ®»ªÑÏ\">»ªÑÏ¾\\xadÓÐ¼¸¸ö°æ±¾£¿ËÄÊ®»ªÑÏ¡¢ÁùÊ®»ªÑÏ¡¢°ËÊ®»ªÑÏ</a></li>\\r\\n\\t\\t\\t\\t\\t\\t<li><a href=\"https://www.hrfjw.com/fojing/zhuyin/200001.html\" title=\"ÆÐÈøÉúµØ¾\\xad×¢Òô°æ\">ÆÐÈøÉúµØ¾\\xad×¢Òô°æ</a></li>\\r\\n\\t\\t\\t\\t\\t\\t<li><a href=\"https://www.hrfjw.com/fojing/liuzutanjing/200267.html\" title=\"´Ó¡¶Ì³¾\\xad¡·Æ¬¶Î£¬Õ°ÑöÑ§Ï°Áù×æ´óÊ¦µÄ¼ÎÑÔÜ²ÐÐ\">´Ó¡¶Ì³¾\\xad¡·Æ¬¶Î£¬Õ°ÑöÑ§Ï°Áù×æ´óÊ¦µÄ¼ÎÑÔÜ²ÐÐ</a></li>\\r\\n\\t\\t\\t\\t\\t</ul>\\r\\n\\t\\t\\t\\t\\t<ul>\\r\\n\\t\\t\\t\\t\\t\\t<li><a href=\"https://www.hrfjw.com/fojing/miaofalianhuajing/yuanwen.html\" title=\"Ãî·¨Á«»ª¾\\xadÈ«ÎÄ\">Ãî·¨Á«»ª¾\\xadÈ«ÎÄ</a></li>\\r\\n\\t\\t\\t\\t\\t\\t<li><a href=\"https://www.hrfjw.com/fojing/dizangjing/yuanwen.html\" title=\"µØ²Ø¾\\xadÔ\\xadÎÄ\">µØ²Ø¾\\xadÔ\\xadÎÄ</a></li>\\r\\n\\t\\t\\t\\t\\t\\t<li><a href=\"https://www.hrfjw.com/fojing/lengyanjing/baihuawen.html\" title=\"ÀãÑÏ¾\\xad°×»°ÎÄ\">ÀãÑÏ¾\\xad°×»°ÎÄ</a></li>\\r\\n\\t\\t\\t\\t\\t\\t<li><a href=\"https://www.hrfjw.com/fojing/miaofalianhuajing/zhuyin.html\" title=\"Ãî·¨Á«»ª¾\\xad×¢Òô\">Ãî·¨Á«»ª¾\\xad×¢Òô</a></li>\\r\\n\\t\\t\\t\\t\\t\\t<li><a href=\"https://www.hrfjw.com/fojing/wuliangshoujing/yuanwen.html\" title=\"ÎÞÁ¿ÊÙ¾\\xadÔ\\xadÎÄ\">ÎÞÁ¿ÊÙ¾\\xadÔ\\xadÎÄ</a></li>\\r\\n\\t\\t\\t\\t\\t\\t<li><a href=\"https://www.hrfjw.com/fojing/lengyanjing/zhuyin.html\" title=\"ÀãÑÏ¾\\xad×¢Òô\">ÀãÑÏ¾\\xad×¢Òô</a></li>\\r\\n\\t\\t\\t\\t\\t\\t<li><a href=\"https://www.hrfjw.com/fojing/jingangjing/yuanwen.html\" title=\"½ð¸Õ¾\\xadÔ\\xadÎÄ\">½ð¸Õ¾\\xadÔ\\xadÎÄ</a></li>\\r\\n\\t\\t\\t\\t\\t\\t<li><a href=\"https://www.hrfjw.com/fojing/huayanjing/yuanwen.html\" title=\"»ªÑÏ¾\\xadÔ\\xadÎÄ\">»ªÑÏ¾\\xadÔ\\xadÎÄ</a></li>\\r\\n\\t\\t\\t\\t\\t\\t<li><a href=\"https://www.hrfjw.com/fojing/jingangjing/yiwen.html\" title=\"½ð¸Õ¾\\xadÒëÎÄ\">½ð¸Õ¾\\xadÒëÎÄ</a></li>\\r\\n\\t\\t\\t\\t\\t\\t<li><a href=\"https://www.hrfjw.com/fojing/miaofalianhuajing/yiwen.html\" title=\"Ãî·¨Á«»ª¾\\xadÒëÎÄ\">Ãî·¨Á«»ª¾\\xadÒëÎÄ</a></li>\\r\\n\\t\\t\\t\\t\\t\\t<li><a href=\"https://www.hrfjw.com/fojing/lengyanjing/yuanwen.html\" title=\"ÀãÑÏ¾\\xadÔ\\xadÎÄ\">ÀãÑÏ¾\\xadÔ\\xadÎÄ</a></li>\\r\\n\\t\\t\\t\\t\\t\\t<li><a href=\"https://www.hrfjw.com/fojing/yuqieshidilun/yuanwen.html\" title=\"è¤Ù¤Ê¦µØÂÛÔ\\xadÎÄ\">è¤Ù¤Ê¦µØÂÛÔ\\xadÎÄ</a></li>\\r\\n\\t\\t\\t\\t\\t\\t<li><a href=\"https://www.hrfjw.com/fojing/huayanjing/yiwen.html\" title=\"»ªÑÏ¾\\xadÒëÎÄ\">»ªÑÏ¾\\xadÒëÎÄ</a></li>\\r\\n\\t\\t\\t\\t\\t\\t<li><a href=\"https://www.hrfjw.com/fojing/dizangjing/yiwen.html\" title=\"µØ²Ø¾\\xadÒëÎÄ\">µØ²Ø¾\\xadÒëÎÄ</a></li>\\r\\n\\t\\t\\t\\t\\t\\t<li><a href=\"https://www.hrfjw.com/fojing/xinjing/77538.html\" title=\"ÐÄ¾\\xad½²½â\">ÐÄ¾\\xad½²½â</a></li>\\r\\n\\t\\t\\t\\t\\t\\t<li><a href=\"https://www.hrfjw.com/fojing/xinjing/yiwen.html\" title=\"ÐÄ¾\\xadÒëÎÄ\">ÐÄ¾\\xadÒëÎÄ</a></li>\\r\\n\\t\\t\\t\\t\\t\\t<li><a href=\"https://www.hrfjw.com/fojing/jingangjing/ssm.html\" title=\"ÄÏ»³èª£º¡¶½ð¸Õ¾\\xadËµÊ²Ã´¡·\">ÄÏ»³èª£º¡¶½ð¸Õ¾\\xadËµÊ²Ã´¡·</a></li>\\r\\n\\t\\t\\t\\t\\t\\t<li><a href=\"https://www.hrfjw.com/fojing/liuzutanjing/yuanwen.html\" title=\"Áù×æÌ³¾\\xadÔ\\xadÎÄ\">Áù×æÌ³¾\\xadÔ\\xadÎÄ</a></li>\\r\\n\\t\\t\\t\\t\\t\\t<li><a href=\"https://www.hrfjw.com/fojing/yuqieshidilun/yiwen.html\" title=\"è¤Ù¤Ê¦µØÂÛÒëÎÄ\">è¤Ù¤Ê¦µØÂÛÒëÎÄ</a></li>\\r\\n\\t\\t\\t\\t\\t\\t<li><a href=\"https://www.hrfjw.com/fojing/liuzutanjing/41409.html\" title=\"Áù×æÌ³¾\\xadÒëÎÄ\">Áù×æÌ³¾\\xadÒëÎÄ</a></li>\\r\\n\\t\\t\\t\\t\\t\\t<li><a href=\"https://www.hrfjw.com/fojing/lengyanjing/77559.html\" title=\"ÀãÑÏ¾\\xad½²½â\">ÀãÑÏ¾\\xad½²½â</a></li>\\r\\n\\t\\t\\t\\t\\t\\t<li><a href=\"https://www.hrfjw.com/fojing/lengyanjing/yiwen.html\" title=\"ÀãÑÏ¾\\xadÒëÎÄ\">ÀãÑÏ¾\\xadÒëÎÄ</a></li>\\r\\n\\t\\t\\t\\t\\t\\t<li><a href=\"https://www.hrfjw.com/fojing/jingangjing/77707.html\" title=\"½ð¸Õ¾\\xad½²½â\">½ð¸Õ¾\\xad½²½â</a></li>\\r\\n\\t\\t\\t\\t\\t\\t<li><a href=\"https://www.hrfjw.com/fojing/niepanjing/dbnpjyw.html\" title=\"´ó°ãÄù\\x98\\x84¾\\xadÔ\\xadÎÄ\">´ó°ãÄù\\x98\\x84¾\\xadÔ\\xadÎÄ</a></li>\\r\\n\\t\\t\\t\\t\\t\\t<li><a href=\"https://www.hrfjw.com/fojing/jushelun/yuanwen.html\" title=\"¾ãÉáÂÛÔ\\xadÎÄ\">¾ãÉáÂÛÔ\\xadÎÄ</a></li>\\r\\n\\t\\t\\t\\t\\t\\t<li><a href=\"https://www.hrfjw.com/fojing/dizangjing/77552.html\" title=\"µØ²Ø¾\\xad½²½â\">µØ²Ø¾\\xad½²½â</a></li>\\r\\n\\t\\t\\t\\t\\t\\t<li><a href=\"https://www.hrfjw.com/fojing/dizangjing/39390.html\" title=\"µØ²Ø¾\\xadÒëÎÄ\">µØ²Ø¾\\xadÒëÎÄ</a></li>\\r\\n\\t\\t\\t\\t\\t\\t<li><a href=\"https://www.hrfjw.com/fojing/lengyanjing/39479.html\" title=\"ÀãÑÏ¾\\xadÔ\\xadÎÄ\">ÀãÑÏ¾\\xadÔ\\xadÎÄ</a></li>\\r\\n\\t\\t\\t\\t\\t\\t<li><a href=\"https://www.hrfjw.com/fojing/lengqiejing/yiwen.html\" title=\"ÀãÙ¤¾\\xadÒëÎÄ\">ÀãÙ¤¾\\xadÒëÎÄ</a></li>\\r\\n\\t\\t\\t\\t\\t\\t<li><a href=\"https://www.hrfjw.com/fojing/niepanjing/yuanwen.html\" title=\"Äù\\x98\\x84¾\\xadÔ\\xadÎÄ\">Äù\\x98\\x84¾\\xadÔ\\xadÎÄ</a></li>\\r\\n\\t\\t\\t\\t\\t\\t<li><a href=\"https://www.hrfjw.com/fojing/wuliangshoujing/yiwen.html\" title=\"ÎÞÁ¿ÊÙ¾\\xadÒëÎÄ\">ÎÞÁ¿ÊÙ¾\\xadÒëÎÄ</a></li>\\r\\n\\t\\t\\t\\t\\t\\t<li><a href=\"https://www.hrfjw.com/fojing/yuqieshidilun/baihuawen.html\" title=\"è¤Ù¤Ê¦µØÂÛ°×»°ÎÄ\">è¤Ù¤Ê¦µØÂÛ°×»°ÎÄ</a></li>\\r\\n\\t\\t\\t\\t\\t\\t<li><a href=\"https://www.hrfjw.com/fojing/yuqieshidilun/82262.html\" title=\"è¤Ù¤Ê¦µØÂÛ½²¼Ç\">è¤Ù¤Ê¦µØÂÛ½²¼Ç</a></li>\\r\\n\\t\\t\\t\\t\\t\\t<li><a href=\"https://www.hrfjw.com/fojing/jieshenmijing/yuanwen.html\" title=\"½âÉîÃÜ¾\\xadÔ\\xadÎÄ\">½âÉîÃÜ¾\\xadÔ\\xadÎÄ</a></li>\\r\\n\\t\\t\\t\\t\\t\\t<li><a href=\"https://www.hrfjw.com/fojing/emituojing/yuanwen.html\" title=\"°¢ÃÖÍÓ¾\\xadÔ\\xadÎÄ\">°¢ÃÖÍÓ¾\\xadÔ\\xadÎÄ</a></li>\\r\\n\\t\\t\\t\\t\\t\\t<li><a href=\"https://www.hrfjw.com/fojing/dizangjing/baihuawen.html\" title=\"µØ²Ø¾\\xad°×»°ÎÄ(ÍõÖÇÂ¡¾ÓÊ¿)\">µØ²Ø¾\\xad°×»°ÎÄ(ÍõÖÇÂ¡¾ÓÊ¿)</a></li>\\r\\n\\t\\t\\t\\t\\t\\t<li><a href=\"https://www.hrfjw.com/fojing/chengweishilun/yuanwen.html\" title=\"³ÉÎ¨Ê¶ÂÛÔ\\xadÎÄ\">³ÉÎ¨Ê¶ÂÛÔ\\xadÎÄ</a></li>\\r\\n\\t\\t\\t\\t\\t\\t<li><a href=\"https://www.hrfjw.com/fojing/weimojiejing/41792.html\" title=\"Î¬Ä¦Úµ¾\\xadÒëÎÄ\">Î¬Ä¦Úµ¾\\xadÒëÎÄ</a></li>\\r\\n\\t\\t\\t\\t\\t\\t<li><a href=\"https://www.hrfjw.com/fojing/niepanjing/baihuawen.html\" title=\"´ó°ãÄù\\x98\\x84¾\\xad°×»°ÎÄ\">´ó°ãÄù\\x98\\x84¾\\xad°×»°ÎÄ</a></li>\\r\\n\\t\\t\\t\\t\\t\\t<li><a href=\"https://www.hrfjw.com/fojing/huayanjing/77566.html\" title=\"»ªÑÏ¾\\xad½²½â\">»ªÑÏ¾\\xad½²½â</a></li>\\r\\n\\t\\t\\t\\t\\t</ul>\\r\\n\\t\\t\\t\\t</div>\\r\\n\\t\\t\\t</div>\\r\\n\\t\\t</div>\\r\\n        \\r\\n        <div class=\"content_r\">\\r\\n            \\r\\n\\t\\t\\t<div class=\"D5\">\\r\\n                <div class=\"D5_title\">Ïà¹ØÃû´Ê</div>\\r\\n                <div class=\"D5_text\">\\r\\n                    <ul>\\r\\n                        <li><a href=\"https://www.hrfjw.com/remen/liuzizhenyan.html\" title=\"Áù×ÖÕæÑÔ\">Áù×ÖÕæÑÔ</a></li>\\r\\n                        <li><a href=\"https://www.hrfjw.com/remen/dazuo.html\" title=\"´ò×ø\">´ò×ø</a></li>\\r\\n                        <li><a href=\"https://www.hrfjw.com/remen/niepan.html\" title=\"Äù\\x98\\x84\">Äù\\x98\\x84</a></li>\\r\\n                        <li><a href=\"https://www.hrfjw.com/remen/huixiang.html\" title=\"»ØÏò\">»ØÏò</a></li>\\r\\n                        <li><a href=\"https://www.hrfjw.com/remen/banruo.html\" title=\"°ãÈô\">°ãÈô</a></li>\\r\\n                        <li><a href=\"https://www.hrfjw.com/remen/xiuxing.html\" title=\"ÐÞÐÐ\">ÐÞÐÐ</a></li>\\r\\n                        <li><a href=\"https://www.hrfjw.com/remen/puti.html\" title=\"ÆÐÌá\">ÆÐÌá</a></li>\\r\\n                        <li><a href=\"https://www.hrfjw.com/remen/gongde.html\" title=\"¹¦µÂ\">¹¦µÂ</a></li>\\r\\n                        <li><a href=\"https://www.hrfjw.com/remen/chanhuiwen.html\" title=\"âã»ÚÎÄ\">âã»ÚÎÄ</a></li>\\r\\n                        <li><a href=\"https://www.hrfjw.com/remen/yinguo.html\" title=\"Òò¹û\">Òò¹û</a></li>\\r\\n                        <li><a href=\"https://www.hrfjw.com/remen/sanmei.html\" title=\"ÈýÃÁ\">ÈýÃÁ</a></li>\\r\\n                        <li><a href=\"https://www.hrfjw.com/remen/yinyuan.html\" title=\"ÒöÔµ\">ÒöÔµ</a></li>\\r\\n                        <li><a href=\"https://www.hrfjw.com/remen/liudu.html\" title=\"Áù¶È\">Áù¶È</a></li>\\r\\n                        <li><a href=\"https://www.hrfjw.com/remen/lunhui.html\" title=\"ÂÖ»Ø\">ÂÖ»Ø</a></li>\\r\\n                        <li><a href=\"https://www.hrfjw.com/remen/zhongsheng.html\" title=\"ÖÚÉú\">ÖÚÉú</a></li>\\r\\n                        <li><a href=\"https://www.hrfjw.com/remen/suoposhijie.html\" title=\"æ¶ÆÅÊÀ½ç\">æ¶ÆÅÊÀ½ç</a></li>\\r\\n                        <li><a href=\"https://www.hrfjw.com/remen/zhihui.html\" title=\"ÖÇ»Û\">ÖÇ»Û</a></li>\\r\\n                        <li><a href=\"https://www.hrfjw.com/remen/guiyi.html\" title=\"ð§ÒÀ\">ð§ÒÀ</a></li>\\r\\n                        <li><a href=\"https://www.hrfjw.com/remen/shaoxiang.html\" title=\"ÉÕÏã\">ÉÕÏã</a></li>\\r\\n                        <li><a href=\"https://www.hrfjw.com/remen/wuyun.html\" title=\"ÎåÔÌ\">ÎåÔÌ</a></li>\\r\\n                        <li><a href=\"https://www.hrfjw.com/remen/yinyuan1.html\" title=\"ÒòÔµ\">ÒòÔµ</a></li>\\r\\n                        <li><a href=\"https://www.hrfjw.com/remen/wuwo.html\" title=\"ÎÞÎÒ\">ÎÞÎÒ</a></li>\\r\\n                        <li><a href=\"https://www.hrfjw.com/remen/shentong.html\" title=\"ÉñÍ¨\">ÉñÍ¨</a></li>\\r\\n                        <li><a href=\"https://www.hrfjw.com/remen/fannao.html\" title=\"·³ÄÕ\">·³ÄÕ</a></li>\\r\\n                        <li><a href=\"https://www.hrfjw.com/remen/fangxia.html\" title=\"·ÅÏÂ\">·ÅÏÂ</a></li>\\r\\n                        <li><a href=\"https://www.hrfjw.com/remen/zixing.html\" title=\"×ÔÐÔ\">×ÔÐÔ</a></li>\\r\\n                        <li><a href=\"https://www.hrfjw.com/remen/jiedinghui.html\" title=\"½ä¶¨»Û\">½ä¶¨»Û</a></li>\\r\\n                        <li><a href=\"https://www.hrfjw.com/remen/sanbao.html\" title=\"Èý±¦\">Èý±¦</a></li>\\r\\n                        <li><a href=\"https://www.hrfjw.com/remen/bushi.html\" title=\"²¼Ê©\">²¼Ê©</a></li>\\r\\n                        <li><a href=\"https://www.hrfjw.com/remen/chanhui.html\" title=\"âã»Ú\">âã»Ú</a></li>\\r\\n                        <li><a href=\"https://www.hrfjw.com/remen/huixiangwen.html\" title=\"»ØÏòÎÄ\">»ØÏòÎÄ</a></li>\\r\\n                        <li><a href=\"https://www.hrfjw.com/remen/liudao.html\" title=\"ÁùµÀ\">ÁùµÀ</a></li>\\r\\n                        <li><a href=\"https://www.hrfjw.com/remen/yeli.html\" title=\"ÒµÁ¦\">ÒµÁ¦</a></li>\\r\\n                        <li><a href=\"https://www.hrfjw.com/remen/wujie.html\" title=\"Îå½ä\">Îå½ä</a></li>\\r\\n                        <li><a href=\"https://www.hrfjw.com/remen/fubao.html\" title=\"¸£±¨\">¸£±¨</a></li>\\r\\n                        <li><a href=\"https://www.hrfjw.com/remen/xukong.html\" title=\"Ðé¿Õ\">Ðé¿Õ</a></li>\\r\\n                        <li><a href=\"https://www.hrfjw.com/remen/gongyang.html\" title=\"¹©Ñø\">¹©Ñø</a></li>\\r\\n                        <li><a href=\"https://www.hrfjw.com/remen/qingai.html\" title=\"Çé°®\">Çé°®</a></li>\\r\\n                        <li><a href=\"https://www.hrfjw.com/remen/fozu.html\" title=\"·ð×æ\">·ð×æ</a></li>\\r\\n                        <li><a href=\"https://www.hrfjw.com/remen/faxin.html\" title=\"·¢ÐÄ\">·¢ÐÄ</a></li>\\r\\n                    </ul>\\r\\n                </div>\\r\\n            </div>\\r\\n            \\r\\n            <div class=\"height10\"></div>\\r\\n\\t\\t\\t\\r\\n\\t\\t\\t<div>\\r\\n\\r\\n\\r\\n\\r\\n</div>\\r\\n\\t\\t\\t<div class=\"height10\"></div>\\r\\n            \\r\\n\\t\\t\\t<div class=\"D1\">\\r\\n\\t\\t\\t\\t<div class=\"D1_title\">ÍÆ¼öÄÚÈÝ</div>\\r\\n\\t\\t\\t\\t<div class=\"D1_text\">\\r\\n\\t\\t\\t\\t\\t<ul>\\r\\n\\t\\t\\t\\t\\t\\t<li><a href=\"https://www.hrfjw.com/fojiaogushi/renwu/201081.html\" title=\"³ÖÁ«¹ÛÒôÊÇÊ²Ã´ÆÐÈø£¿³ÖÁ«¹ÛÒôµÄ¹ÊÊÂ\">³ÖÁ«¹ÛÒôÊÇÊ²Ã´ÆÐÈø£¿³ÖÁ«¹ÛÒôµÄ¹ÊÊÂ</a></li>\\r\\n\\t\\t\\t\\t\\t\\t<li><a href=\"https://www.hrfjw.com/chanzong/wujia/201094.html\" title=\"ìø×ÚµÄÆðÔ´Óë¶þÊ®°Ë´ú×æÊ¦\">ìø×ÚµÄÆðÔ´Óë¶þÊ®°Ë´ú×æÊ¦</a></li>\\r\\n\\t\\t\\t\\t\\t\\t<li><a href=\"https://www.hrfjw.com/focha/lvcha/196452.html\" title=\"Ñãµ´Ã«·åÊôÓÚÊ²Ã´²è£¿Ñãµ´Ã«·å²èµÄÌØµãÓëÓÉÀ´\">Ñãµ´Ã«·åÊôÓÚÊ²Ã´²è£¿Ñãµ´Ã«·å²èµÄÌØµãÓëÓÉÀ´</a></li>\\r\\n\\t\\t\\t\\t\\t\\t<li><a href=\"https://www.hrfjw.com/foxue/changshi/201118.html\" title=\"ÉÆ¸ùÖ¸µÄÊÇÊ²Ã´£¿\">ÉÆ¸ùÖ¸µÄÊÇÊ²Ã´£¿</a></li>\\r\\n\\t\\t\\t\\t\\t\\t<li><a href=\"https://www.hrfjw.com/foxue/rensheng/201117.html\" title=\"½ÅÌ¤ÊµµØµÄ¸¶³ö²Å»áÓÐÊÕ»ñ£¬ËùÓÐµÄ¸¶³ö¶¼²»»á°×·Ñ\">½ÅÌ¤ÊµµØµÄ¸¶³ö²Å»áÓÐÊÕ»ñ£¬ËùÓÐµÄ¸¶³ö¶¼²»»á°×·Ñ</a></li>\\r\\n\\t\\t\\t\\t\\t\\t<li><a href=\"https://www.hrfjw.com/foxue/changshi/201116.html\" title=\"·ð½Ì½äÂÉÊÇÔõÑù²úÉúµÄ£¿½äÂÉµÄÓÉÀ´\">·ð½Ì½äÂÉÊÇÔõÑù²úÉúµÄ£¿½äÂÉµÄÓÉÀ´</a></li>\\r\\n\\t\\t\\t\\t\\t\\t<li><a href=\"https://www.hrfjw.com/foxue/changshi/201115.html\" title=\"âáÀûÌìÖ÷ÊÇË\\xad£¿\">âáÀûÌìÖ÷ÊÇË\\xad£¿</a></li>\\r\\n\\t\\t\\t\\t\\t\\t<li><a href=\"https://www.hrfjw.com/fojiaogushi/renwu/201031.html\" title=\"ÈýËêÐ¡º¢¶¼¶®µÃµÄµÀÀí£¬°ËÊ®¸ßÁäÒ²Î´±Ø×öµÃµ½\">ÈýËêÐ¡º¢¶¼¶®µÃµÄµÀÀí£¬°ËÊ®¸ßÁäÒ²Î´±Ø×öµÃµ½</a></li>\\r\\n\\t\\t\\t\\t\\t\\t<li><a href=\"https://www.hrfjw.com/foxue/changshi/201110.html\" title=\"ÊÚ¼ÇÓÐ¼¸ÖÖ·½Ê½£¿ÊÚ¼ÇµÄËÄÖÖÀàÐÍ\">ÊÚ¼ÇÓÐ¼¸ÖÖ·½Ê½£¿ÊÚ¼ÇµÄËÄÖÖÀàÐÍ</a></li>\\r\\n\\t\\t\\t\\t\\t\\t<li><a href=\"https://www.hrfjw.com/wenda/hanchuan/201109.html\" title=\"»ØÏò¸ø°¢ññ¶àÂÞÈýÃêÈýÆÐÌáÊÇÊ²Ã´ÒâË¼£¿\">»ØÏò¸ø°¢ññ¶àÂÞÈýÃêÈýÆÐÌáÊÇÊ²Ã´ÒâË¼£¿</a></li>\\r\\n\\t\\t\\t\\t\\t</ul>\\r\\n\\t\\t\\t\\t</div>\\r\\n\\t\\t\\t</div>\\r\\n            \\r\\n            <div class=\"height10\"></div>\\r\\n\\r\\n\\t\\t\\t<div>\\r\\n\\r\\n\\r\\n\\r\\n</div>\\r\\n\\t\\t\\t<div class=\"height10\"></div>\\r\\n            \\r\\n            <div class=\"D3\">\\r\\n                <div class=\"D3_title\">ÈÈÃÅÍÆ¼ö</div>\\r\\n                <div class=\"D3_text\">\\r\\n                    <ul>\\r\\n                        <li><a href=\"https://www.hrfjw.com/fozhou/wangshengzhou/zhuyin.html\" title=\"ÍùÉúÖä×¢Òô\">ÍùÉúÖä×¢Òô</a></li>\\r\\n                        <li><a href=\"https://www.hrfjw.com/fozhou/lengyanzhou/zhuyin.html\" title=\"ÀãÑÏÖä×¢Òô°æ\">ÀãÑÏÖä×¢Òô°æ</a></li>\\r\\n                        <li><a href=\"https://www.hrfjw.com/fojing/lengyanjing/baihuawen.html\" title=\"ÀãÑÏ¾\\xad°×»°ÎÄ\">ÀãÑÏ¾\\xad°×»°ÎÄ</a></li>\\r\\n                        <li><a href=\"https://www.hrfjw.com/fojing/xinjing/yuanwen.html\" title=\"°ãÈô²¨ÂÞÃÛ¶àÐÄ¾\\xadÈ«ÎÄ\">°ãÈô²¨ÂÞÃÛ¶àÐÄ¾\\xadÈ«ÎÄ</a></li>\\r\\n                        <li><a href=\"https://www.hrfjw.com/fojing/pumenpin/82527.html\" title=\"¹ÛÊÀÒôÆÐÈøÆÕÃÅÆ·ÄîËÐ¼°»ØÏòÒÇ¹ì\">¹ÛÊÀÒôÆÐÈøÆÕÃÅÆ·ÄîËÐ¼°»ØÏòÒÇ¹ì</a></li>\\r\\n                        <li><a href=\"https://www.hrfjw.com/foxue/changshi/9986.html\" title=\"×îÈ«µÄÉÕÏãÍ¼½â£¬ÉÕÏãÓÐºÎº¬ÒåÓë½²¾¿£¿\">×îÈ«µÄÉÕÏãÍ¼½â£¬ÉÕÏãÓÐºÎº¬ÒåÓë½²¾¿£¿</a></li>\\r\\n                        <li><a href=\"https://www.hrfjw.com/fojing/pumenpin/yuanwen.html\" title=\"¡¶Ãî·¨Á«»ª¾\\xad¹ÛÊÀÒôÆÐÈøÆÕÃÅÆ·¡·È«ÎÄ\">¡¶Ãî·¨Á«»ª¾\\xad¹ÛÊÀÒôÆÐÈøÆÕÃÅÆ·¡·È«ÎÄ</a></li>\\r\\n                        <li><a href=\"https://www.hrfjw.com/fojing/emituojing/zhuyin.html\" title=\"·ðËµ°¢ÃÖÍÓ¾\\xad×¢Òô°æ\">·ðËµ°¢ÃÖÍÓ¾\\xad×¢Òô°æ</a></li>\\r\\n                        <li><a href=\"https://www.hrfjw.com/fojing/puxianxingyuanpin/yuanwen.html\" title=\"ÆÕÏÍÐÐÔ¸Æ·Ô\\xadÎÄ\">ÆÕÏÍÐÐÔ¸Æ·Ô\\xadÎÄ</a></li>\\r\\n                        <li><a href=\"https://www.hrfjw.com/fojing/yaoshijing/yuanwen.html\" title=\"Ò©Ê¦¾\\xadÔ\\xadÎÄ\">Ò©Ê¦¾\\xadÔ\\xadÎÄ</a></li>\\r\\n                    </ul>\\r\\n                </div>\\r\\n            </div>\\r\\n\\t\\t\\t\\r\\n\\t\\t\\t<div class=\"height10\"></div>\\r\\n\\t\\t\\t\\r\\n\\t\\t\\t<div>\\r\\n\\r\\n\\r\\n\\r\\n</div>\\r\\n\\t\\t\\t<div class=\"height10\"></div>\\r\\n\\t\\t\\t\\r\\n\\t\\t\\t<div id=\"fixed\">\\r\\n\\t\\t\\t\\t\\r\\n\\t\\t\\t\\t<div class=\"D10\">\\r\\n\\t\\t\\t\\t\\t<div class=\"D10_title\">×îÐÂ¸üÐÂ</div>\\r\\n\\t\\t\\t\\t\\t<div class=\"D10_text\">\\r\\n\\t\\t\\t\\t\\t\\t<ul>\\t\\t\\t\\t\\t\\r\\n\\t\\t\\t\\t\\t\\t\\t\\t<li><a href=\"https://www.hrfjw.com/fangsheng/qiyuan/\">[·ÅÉúÆðÔ´]</a><a href=\"https://www.hrfjw.com/fangsheng/qiyuan/200002.html\" title=\"ËÂÔºÉèÁ¢·ÅÉú³ØÔÚ¾\\xadµä»ò´«Í³ÉÏÓÐÊ²Ã´¸ù¾Ý£¿\">ËÂÔºÉèÁ¢·ÅÉú³ØÔÚ¾\\xadµä»ò´«Í³ÉÏÓÐÊ²Ã´¸ù¾Ý£¿</a></li>\\r\\n\\t\\t\\t\\t\\t\\t\\t\\t<li><a href=\"https://www.hrfjw.com/fojiaogushi/ganying/\">[¸ÐÓ¦¹ÊÊÂ]</a><a href=\"https://www.hrfjw.com/fojiaogushi/ganying/xjgy.html\" title=\"ÐÄ¾\\xad¹ÊÊÂ\">ÐÄ¾\\xad¹ÊÊÂ</a></li>\\r\\n\\t\\t\\t\\t\\t\\t\\t\\t<li><a href=\"https://www.hrfjw.com/focha/baicha/\">[°×²è]</a><a href=\"https://www.hrfjw.com/focha/baicha/196308.html\" title=\"Ê²Ã´ÊÇ°×²è£¬ÓÐÄÄÐ©Æ·ÖÖ£¿\">Ê²Ã´ÊÇ°×²è£¬ÓÐÄÄÐ©Æ·ÖÖ£¿</a></li>\\r\\n\\t\\t\\t\\t\\t\\t\\t\\t<li><a href=\"https://www.hrfjw.com/focha/baicha/\">[°×²è]</a><a href=\"https://www.hrfjw.com/focha/baicha/196305.html\" title=\"Ê²Ã´ÊÇ°×²è£¿°×²èµÄ¼òµ¥½éÉÜ\">Ê²Ã´ÊÇ°×²è£¿°×²èµÄ¼òµ¥½éÉÜ</a></li>\\r\\n\\t\\t\\t\\t\\t\\t\\t\\t<li><a href=\"https://www.hrfjw.com/foxue/rensheng/\">[·ðÓëÈËÉú]</a><a href=\"https://www.hrfjw.com/foxue/rensheng/200445.html\" title=\"Ãæ¶Ô±ðÈËµÄÅúÆÀ£¬Ó¦¸ÃÔõÃ´×ö£¿\">Ãæ¶Ô±ðÈËµÄÅúÆÀ£¬Ó¦¸ÃÔõÃ´×ö£¿</a></li>\\r\\n\\t\\t\\t\\t\\t\\t\\t\\t<li><a href=\"https://www.hrfjw.com/foxue/changshi/\">[·ðÑ§³£Ê¶]</a><a href=\"https://www.hrfjw.com/foxue/changshi/197031.html\" title=\"°Ë¹ØÕ«½äµÄ½âÊÍ¡¢½äÏà¡¢¹¦µÂÀûÒæ\">°Ë¹ØÕ«½äµÄ½âÊÍ¡¢½äÏà¡¢¹¦µÂÀûÒæ</a></li>\\r\\n\\t\\t\\t\\t\\t\\t\\t\\t<li><a href=\"https://www.hrfjw.com/foxue/changshi/\">[·ðÑ§³£Ê¶]</a><a href=\"https://www.hrfjw.com/foxue/changshi/199262.html\" title=\"ôÂôÄÊÇÊ²Ã´ÒâË¼£¿ÎªÊ²Ã´½Ð¸£ÌïÒÂ£¿\">ôÂôÄÊÇÊ²Ã´ÒâË¼£¿ÎªÊ²Ã´½Ð¸£ÌïÒÂ£¿</a></li>\\r\\n\\t\\t\\t\\t\\t\\t\\t\\t<li><a href=\"https://www.hrfjw.com/foxue/changshi/\">[·ðÑ§³£Ê¶]</a><a href=\"https://www.hrfjw.com/foxue/changshi/199304.html\" title=\"ÎªÊ²Ã´°Ñ·ð·¨É®ÈýÕß³ÆÎª¡°±¦¡±£¿\">ÎªÊ²Ã´°Ñ·ð·¨É®ÈýÕß³ÆÎª¡°±¦¡±£¿</a></li>\\r\\n\\t\\t\\t\\t\\t\\t\\t\\t<li><a href=\"https://www.hrfjw.com/foxue/changshi/\">[·ðÑ§³£Ê¶]</a><a href=\"https://www.hrfjw.com/foxue/changshi/199303.html\" title=\"ÎªÊ²Ã´Òªð§ÒÀÈý±¦£¿¹éÍ¶Èý±¦ÁîÉíÐÄ°²ÎÈ\">ÎªÊ²Ã´Òªð§ÒÀÈý±¦£¿¹éÍ¶Èý±¦ÁîÉíÐÄ°²ÎÈ</a></li>\\r\\n\\t\\t\\t\\t\\t\\t\\t\\t<li><a href=\"https://www.hrfjw.com/fojiaogushi/renwu/\">[ÈËÎï¹ÊÊÂ]</a><a href=\"https://www.hrfjw.com/fojiaogushi/renwu/200074.html\" title=\"·ð½ÌÆ¶Å®¹©µÆµÄ¹ÊÊÂÓëÆôÊ¾\">·ð½ÌÆ¶Å®¹©µÆµÄ¹ÊÊÂÓëÆôÊ¾</a></li>\\r\\n\\t\\t\\t\\t\\t\\t\\t\\t<li><a href=\"https://www.hrfjw.com/fojiaogushi/fojing/\">[·ð¾\\xad¹ÊÊÂ]</a><a href=\"https://www.hrfjw.com/fojiaogushi/fojing/200081.html\" title=\"ÊÍåÈÄ²Äá·ðºÍÆÐÌá´ï¶àµÄË«Í·Äñ¹ÊÊÂ\">ÊÍåÈÄ²Äá·ðºÍÆÐÌá´ï¶àµÄË«Í·Äñ¹ÊÊÂ</a></li>\\r\\n\\t\\t\\t\\t\\t\\t\\t\\t<li><a href=\"https://www.hrfjw.com/foxue/changshi/\">[·ðÑ§³£Ê¶]</a><a href=\"https://www.hrfjw.com/foxue/changshi/200101.html\" title=\"Ê³´æÎå¹ÛÖ¸µÄÊÇÊ²Ã´£¿\">Ê³´æÎå¹ÛÖ¸µÄÊÇÊ²Ã´£¿</a></li>\\r\\n\\t\\t\\t\\t\\t\\t\\t\\t<li><a href=\"https://www.hrfjw.com/fojiaogushi/renwu/\">[ÈËÎï¹ÊÊÂ]</a><a href=\"https://www.hrfjw.com/fojiaogushi/renwu/200122.html\" title=\"°¢ÓýÍõµÄÐ¡ÍõåúÐëê^¶ß£¬³Ö½ä´©ËØ·þµÃ±¦Öé\">°¢ÓýÍõµÄÐ¡ÍõåúÐëê^¶ß£¬³Ö½ä´©ËØ·þµÃ±¦Öé</a></li>\\r\\n\\t\\t\\t\\t\\t\\t\\t\\t<li><a href=\"https://www.hrfjw.com/chanzong/gongan/\">[ìø×Ú¹«°¸]</a><a href=\"https://www.hrfjw.com/chanzong/gongan/200185.html\" title=\"ÀÏÐÞÐÐÈË¡°ÈýÊ®Äê²»Ã°ÑÌ¡±µÄ¹ÊÊÂ\">ÀÏÐÞÐÐÈË¡°ÈýÊ®Äê²»Ã°ÑÌ¡±µÄ¹ÊÊÂ</a></li>\\r\\n\\t\\t\\t\\t\\t\\t\\t\\t<li><a href=\"https://www.hrfjw.com/fojiaogushi/fojing/\">[·ð¾\\xad¹ÊÊÂ]</a><a href=\"https://www.hrfjw.com/fojiaogushi/fojing/200225.html\" title=\"¸»º¢×Ó±äÇîº¢×Ó£¬¡¶·¨»ª¾\\xad¡·Çî×ÓÓ÷µÄ¹ÊÊÂ\">¸»º¢×Ó±äÇîº¢×Ó£¬¡¶·¨»ª¾\\xad¡·Çî×ÓÓ÷µÄ¹ÊÊÂ</a></li>\\r\\n\\t\\t\\t\\t\\t\\t\\t\\t<li><a href=\"https://www.hrfjw.com/foxue/changshi/\">[·ðÑ§³£Ê¶]</a><a href=\"https://www.hrfjw.com/foxue/changshi/200201.html\" title=\"²¼Ê©µÄÒâË¼ÓëÖÖÀà\">²¼Ê©µÄÒâË¼ÓëÖÖÀà</a></li>\\r\\n\\t\\t\\t\\t\\t\\t\\t\\t<li><a href=\"https://www.hrfjw.com/fojiaogushi/fojing/\">[·ð¾\\xad¹ÊÊÂ]</a><a href=\"https://www.hrfjw.com/fojiaogushi/fojing/200241.html\" title=\"Ù¤Ê¬±ÈÇðÄáÉíÅûôÂôÄ³öÉúµÄÒòÔµ¹ÊÊÂ\">Ù¤Ê¬±ÈÇðÄáÉíÅûôÂôÄ³öÉúµÄÒòÔµ¹ÊÊÂ</a></li>\\r\\n\\t\\t\\t\\t\\t\\t\\t\\t</ul>\\r\\n\\t\\t\\t\\t\\t</div>\\r\\n\\t\\t\\t\\t</div>\\r\\n\\t\\t\\t\\r\\n\\t\\t\\t<div class=\"height10\"></div>\\r\\n\\t\\t\\t<div>\\r\\n\\r\\n\\r\\n\\r\\n</div>\\r\\n\\t\\t\\t\\r\\n\\t\\t\\t</div>\\r\\n<script type=\"text/javascript\">\\r\\n$(window).load(function() {           \\r\\n    F_top = $(\\'#fixed\\').offset().top;//¸¡¶¯Ä£¿é¶¥²¿¾àÀë\\r\\n    F_height = $(\\'#fixed\\').outerHeight(true);//¸¡¶¯Ä£¿é¸ß¶È\\r\\n    F_Mtop = parseInt($(\\'#fixed\\').css(\"margin-top\"));//×ó²àÄ£¿éÉÏ±ß¾à\\r\\n    L_top = $(\\'.content_l\\').offset().top;//×ó²àÄ£¿é¶¥²¿¾àÀë\\r\\n    L_height = $(\\'.content_l\\').outerHeight(true);//×ó²àÄ£¿é¸ß¶È\\r\\n    hd_height = $(\\'.F3\\').outerHeight(true)+10;//¹ö¶¯Ê±¾àÀë¶¥²¿¸ß¶È\\r\\n    $(window).scroll(function(e){\\r\\n        S_top = $(document).scrollTop();\\r\\n        if(S_top > F_top - hd_height && F_top + F_height < L_top + L_height){\\r\\n            $(\\'#fixed\\').css(\\'position\\',\\'fixed\\');\\r\\n            if(S_top +  F_height - F_Mtop - L_top + hd_height  > L_height){\\r\\n                $(\\'#fixed\\').css(\\'top\\',L_height - S_top -  F_height + L_top + \\'px\\');   \\r\\n            }   \\r\\n            else{$(\\'#fixed\\').css(\\'top\\' , hd_height - F_Mtop + \\'px\\');}           \\r\\n        }else{\\r\\n            $(\\'#fixed\\').css(\\'position\\',\\'\\');\\r\\n        }\\r\\n    })\\r\\n});\\r\\n</script>\\r\\n            \\r\\n        </div>\\r\\n        \\r\\n\\t</div>\\r\\n\\r\\n</div>\\r\\n\\r\\n<div class=\"footer\">\\r\\n\\r\\n\\t<div class=\"height10\"></div>\\r\\n    <div class=\"kuan960 foot_dh\">\\r\\n\\t\\t<div class=\"foot_dh_box foot_dh_rb\"  style=\"width: 18%;\">\\r\\n\\t\\t\\t<ul>\\r\\n\\t\\t\\t\\t<li><b><a href=\"https://www.hrfjw.com/foxue/\">·ðÑ§ÈëÃÅ</a></b></li>\\r\\n\\t\\t\\t\\t<li><a href=\"https://www.hrfjw.com/foxue/zhishi/fjmc.html\">·ð½ÌÃû´Ê</a></li>\\r\\n\\t\\t\\t\\t<li><a href=\"https://www.hrfjw.com/foxue/zhishi/fjjczs.html\">·ð½Ì»ù´¡ÖªÊ¶</a></li>\\r\\n\\t\\t\\t\\t<li><a href=\"https://www.hrfjw.com/foxue/zhishi/fjjbjy.html\">·ð½Ì»ù±¾½ÌÒå</a></li>\\r\\n\\t\\t\\t\\t<li><a href=\"https://www.hrfjw.com/foxue/zhishi/fjygdl.html\">·ð½ÌÒò¹û¶¨ÂÉ</a></li>\\r\\n\\t\\t\\t\\t<li><a href=\"https://www.hrfjw.com/foxue/zhishi/zyddfj.html\">ÔõÑù¶Á¶®·ð¾\\xad</a></li>\\r\\n\\t\\t\\t\\t<li><a href=\"https://www.hrfjw.com/foxue/zhishi/fjxxjjl.html\">·ð½ÌÐÞÐÐ¼°½äÂÉ</a></li>\\r\\n\\t\\t\\t\\t<li><a href=\"https://www.hrfjw.com/foxue/zhishi/fjslyjs.html\">·ð½ÌÉ®ÂÂÓë¾ÓÊ¿</a></li>\\r\\n\\t\\t\\t\\t<li><a href=\"https://www.hrfjw.com/foxue/zhishi/fjcbyfz.html\">·ð½Ì´«²¥Óë·¢Õ¹</a></li>\\r\\n\\r\\n\\t\\t\\t</ul>\\r\\n\\t\\t</div>\\r\\n\\t\\t<div class=\"foot_dh_box foot_dh_rb\">\\r\\n\\t\\t\\t<ul>\\r\\n\\t\\t\\t\\t<li><b><a href=\"https://www.hrfjw.com/fojing/\">·ð¾\\xad</a></b></li>\\r\\n                    <li><a href=\"https://www.hrfjw.com/fojing/xinjing/\">ÐÄ¾\\xad</a></li>\\r\\n                    <li><a href=\"https://www.hrfjw.com/fojing/jingangjing/\">½ð¸Õ¾\\xad</a></li>\\r\\n                    <li><a href=\"https://www.hrfjw.com/fojing/huayanjing/\">»ªÑÏ¾\\xad</a></li>\\r\\n                    <li><a href=\"https://www.hrfjw.com/fojing/dizangjing/\">µØ²Ø¾\\xad</a></li>\\r\\n                    <li><a href=\"https://www.hrfjw.com/fojing/yuanjuejing/\">Ô²¾õ¾\\xad</a></li>\\r\\n                    <li><a href=\"https://www.hrfjw.com/fojing/lengyanjing/\">ÀãÑÏ¾\\xad</a></li>\\r\\n                    <li><a href=\"https://www.hrfjw.com/fojing/liuzutanjing/\">Áù×æÌ³¾\\xad</a></li>\\r\\n                    <li><a href=\"https://www.hrfjw.com/fojing/wuliangshoujing/\">ÎÞÁ¿ÊÙ¾\\xad</a></li>\\r\\n\\t\\t\\t</ul>\\r\\n\\t\\t\\t<ul>\\r\\n\\t\\t\\t\\t<li><b><a href=\"https://www.hrfjw.com/fozhou/\">·ðÖä</a></b></li>\\r\\n            <li><a href=\"https://www.hrfjw.com/fozhou/dabeizhou/\">´ó±¯Öä</a></li>\\r\\n            <li><a href=\"https://www.hrfjw.com/fozhou/lengyanzhou/\">ÀãÑÏÖä</a></li>\\r\\n            <li><a href=\"https://www.hrfjw.com/fozhou/zhuntizhou/\">×¼ÌáÖä</a></li>\\r\\n            <li><a href=\"https://www.hrfjw.com/fozhou/wangshengzhou/\">ÍùÉúÖä</a></li>\\r\\n            <li><a href=\"https://www.hrfjw.com/fozhou/yaoshizhou/\">Ò©Ê¦Öä</a></li>\\r\\n            <li><a href=\"https://www.hrfjw.com/fozhou/liuzidamingzhou/\">Áù×Ö´óÃ÷Öä</a></li>\\r\\n            <li><a href=\"https://www.hrfjw.com/fozhou/dashizhipusaxinzhou/\">´óÊÆÖÁÆÐÈøÐÄÖä</a></li>\\r\\n            <li><a href=\"https://www.hrfjw.com/fozhou/wenshupusaxinzhou/\">ÎÄÊâÆÐÈøÐÄÖä</a></li>\\r\\n\\t\\t\\t</ul>\\r\\n\\t\\t</div>\\r\\n\\t\\t<div class=\"foot_dh_box foot_dh_rb\">\\r\\n\\t\\t\\t<ul>\\r\\n\\t\\t\\t\\t<li><b><a href=\"https://www.hrfjw.com/fjrw/\">·ð½ÌÈËÎï</a></b></li>\\r\\n            <li><a href=\"https://www.hrfjw.com/fjrw/hcrw/wxfs/\">Î©ÏÍ·¨Ê¦</a></li>\\r\\n            <li><a href=\"https://www.hrfjw.com/fjrw/hcrw/oyds/\">ÊqÒæ´óÊ¦</a></li>\\r\\n            <li><a href=\"https://www.hrfjw.com/fjrw/hcrw/syfs/\">Ê¥ÑÏ·¨Ê¦</a></li>\\r\\n            <li><a href=\"https://www.hrfjw.com/fjrw/hcrw/xyds/\">ÐÇÔÆ´óÊ¦</a></li>\\r\\n            <li><a href=\"https://www.hrfjw.com/fjrw/hcrw/xyfs/\">ÐéÔÆ·¨Ê¦</a></li>\\r\\n            <li><a href=\"https://www.hrfjw.com/fjrw/hcrw/jqfs1/\">¼ÃÈº·¨Ê¦</a></li>\\r\\n            <li><a href=\"https://www.hrfjw.com/fjrw/hcrw/dmzs/\">´ïÄ¦×æÊ¦</a></li>\\r\\n\\t\\t\\t</ul>\\r\\n\\t\\t\\t<ul>\\r\\n\\t\\t\\t\\t<li></li>\\r\\n\\r\\n            <li><a href=\"https://www.hrfjw.com/fjrw/hcrw/gqhs/\">¹ãÇÕºÍÉÐ</a></li>\\r\\n            <li><a href=\"https://www.hrfjw.com/fjrw/hcrw/mlfs/\">ÃîÁ«·¨Ê¦</a></li>\\r\\n            <li><a href=\"https://www.hrfjw.com/fjrw/hcrw/hyfs1/\">ºëÒ»·¨Ê¦</a></li>\\r\\n            <li><a href=\"https://www.hrfjw.com/fjrw/hcrw/dafs/\">´ó°²·¨Ê¦</a></li>\\r\\n            <li><a href=\"https://www.hrfjw.com/fjrw/hcrw/zyfs3/\">Ö¤ÑÏ·¨Ê¦</a></li>\\r\\n            <li><a href=\"https://www.hrfjw.com/fjrw/hcrw/ygds/\">Ó¡¹â´óÊ¦</a></li>\\r\\n            <li><a href=\"https://www.hrfjw.com/fjrw/hcrw/dzfs/\">´ïÕÕ·¨Ê¦</a></li>\\r\\n\\t\\t\\t</ul>\\r\\n\\t\\t</div>\\r\\n\\t\\t<div class=\"foot_dh_box\">\\r\\n\\t\\t\\t<ul>\\r\\n\\t\\t\\t\\t<li><b><a href=\"https://www.hrfjw.com/remen/\">·ð½Ìµ¼º½</a></b></li>\\r\\n           <li><a href=\"https://www.hrfjw.com/fangsheng/\">·ÅÉú</a></li>\\r\\n          <li><a href=\"https://www.hrfjw.com/sheli/\">ÉáÀû</a></li>\\r\\n                  <li><a href=\"https://www.hrfjw.com/wenda/\">·ð½ÌÎÊ´ð</a></li>\\r\\n          <li><a href=\"https://www.hrfjw.com/ctwh/\">´«Í³ÎÄ»¯</a></li>\\r\\n          <li><a href=\"https://www.hrfjw.com/dazangjing/\">´ó²Ø¾\\xad</a></li>\\r\\n          <li><a href=\"https://www.hrfjw.com/qldzj/\">Ç¬Â¡´ó²Ø¾\\xad</a></li>\\r\\n          <li><a href=\"https://www.hrfjw.com/\">ÊÖ»ú·ð½ÌÍø</a></li>\\r\\n\\t\\t\\t</ul>\\r\\n\\t\\t\\t<ul>\\r\\n\\t\\t\\t\\t<li></li>\\r\\n          <li><a href=\"https://www.hrfjw.com/jingtuzong/\">¾»×Ú</a></li>\\r\\n          <li><a href=\"https://www.hrfjw.com/chanzong/\">ìø×Ú</a></li>\\r\\n          <li><a href=\"https://www.hrfjw.com/fojiaogushi/\">·ð½Ì¹ÊÊÂ</a></li>\\r\\n          <li><a href=\"https://www.hrfjw.com/fjrw/\">·ð½ÌÈËÎï</a></li>\\r\\n\\t\\t  <li><a href=\"https://www.hrfjw.com/focha/ \" target=\"_blank\">ìø²èÒ»Î¶</a></li>\\r\\n          \\t\\t\\t</ul>\\r\\n\\t\\t\\t\\t\\t</div>\\r\\n    </div>\\r\\n\\r\\n\\t<div class=\"height10\"></div>\\r\\n\\t\\r\\n\\t<div class=\"content_l\">\\r\\n\\r\\n<script language=\"javascript\" src=\"https://www.hrfjw.com/caches/hengfu/19093.js\"></script>\\r\\n\\r\\n\\r\\n</div>\\r\\n\\t<div class=\"content_r\">\\r\\n\\r\\n<script language=\"javascript\" src=\"https://www.hrfjw.com/caches/hengfu/19094.js\"></script>\\r\\n\\r\\n\\r\\n</div>\\r\\n\\r\\n    <div class=\"height10 clear\"></div>\\r\\n    <div class=\"in_line\"></div>\\r\\n    <div class=\"height10\"></div>\\r\\n    <div class=\"gdhx\">\\r\\n        <b>Ô¸ËùÓÐºë·¨¹¦µÂ»ØÏò£º</b>\\r\\n        <p>ÔÞÖú¡¢Á÷Í¨¡¢¼ûÎÅ¡¢ËæÏ²Õß£¬¼°½ÔÏ¤»ØÏò¾¡·¨½ç¡¢Ðé¿Õ½çÒ»ÇÐÖÚÉú£¬ÒÀ·ðÆÐÈøÍþµÂÁ¦¡¢ºë·¨¹¦µÂÁ¦£¬ÆÕÔ¸Ïû³ýÒ»ÇÐ×ïÕÏ£¬¸£»Û¾ß×ã£¬³£µÃ°²ÀÖ£¬ÎÞÖî²¡¿à¡£ÓûÐÐ¶ñ·¨£¬½ÔÏ¤²»³É¡£ËùÐÞÉÆÒµ£¬½ÔËÙ³É¾Í¡£¹Ø±ÕÒ»ÇÐÖî¶ñÈ¤ÃÅ£¬¿ªÊ¾ÈËÌìÄù\\x98\\x84ÕýÂ·¡£¼ÒÃÅÇå¼ª£¬ÉíÐÄ°²¿µ£¬ÏÈÍö×æåþ£¬Àú½ÙÔ¹Ç×£¬¾ãÃÉ·ð´È£¬»ñ±¾ÃîÐÄ¡£±ø¸êÓÀÏ¢£¬ÀñÈÃÐËÐÐ£¬ÈËÃñ°²ÀÖ£¬ÌìÏÂÌ«Æ½¡£ËÄ¶÷×Ü±¨£¬ÈýÓÐÆë×Ê£¬½ñÉúÀ´ÊÀÍÑÀëÒ»ÇÐÍâµÀÌìÄ§Ö®²ø¸¿£¬ÉúÉúÊÀÊÀÓÀÀë¶ñµÀ£¬ÀëÒ»ÇÐ¿àµÃ¾¿¾¹ÀÖ£¬µÃÓö·ðÆÐÈø¡¢Õý·¨¡¢Çå¾»ÉÆÖªÊ¶£¬ÁÙÖÕÎÞÒ»ÇÐÕÏ°\\xad¶ø ÍùÉúÓÐÔµÖ®·ð¾»ÍÁ£¬Í¬Ö¤¾¿¾¹Ô²ÂúÖ®·ð¹û¡£</p>\\r\\n        <em>\\r\\n\\t\\t\\t<span style=\"float:left\">ÃâÔðÉùÃ÷£º</span>\\r\\n\\t\\t\\t<div style=\"overflow:hidden\">\\r\\n\\t\\t\\t\\t<div>ÎÄÕÂÀ´×ÔÍøÉÏÊÕ¼¯£¬¾ùÒÑ×¢Ã÷À´Ô´£¬¾ù½ö´ú±í×÷Õß±¾ÈË¹Ûµã£¬²»´ú±í»ªÈË·ð½ÌÍøÁ¢³¡£¬Æä¹Ûµã¹©¶ÁÕß²Î¿¼¡£</div>\\r\\n\\t\\t\\t\\t<div>Æä°æÈ¨¹é×÷Õß±¾ÈËËùÓÐ£¬Èç¹ûÓÐÈÎºÎÇÖ·¸ÄúÈ¨ÒæµÄµØ·½£¬ÇëÁªÏµÎÒÃÇ£¬ÎÒÃÇ½«ÂíÉÏ½øÐÐ´¦Àí£¬Ð»Ð»¡£</div>\\r\\n\\t\\t\\t</div>\\r\\n\\t\\t</em>\\r\\n    </div>\\r\\n\\t<div class=\"bq\">\\r\\n\\t\\t<a href=\"https://www.hrfjw.com/\"><b>»ªÈË·ð½ÌÍø</b></a>&nbsp;&nbsp;Copy Rights Reserved @2020\\r\\n\\t\\t<div>¼¼ÊõÎÊÌâÁªÂçµçÓÊ£º<a href=\"mailto:cnbuddhist@hotmail.com\" target=\"_blank\"><b>cnbuddhist@hotmail.com</b></a></div>\\r\\n\\t</div>\\r\\n</div>\\r\\n\\r\\n<script type=\"text/javascript\" src=\"https://www.hrfjw.com/statics/liaotuo/js/tw_cn.js\"></script>\\r\\n<script type=\"text/javascript\" src=\"https://www.hrfjw.com/statics/liaotuo/js/collect.js\"></script>\\r\\n\\r\\n<script>\\n// bd statistics\\nvar _hmt = _hmt || [];\\n(function() {\\n  var hm = document.createElement(\"script\");\\n  hm.src = \"https://hm.baidu.com/hm.js?28cac69e90c270d253ee981596a74943\";\\n  var s = document.getElementsByTagName(\"script\")[0]; \\n  s.parentNode.insertBefore(hm, s);\\n})();\\n// bd push\\n(function(){\\n    var bp = document.createElement(\\'script\\');\\n    var curProtocol = window.location.protocol.split(\\':\\')[0];\\n    if (curProtocol === \\'https\\') {\\n        bp.src = \\'https://zz.bdstatic.com/linksubmit/push.js\\';\\n    }\\n    else {\\n        bp.src = \\'http://push.zhanzhang.baidu.com/push.js\\';\\n    }\\n    var s = document.getElementsByTagName(\"script\")[0];\\n    s.parentNode.insertBefore(bp, s);\\n})();\\n\\n\\n\\n//360 auto include\\n(function(){\\nvar src = \"https://jspassport.ssl.qhimg.com/11.0.1.js?d182b3f28525f2db83acfaaf6e696dba\";\\ndocument.write(\\'<script src=\"\\' + src + \\'\" id=\"sozz\"><\\\\/script>\\');\\n})();\\n</script>\\n\\r\\n<script language=JavaScript>\\r\\nfunction doZoom(size,lheight){\\r\\n\\t$(\".B1_text\").css({\"font-size\":size+\"px\",\"line-height\":lheight+\"px\"});\\r\\n}\\r\\n</script>\\r\\n \\r\\n</body>\\r\\n</html>\\r\\n'"
      ]
     },
     "execution_count": 4,
     "metadata": {},
     "output_type": "execute_result"
    }
   ],
   "source": [
    "requests.get(\"https://www.hrfjw.com/fojing/liuzutanjing/198840_2.html\")"
   ]
  },
  {
   "cell_type": "code",
   "execution_count": null,
   "metadata": {},
   "outputs": [],
   "source": [
    "from langchain.agents import Tool\n",
    "from langchain.agents import AgentType\n",
    "from langchain.memory import ConversationBufferMemory\n",
    "from langchain import OpenAI\n",
    "from langchain.utilities import SerpAPIWrapper\n",
    "from langchain.agents import initialize_agent"
   ]
  },
  {
   "cell_type": "code",
   "execution_count": null,
   "metadata": {},
   "outputs": [],
   "source": [
    "search = SerpAPIWrapper()\n",
    "tools = [\n",
    "    Tool(\n",
    "        name = \"Current Search\",\n",
    "        func=search.run,\n",
    "        description=\"useful for when you need to answer questions about current events or the current state of the world\"\n",
    "    ),\n",
    "]"
   ]
  },
  {
   "cell_type": "code",
   "execution_count": null,
   "metadata": {},
   "outputs": [],
   "source": [
    "memory = ConversationBufferMemory(memory_key=\"chat_history\")"
   ]
  },
  {
   "cell_type": "code",
   "execution_count": null,
   "metadata": {},
   "outputs": [],
   "source": [
    "llm=OpenAI(temperature=0)\n",
    "agent_chain = initialize_agent(tools, llm, agent=AgentType.CONVERSATIONAL_REACT_DESCRIPTION, verbose=True, memory=memory)\n",
    "\n",
    "agent_chain.run(input=\"hi, i am bob\")"
   ]
  },
  {
   "attachments": {},
   "cell_type": "markdown",
   "metadata": {},
   "source": [
    "# 会使用工具的Agent\n",
    "\n",
    "LLM Agent 使用语言模型的Agent ."
   ]
  },
  {
   "cell_type": "code",
   "execution_count": null,
   "metadata": {},
   "outputs": [],
   "source": [
    "from langchain.agents import Tool, AgentExecutor, LLMSingleActionAgent, AgentOutputParser\n",
    "from langchain.prompts import StringPromptTemplate\n",
    "from langchain import OpenAI, SerpAPIWrapper, LLMChain\n",
    "from langchain.chat_models import ChatOpenAI\n",
    "from typing import List, Union\n",
    "from langchain.schema import AgentAction, AgentFinish\n",
    "import re"
   ]
  },
  {
   "cell_type": "code",
   "execution_count": null,
   "metadata": {},
   "outputs": [],
   "source": [
    "# Set up the base template\n",
    "template = \"\"\"尽最大努力回答Question, 用哥们儿一样的语气说话.你可以使用以下工具:\n",
    "\n",
    "{tools}\n",
    "\n",
    "使用以下公式:\n",
    "\n",
    "Question: 输入的你必须回答的问题\n",
    "Thought: 你应该慎重考虑你要做什么\n",
    "Action: 采取的行动，行动必须是后面几个工具之一 [{tool_names}]\n",
    "Action Input: 行动的输入\n",
    "Observation: 行动的结果\n",
    "... (这四个过程 Thought/Action/Action Input/Observation 可以重复 N 次)\n",
    "Thought:我知道最终答案了。\n",
    "Final Answer: 最初问题的最终答案\n",
    "\n",
    "开始! 记住，给出最终答案的时候，要像兄弟哥们儿那样的语气说话，多用\"哈哈\"\n",
    "\n",
    "Question: {input}\n",
    "{agent_scratchpad}\"\"\""
   ]
  },
  {
   "cell_type": "code",
   "execution_count": null,
   "metadata": {},
   "outputs": [],
   "source": [
    "# Set up a prompt template\n",
    "class CustomPromptTemplate(StringPromptTemplate):\n",
    "    # The template to use\n",
    "    template: str\n",
    "    # The list of tools available\n",
    "    tools: List[Tool]\n",
    "    \n",
    "    def format(self, **kwargs) -> str:\n",
    "        # Get the intermediate steps (AgentAction, Observation tuples)\n",
    "        # Format them in a particular way\n",
    "        intermediate_steps = kwargs.pop(\"intermediate_steps\")\n",
    "        thoughts = \"\"\n",
    "        for action, observation in intermediate_steps:\n",
    "            thoughts += action.log\n",
    "            thoughts += f\"\\nObservation: {observation}\\nThought: \"\n",
    "        # Set the agent_scratchpad variable to that value\n",
    "        kwargs[\"agent_scratchpad\"] = thoughts\n",
    "        # Create a tools variable from the list of tools provided\n",
    "        kwargs[\"tools\"] = \"\\n\".join([f\"{tool.name}: {tool.description}\" for tool in self.tools])\n",
    "        # Create a list of tool names for the tools provided\n",
    "        kwargs[\"tool_names\"] = \", \".join([tool.name for tool in self.tools])\n",
    "        return self.template.format(**kwargs)"
   ]
  },
  {
   "cell_type": "code",
   "execution_count": null,
   "metadata": {},
   "outputs": [],
   "source": [
    "prompt = CustomPromptTemplate(\n",
    "    template=template,\n",
    "    tools=tools,\n",
    "    # This omits the `agent_scratchpad`, `tools`, and `tool_names` variables because those are generated dynamically\n",
    "    # This includes the `intermediate_steps` variable because that is needed\n",
    "    input_variables=[\"input\", \"intermediate_steps\"]\n",
    ")"
   ]
  },
  {
   "cell_type": "code",
   "execution_count": null,
   "metadata": {},
   "outputs": [],
   "source": [
    "class CustomOutputParser(AgentOutputParser):\n",
    "    \n",
    "    def parse(self, llm_output: str) -> Union[AgentAction, AgentFinish]:\n",
    "        # Check if agent should finish\n",
    "        if \"Final Answer:\" in llm_output:\n",
    "            return AgentFinish(\n",
    "                # Return values is generally always a dictionary with a single `output` key\n",
    "                # It is not recommended to try anything else at the moment :)\n",
    "                return_values={\"output\": llm_output.split(\"Final Answer:\")[-1].strip()},\n",
    "                log=llm_output,\n",
    "            )\n",
    "        # Parse out the action and action input\n",
    "        regex = r\"Action\\s*\\d*\\s*:(.*?)\\nAction\\s*\\d*\\s*Input\\s*\\d*\\s*:[\\s]*(.*)\"\n",
    "        match = re.search(regex, llm_output, re.DOTALL)\n",
    "        if not match:\n",
    "            raise ValueError(f\"Could not parse LLM output: `{llm_output}`\")\n",
    "        action = match.group(1).strip()\n",
    "        action_input = match.group(2)\n",
    "        # Return the action and action input\n",
    "        return AgentAction(tool=action, tool_input=action_input.strip(\" \").strip('\"'), log=llm_output)"
   ]
  },
  {
   "cell_type": "code",
   "execution_count": null,
   "metadata": {},
   "outputs": [],
   "source": [
    "output_parser = CustomOutputParser()"
   ]
  },
  {
   "cell_type": "code",
   "execution_count": null,
   "metadata": {},
   "outputs": [],
   "source": [
    "# Set up LLM\n",
    "# Choose the LLM you want to use!\n",
    "\n",
    "llm = ChatOpenAI(temperature=0)"
   ]
  },
  {
   "cell_type": "code",
   "execution_count": null,
   "metadata": {},
   "outputs": [],
   "source": [
    "#Set up the Agent\n",
    "#We can now combine everything to set up our agent\n",
    "# LLM chain consisting of the LLM and a prompt\n",
    "llm_chain = LLMChain(llm=llm, prompt=prompt)\n",
    "\n",
    "tool_names = [tool.name for tool in tools]\n",
    "agent = LLMSingleActionAgent(\n",
    "    llm_chain=llm_chain, \n",
    "    output_parser=output_parser,\n",
    "    stop=[\"\\nObservation:\"], \n",
    "    allowed_tools=tool_names\n",
    ")"
   ]
  },
  {
   "attachments": {},
   "cell_type": "markdown",
   "metadata": {},
   "source": [
    "# Use the Agent\n",
    "Now we can use it!"
   ]
  },
  {
   "cell_type": "code",
   "execution_count": null,
   "metadata": {},
   "outputs": [],
   "source": [
    "agent_executor = AgentExecutor.from_agent_and_tools(agent=agent, tools=tools, verbose=True)"
   ]
  },
  {
   "cell_type": "code",
   "execution_count": null,
   "metadata": {},
   "outputs": [],
   "source": [
    "agent_executor.run(\"How many people live in canada as of 2023?\")"
   ]
  },
  {
   "attachments": {},
   "cell_type": "markdown",
   "metadata": {},
   "source": [
    "# 下面讨论如何增加memery\n",
    "\n",
    "想增加memery,需要增加两个步骤\n",
    "* 在 custom prompt 增加 chat_history\n",
    "* 给 agent executor 增加一个 memory 对象"
   ]
  },
  {
   "cell_type": "code",
   "execution_count": null,
   "metadata": {},
   "outputs": [],
   "source": [
    "# 带history的模板\n",
    "template_with_history = \"\"\"尽你最大所能回答question, 但是说话语气要像兄弟哥们儿一样. \n",
    "你可以使用的工具包括:\n",
    "\n",
    "{tools}\n",
    "\n",
    "使用如下公式:\n",
    "\n",
    "Question: 你必须回答的问题\n",
    "Thought: 你应该谨慎思考你有做什么\n",
    "Action: 采取的行动, 必须是后面列出的行动之一 [{tool_names}]\n",
    "Action Input: 行动的输入\n",
    "Observation: 行动的结果\n",
    "... (这四个步骤的循环 Thought/Action/Action Input/Observation 可以重复 N 次)\n",
    "Thought: 我找到最终答案了\n",
    "Final Answer: 最初问题的最终答案\n",
    "\n",
    "开始! 记住，在给出最终答案的时候，要向哥们儿兄弟那样说话.多用\"哈哈\"\n",
    "\n",
    "以前对话的历史记录:\n",
    "{history}\n",
    "\n",
    "New question: {input}\n",
    "{agent_scratchpad}\"\"\""
   ]
  },
  {
   "cell_type": "code",
   "execution_count": null,
   "metadata": {},
   "outputs": [],
   "source": [
    "prompt_with_history = CustomPromptTemplate(\n",
    "    template=template_with_history,\n",
    "    tools=tools,\n",
    "    # This omits the `agent_scratchpad`, `tools`, and `tool_names` variables because those are generated dynamically\n",
    "    # This includes the `intermediate_steps` variable because that is needed\n",
    "    input_variables=[\"input\", \"intermediate_steps\", \"history\"]\n",
    ")"
   ]
  },
  {
   "cell_type": "code",
   "execution_count": null,
   "metadata": {},
   "outputs": [],
   "source": [
    "llm_chain = LLMChain(llm=llm, prompt=prompt_with_history)"
   ]
  },
  {
   "cell_type": "code",
   "execution_count": null,
   "metadata": {},
   "outputs": [],
   "source": [
    "tool_names = [tool.name for tool in tools]\n",
    "agent = LLMSingleActionAgent(\n",
    "    llm_chain=llm_chain, \n",
    "    output_parser=output_parser,\n",
    "    stop=[\"\\nObservation:\"], \n",
    "    allowed_tools=tool_names\n",
    ")"
   ]
  },
  {
   "cell_type": "code",
   "execution_count": null,
   "metadata": {},
   "outputs": [],
   "source": [
    "from langchain.memory import ConversationBufferWindowMemory\n",
    "\n",
    "memory=ConversationBufferWindowMemory(k=2)"
   ]
  },
  {
   "cell_type": "code",
   "execution_count": null,
   "metadata": {},
   "outputs": [],
   "source": [
    "agent_executor = AgentExecutor.from_agent_and_tools(agent=agent, tools=tools, verbose=True, memory=memory)"
   ]
  },
  {
   "cell_type": "code",
   "execution_count": null,
   "metadata": {},
   "outputs": [],
   "source": [
    "agent_executor.run(\"How many people live in canada as of 2023?\")"
   ]
  },
  {
   "cell_type": "code",
   "execution_count": null,
   "metadata": {},
   "outputs": [],
   "source": [
    "agent_executor.run(\"how about in mexico?\")"
   ]
  },
  {
   "attachments": {},
   "cell_type": "markdown",
   "metadata": {},
   "source": [
    "Custom MRKL Agent\n",
    "\n",
    "https://zhuanlan.zhihu.com/p/526713337 \n",
    "符号主义神经网络\n",
    "\n",
    "Michigan Repetitive Knowledge Library,简称 MRKL,是密歇根大学研发的一种人工智能技术。它主要用于训练和部署在线的智能Agent,完成各种自然语言生成任务。\n",
    "MRKL 的主要思想是:\n",
    "1. 使用预训练的大型语言模型,如GPT-3,BERT等。这些模型已经在海量的数据上预训练,具有很强的语言理解和生成能力。\n",
    "2. 通过“语言模型链技术”(Language Model Chaining)将多个语言模型串联起来使用。这是MRKL的关键技术。它将单个模型的下一步预测作为下一个模型的输入,这样可以在整个模型链上维持一致的上下文,产生连贯和长期依赖性强的生成文本。\n",
    "3. 可以对预训练语言模型进行定制和微调,以满足不同的生成任务需求。这使得MRKL可以应用于各种NLG任务,如自动摘要,对话,问答生成等。\n",
    "4. MRKL 系统本身也是一种AI Agent。它可以接收输入,根据输入和上下文生成相应的自然语言输出。研究人员和开发者可以训练定制的MRKL Agent来完成各种NLG任务。\n",
    "所以,总结一下,MRKL 是密歇根大学研发的一种人工智能技术,它通过利用和组合大型预训练语言模型,并采用“语言模型链”技术,可以构建智能的在线Agent系统,完成各种自然语言生成任务。它是一种强大的NLG工具和方法。\n",
    "\n",
    "MRKL Agent与普通的语言模型Agent(LLM Agent)有以下主要区别:\n",
    "1. MRKL Agent 使用语言模型链技术,将多个语言模型串联使用。而普通的LLM Agent通常只使用单个语言模型。\n",
    "2. MRKL Agent 可以在整个模型链上维持连贯和长期的上下文。由于使用多个模型,后续模型的输入包含前面模型的预测结果,所以可以捕捉到长期依赖关系。而普通LLM Agent每个预测都是单个模型的Fresh Start,难以建立长期上下文。\n",
    "3. MRKL Agent可以利用不同的语言模型的优势,如使用BERT进行语义解析,使用GPT-3进行语言生成。而普通LLM Agent只能使用单一模型。\n",
    "4. MRKL Agent易于定制和调整。由于是使用多个现成的语言模型,我们可以只调整某个模型或模型链的结构和参数来满足需求。而要定制一个单一的大型LLM需要大量数据和算力,难度较大。\n",
    "5. MRKL Agent可以轻松应用于各种自然语言生成任务,效果较好。由于其长期上下文和多模型的特点,MRKL Agent在自动摘要,对话,故事生成等任务上会有比较好的表现。而普通LLM Agent效果可能不及。\n",
    "所以,总体来说,MRKL Agent通过语言模型链技术和多模型组合的优势,在自然语言生成能力,长期依赖建模,定制灵活性等方面都优于普通的单一语言模型Agent。它是一种非常有潜力的新型NLG工具。\n",
    "\n"
   ]
  },
  {
   "attachments": {},
   "cell_type": "markdown",
   "metadata": {},
   "source": [
    "三个组成部分\n",
    "Tools \n",
    "LLMChain \n",
    "Agent class itself "
   ]
  },
  {
   "attachments": {},
   "cell_type": "markdown",
   "metadata": {},
   "source": [
    "重要的是prompt，构建输入输出公式format，用agent_scratchpad记录上一步的行动和结果actions/observation .\n",
    "也可以根据这些原理，做你自己的prompt . 推荐使用ZeroShotAgent，加上以下参数\n",
    "tools:可用的工具列表\n",
    "prefix: 前缀\n",
    "suffix: 后缀\n",
    "input_varibles: 输入项"
   ]
  },
  {
   "cell_type": "code",
   "execution_count": 7,
   "metadata": {},
   "outputs": [],
   "source": [
    "from langchain.agents import ZeroShotAgent, Tool, AgentExecutor\n",
    "from langchain import OpenAI, SerpAPIWrapper, LLMChain "
   ]
  },
  {
   "cell_type": "code",
   "execution_count": 10,
   "metadata": {},
   "outputs": [],
   "source": [
    "class fakefuc():\n",
    "    def run():\n",
    "        print(\"fake tool running\")\n",
    "\n",
    "\n",
    "search = fakefuc()\n",
    "tools = [\n",
    "    Tool(\n",
    "        name = \"Search\",\n",
    "        func=search.run,\n",
    "        description=\"useful for when you need to answer questions about current events\"\n",
    "    )\n",
    "]"
   ]
  },
  {
   "cell_type": "code",
   "execution_count": 13,
   "metadata": {},
   "outputs": [],
   "source": [
    "prefix = \"\"\"尽你所能回答问题, 用兄弟哥们儿的语气. 你可以使用的工具如下:\"\"\"\n",
    "suffix = \"\"\"开始! 记住，用兄弟哥们儿的语气讲话，多用\"哈哈\" \"\n",
    "\n",
    "Question: {input}\n",
    "{agent_scratchpad}\"\"\"\n",
    "\n",
    "prompt = ZeroShotAgent.create_prompt(\n",
    "    tools, \n",
    "    prefix=prefix, \n",
    "    suffix=suffix, \n",
    "    input_variables=[\"input\", \"agent_scratchpad\"]\n",
    ")"
   ]
  },
  {
   "cell_type": "code",
   "execution_count": null,
   "metadata": {},
   "outputs": [],
   "source": [
    "print(prompt.template)"
   ]
  },
  {
   "cell_type": "code",
   "execution_count": null,
   "metadata": {},
   "outputs": [],
   "source": [
    "llm_chain = LLMChain(llm=OpenAI(temperature=0), prompt=prompt)"
   ]
  },
  {
   "cell_type": "code",
   "execution_count": null,
   "metadata": {},
   "outputs": [],
   "source": [
    "tool_names = [tool.name for tool in tools]\n",
    "agent = ZeroShotAgent(llm_chain=llm_chain, allowed_tools=tool_names)"
   ]
  },
  {
   "cell_type": "code",
   "execution_count": null,
   "metadata": {},
   "outputs": [],
   "source": [
    "agent_executor = AgentExecutor.from_agent_and_tools(agent=agent, tools=tools, verbose=True)"
   ]
  },
  {
   "cell_type": "code",
   "execution_count": null,
   "metadata": {},
   "outputs": [],
   "source": [
    "agent_executor.run(\"How many people live in canada as of 2023?\")"
   ]
  },
  {
   "attachments": {},
   "cell_type": "markdown",
   "metadata": {},
   "source": [
    "# Multiple inputs\n",
    "有多个输入的情况\n",
    "增加输入项，就等于在prompt模板中增加内容。把增加的项嵌入到模板适当的位置即可。"
   ]
  },
  {
   "cell_type": "code",
   "execution_count": null,
   "metadata": {},
   "outputs": [],
   "source": [
    "# 增加一个 language 输入项\n",
    "prefix = \"\"\"Answer the following questions as best you can. You have access to the following tools:\"\"\"\n",
    "suffix = \"\"\"When answering, you MUST speak in the following language: {language}.\n",
    "\n",
    "Question: {input}\n",
    "{agent_scratchpad}\"\"\"\n",
    "\n",
    "prompt = ZeroShotAgent.create_prompt(\n",
    "    tools, \n",
    "    prefix=prefix, \n",
    "    suffix=suffix, \n",
    "    input_variables=[\"input\", \"language\", \"agent_scratchpad\"] # 增加一个 language 输入项\n",
    ")\n",
    "\n",
    "llm_chain = LLMChain(llm=OpenAI(temperature=0), prompt=prompt)\n",
    "agent = ZeroShotAgent(llm_chain=llm_chain, tools=tools)\n",
    "\n",
    "agent_executor = AgentExecutor.from_agent_and_tools(agent=agent, tools=tools, verbose=True)\n",
    "agent_executor.run(input=\"How many people live in canada as of 2023?\", language=\"italian\")# 增加一个 language 输入项"
   ]
  },
  {
   "attachments": {},
   "cell_type": "markdown",
   "metadata": {},
   "source": [
    "# MultiAction Agent\n",
    "有多个行动选择的情况\n",
    "\n",
    "fakeAgent这个例子，没有看懂奥妙。好像只是说用Agent选择工具，如何选择却没有说。\n",
    "Tool Retrieval 这个例子，用向量相似的方式，来选择工具。但是，这只能调用一次工具。只能应付简单的任务。"
   ]
  },
  {
   "cell_type": "code",
   "execution_count": 20,
   "metadata": {},
   "outputs": [],
   "source": [
    "from langchain.agents import Tool, AgentExecutor, LLMSingleActionAgent, AgentOutputParser\n",
    "from langchain.prompts import StringPromptTemplate\n",
    "from langchain import OpenAI, SerpAPIWrapper, LLMChain\n",
    "from typing import List, Union\n",
    "from langchain.schema import AgentAction, AgentFinish\n",
    "import re\n",
    "\n",
    "def random_word(query: str) -> str:\n",
    "    print(\"\\nNow I'm doing this!\")\n",
    "    return \"foo\"\n",
    "\n",
    "def fake_search(url:str) ->str:\n",
    "    print (\"\\nget \"+url ) \n",
    "    return \"\\nget \"+url \n",
    "\n",
    "def fake_func(inp: str) -> str:\n",
    "    return \"foo\"\n",
    "\n",
    "fake_tools = [\n",
    "    Tool(\n",
    "        name=f\"foo-{i}\", \n",
    "        func=fake_func, \n",
    "        description=f\"a silly function that you can use to get more information about the number {i}\"\n",
    "    ) \n",
    "    for i in range(99)\n",
    "]\n",
    "# search =  SerpAPIWrapper()\n",
    "ALL_TOOLS  = [\n",
    "    Tool(\n",
    "        name = \"Search\",\n",
    "        func=fake_search,#search.run,\n",
    "        description=\"useful for when you need to answer questions about current events\"\n",
    "    ),\n",
    "    Tool(\n",
    "        name = \"RandomWord\",\n",
    "        func=random_word,\n",
    "        description=\"call this to get a random word.\"\n",
    "    \n",
    "    )\n",
    "] + fake_tools"
   ]
  },
  {
   "cell_type": "code",
   "execution_count": 27,
   "metadata": {},
   "outputs": [],
   "source": [
    "from langchain.vectorstores import FAISS\n",
    "from langchain.embeddings import OpenAIEmbeddings\n",
    "from langchain.schema import Document\n",
    "import os\n",
    "#os.environ[\"OPENAI_API_KEY\"] = \"sk-写在.env中了\" \n",
    "\n",
    "docs = [Document(page_content=t.description, metadata={\"index\": i}) for i, t in enumerate(ALL_TOOLS)]"
   ]
  },
  {
   "cell_type": "code",
   "execution_count": null,
   "metadata": {},
   "outputs": [],
   "source": [
    "vector_store = FAISS.from_documents(docs, OpenAIEmbeddings())  \n",
    "\n",
    "retriever = vector_store.as_retriever()\n",
    "\n",
    "def get_tools(query):\n",
    "    docs = retriever.get_relevant_documents(query)\n",
    "    return [ALL_TOOLS[d.metadata[\"index\"]] for d in docs]"
   ]
  },
  {
   "cell_type": "code",
   "execution_count": null,
   "metadata": {},
   "outputs": [],
   "source": [
    "get_tools(\"whats the weather?\")"
   ]
  },
  {
   "cell_type": "code",
   "execution_count": null,
   "metadata": {},
   "outputs": [],
   "source": [
    "get_tools(\"whats the number 13?\")"
   ]
  },
  {
   "cell_type": "code",
   "execution_count": null,
   "metadata": {},
   "outputs": [],
   "source": [
    "# Set up the base template\n",
    "template = \"\"\"Answer the following questions as best you can, but speaking as a pirate might speak. You have access to the following tools:\n",
    "\n",
    "{tools}\n",
    "\n",
    "Use the following format:\n",
    "\n",
    "Question: the input question you must answer\n",
    "Thought: you should always think about what to do\n",
    "Action: the action to take, should be one of [{tool_names}]\n",
    "Action Input: the input to the action\n",
    "Observation: the result of the action\n",
    "... (this Thought/Action/Action Input/Observation can repeat N times)\n",
    "Thought: I now know the final answer\n",
    "Final Answer: the final answer to the original input question\n",
    "\n",
    "Begin! Remember to speak as a pirate when giving your final answer. Use lots of \"Arg\"s\n",
    "\n",
    "Question: {input}\n",
    "{agent_scratchpad}\"\"\""
   ]
  },
  {
   "cell_type": "code",
   "execution_count": null,
   "metadata": {},
   "outputs": [],
   "source": [
    "from typing import Callable\n",
    "# Set up a prompt template\n",
    "class CustomPromptTemplate(StringPromptTemplate):\n",
    "    # The template to use\n",
    "    template: str\n",
    "    ############## NEW ######################\n",
    "    # The list of tools available\n",
    "    tools_getter: Callable\n",
    "    \n",
    "    def format(self, **kwargs) -> str:\n",
    "        # Get the intermediate steps (AgentAction, Observation tuples)\n",
    "        # Format them in a particular way\n",
    "        intermediate_steps = kwargs.pop(\"intermediate_steps\")\n",
    "        thoughts = \"\"\n",
    "        for action, observation in intermediate_steps:\n",
    "            thoughts += action.log\n",
    "            thoughts += f\"\\nObservation: {observation}\\nThought: \"\n",
    "        # Set the agent_scratchpad variable to that value\n",
    "        kwargs[\"agent_scratchpad\"] = thoughts\n",
    "        ############## NEW ######################\n",
    "        tools = self.tools_getter(kwargs[\"input\"])\n",
    "        # Create a tools variable from the list of tools provided\n",
    "        kwargs[\"tools\"] = \"\\n\".join([f\"{tool.name}: {tool.description}\" for tool in tools])\n",
    "        # Create a list of tool names for the tools provided\n",
    "        kwargs[\"tool_names\"] = \", \".join([tool.name for tool in tools])\n",
    "        return self.template.format(**kwargs)"
   ]
  },
  {
   "cell_type": "code",
   "execution_count": null,
   "metadata": {},
   "outputs": [],
   "source": [
    "prompt = CustomPromptTemplate(\n",
    "    template=template,\n",
    "    tools_getter=get_tools,\n",
    "    # This omits the `agent_scratchpad`, `tools`, and `tool_names` variables because those are generated dynamically\n",
    "    # This includes the `intermediate_steps` variable because that is needed\n",
    "    input_variables=[\"input\", \"intermediate_steps\"]\n",
    ")"
   ]
  },
  {
   "cell_type": "code",
   "execution_count": null,
   "metadata": {},
   "outputs": [],
   "source": [
    "class CustomOutputParser(AgentOutputParser):\n",
    "    \n",
    "    def parse(self, llm_output: str) -> Union[AgentAction, AgentFinish]:\n",
    "        # Check if agent should finish\n",
    "        if \"Final Answer:\" in llm_output:\n",
    "            return AgentFinish(\n",
    "                # Return values is generally always a dictionary with a single `output` key\n",
    "                # It is not recommended to try anything else at the moment :)\n",
    "                return_values={\"output\": llm_output.split(\"Final Answer:\")[-1].strip()},\n",
    "                log=llm_output,\n",
    "            )\n",
    "        # Parse out the action and action input\n",
    "        regex = r\"Action\\s*\\d*\\s*:(.*?)\\nAction\\s*\\d*\\s*Input\\s*\\d*\\s*:[\\s]*(.*)\"\n",
    "        match = re.search(regex, llm_output, re.DOTALL)\n",
    "        if not match:\n",
    "            raise ValueError(f\"Could not parse LLM output: `{llm_output}`\")\n",
    "        action = match.group(1).strip()\n",
    "        action_input = match.group(2)\n",
    "        # Return the action and action input\n",
    "        return AgentAction(tool=action, tool_input=action_input.strip(\" \").strip('\"'), log=llm_output)"
   ]
  },
  {
   "cell_type": "code",
   "execution_count": null,
   "metadata": {},
   "outputs": [],
   "source": [
    "llm = OpenAI(temperature=0)\n",
    "# LLM chain consisting of the LLM and a prompt\n",
    "llm_chain = LLMChain(llm=llm, prompt=prompt)\n",
    "\n",
    "tools = get_tools(\"whats the weather?\")\n",
    "tool_names = [tool.name for tool in tools]\n",
    "\n",
    "agent = LLMSingleActionAgent(\n",
    "    llm_chain=llm_chain, \n",
    "    output_parser=output_parser,\n",
    "    stop=[\"\\nObservation:\"], \n",
    "    allowed_tools=tool_names\n",
    ")"
   ]
  },
  {
   "cell_type": "code",
   "execution_count": null,
   "metadata": {},
   "outputs": [],
   "source": [
    "agent_executor = AgentExecutor.from_agent_and_tools(agent=agent, tools=tools, verbose=True)"
   ]
  },
  {
   "cell_type": "code",
   "execution_count": null,
   "metadata": {},
   "outputs": [],
   "source": [
    "agent_executor.run(\"What's the weather in SF?\")"
   ]
  }
 ],
 "metadata": {
  "kernelspec": {
   "display_name": "lanChain",
   "language": "python",
   "name": "python3"
  },
  "language_info": {
   "codemirror_mode": {
    "name": "ipython",
    "version": 3
   },
   "file_extension": ".py",
   "mimetype": "text/x-python",
   "name": "python",
   "nbconvert_exporter": "python",
   "pygments_lexer": "ipython3",
   "version": "3.10.10"
  },
  "orig_nbformat": 4
 },
 "nbformat": 4,
 "nbformat_minor": 2
}
