{
 "cells": [
  {
   "attachments": {},
   "cell_type": "markdown",
   "metadata": {},
   "source": [
    "关于内容审核\n",
    "使用阿里的内容审核自动化\n",
    "https://blog.csdn.net/kk_lina/article/details/126324947\n",
    "\n",
    "https://vision.aliyun.com/imageaudit?utm_content=se_1011116957 阿里\n",
    "https://help.aliyun.com/document_detail/202478.html?spm=a2cvz.27720591.J_4664141320.3.7d796777KTzfPB 价格死贵，太坑了。\n",
    "\n",
    "## 如何有便宜而又够用的内容审核呢？\n",
    "成都有一家 谛听 ，服务多家企业。不过好像也很贵。\n",
    "\n",
    "\n",
    "\n"
   ]
  },
  {
   "cell_type": "code",
   "execution_count": null,
   "metadata": {},
   "outputs": [],
   "source": []
  },
  {
   "cell_type": "markdown",
   "metadata": {},
   "source": []
  }
 ],
 "metadata": {
  "language_info": {
   "name": "python"
  },
  "orig_nbformat": 4
 },
 "nbformat": 4,
 "nbformat_minor": 2
}
